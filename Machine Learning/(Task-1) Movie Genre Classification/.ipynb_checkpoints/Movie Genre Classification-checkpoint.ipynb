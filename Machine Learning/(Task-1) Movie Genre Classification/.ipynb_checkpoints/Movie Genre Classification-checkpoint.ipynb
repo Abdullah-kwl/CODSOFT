{
 "cells": [
  {
   "cell_type": "code",
   "execution_count": 1,
   "id": "8ab71da6",
   "metadata": {},
   "outputs": [],
   "source": [
    "import pandas as pd\n",
    "import numpy as np \n",
    "\n",
    "import matplotlib.pyplot as plt\n",
    "import seaborn as sns\n",
    "import plotly.express as px\n",
    "\n",
    "import re\n",
    "import string\n",
    "import nltk\n",
    "import pycountry\n",
    "from time import time\n",
    "from langdetect import detect\n",
    "from googletrans import Translator\n",
    "\n",
    "from imblearn.over_sampling import RandomOverSampler\n",
    "from sklearn.feature_extraction.text import TfidfVectorizer\n",
    "from sklearn.naive_bayes import MultinomialNB\n",
    "from sklearn.linear_model import LogisticRegression\n",
    "from sklearn.ensemble import RandomForestClassifier\n",
    "from sklearn.metrics import accuracy_score,classification_report"
   ]
  },
  {
   "cell_type": "markdown",
   "id": "74ff1309",
   "metadata": {},
   "source": [
    "# Read Data Files"
   ]
  },
  {
   "cell_type": "markdown",
   "id": "aac57afe",
   "metadata": {},
   "source": [
    "Reading traning data"
   ]
  },
  {
   "cell_type": "code",
   "execution_count": 2,
   "id": "448c8c95",
   "metadata": {},
   "outputs": [],
   "source": [
    "train = pd.read_csv('Genre Classification Dataset/train_data.txt',sep=\":::\",engine ='python',names=['Title', 'Genre', 'Description']).reset_index(drop=True)"
   ]
  },
  {
   "cell_type": "code",
   "execution_count": 3,
   "id": "f721f2b8",
   "metadata": {},
   "outputs": [
    {
     "data": {
      "text/html": [
       "<div>\n",
       "<style scoped>\n",
       "    .dataframe tbody tr th:only-of-type {\n",
       "        vertical-align: middle;\n",
       "    }\n",
       "\n",
       "    .dataframe tbody tr th {\n",
       "        vertical-align: top;\n",
       "    }\n",
       "\n",
       "    .dataframe thead th {\n",
       "        text-align: right;\n",
       "    }\n",
       "</style>\n",
       "<table border=\"1\" class=\"dataframe\">\n",
       "  <thead>\n",
       "    <tr style=\"text-align: right;\">\n",
       "      <th></th>\n",
       "      <th>Title</th>\n",
       "      <th>Genre</th>\n",
       "      <th>Description</th>\n",
       "    </tr>\n",
       "  </thead>\n",
       "  <tbody>\n",
       "    <tr>\n",
       "      <th>0</th>\n",
       "      <td>Oscar et la dame rose (2009)</td>\n",
       "      <td>drama</td>\n",
       "      <td>Listening in to a conversation between his do...</td>\n",
       "    </tr>\n",
       "    <tr>\n",
       "      <th>1</th>\n",
       "      <td>Cupid (1997)</td>\n",
       "      <td>thriller</td>\n",
       "      <td>A brother and sister with a past incestuous r...</td>\n",
       "    </tr>\n",
       "    <tr>\n",
       "      <th>2</th>\n",
       "      <td>Young, Wild and Wonderful (1980)</td>\n",
       "      <td>adult</td>\n",
       "      <td>As the bus empties the students for their fie...</td>\n",
       "    </tr>\n",
       "    <tr>\n",
       "      <th>3</th>\n",
       "      <td>The Secret Sin (1915)</td>\n",
       "      <td>drama</td>\n",
       "      <td>To help their unemployed father make ends mee...</td>\n",
       "    </tr>\n",
       "    <tr>\n",
       "      <th>4</th>\n",
       "      <td>The Unrecovered (2007)</td>\n",
       "      <td>drama</td>\n",
       "      <td>The film's title refers not only to the un-re...</td>\n",
       "    </tr>\n",
       "  </tbody>\n",
       "</table>\n",
       "</div>"
      ],
      "text/plain": [
       "                                Title       Genre  \\\n",
       "0       Oscar et la dame rose (2009)       drama    \n",
       "1                       Cupid (1997)    thriller    \n",
       "2   Young, Wild and Wonderful (1980)       adult    \n",
       "3              The Secret Sin (1915)       drama    \n",
       "4             The Unrecovered (2007)       drama    \n",
       "\n",
       "                                         Description  \n",
       "0   Listening in to a conversation between his do...  \n",
       "1   A brother and sister with a past incestuous r...  \n",
       "2   As the bus empties the students for their fie...  \n",
       "3   To help their unemployed father make ends mee...  \n",
       "4   The film's title refers not only to the un-re...  "
      ]
     },
     "execution_count": 3,
     "metadata": {},
     "output_type": "execute_result"
    }
   ],
   "source": [
    "train.head()"
   ]
  },
  {
   "cell_type": "markdown",
   "id": "6aca792e",
   "metadata": {},
   "source": [
    "Reading testing data"
   ]
  },
  {
   "cell_type": "code",
   "execution_count": 4,
   "id": "9ff3966e",
   "metadata": {},
   "outputs": [],
   "source": [
    "test = pd.read_csv('Genre Classification Dataset/test_data.txt',sep=\":::\",engine ='python',names=['Title', 'Description']).reset_index(drop=True)"
   ]
  },
  {
   "cell_type": "code",
   "execution_count": 5,
   "id": "3ea36cb5",
   "metadata": {},
   "outputs": [
    {
     "data": {
      "text/html": [
       "<div>\n",
       "<style scoped>\n",
       "    .dataframe tbody tr th:only-of-type {\n",
       "        vertical-align: middle;\n",
       "    }\n",
       "\n",
       "    .dataframe tbody tr th {\n",
       "        vertical-align: top;\n",
       "    }\n",
       "\n",
       "    .dataframe thead th {\n",
       "        text-align: right;\n",
       "    }\n",
       "</style>\n",
       "<table border=\"1\" class=\"dataframe\">\n",
       "  <thead>\n",
       "    <tr style=\"text-align: right;\">\n",
       "      <th></th>\n",
       "      <th>Title</th>\n",
       "      <th>Description</th>\n",
       "    </tr>\n",
       "  </thead>\n",
       "  <tbody>\n",
       "    <tr>\n",
       "      <th>0</th>\n",
       "      <td>Edgar's Lunch (1998)</td>\n",
       "      <td>L.R. Brane loves his life - his car, his apar...</td>\n",
       "    </tr>\n",
       "    <tr>\n",
       "      <th>1</th>\n",
       "      <td>La guerra de papá (1977)</td>\n",
       "      <td>Spain, March 1964: Quico is a very naughty ch...</td>\n",
       "    </tr>\n",
       "    <tr>\n",
       "      <th>2</th>\n",
       "      <td>Off the Beaten Track (2010)</td>\n",
       "      <td>One year in the life of Albin and his family ...</td>\n",
       "    </tr>\n",
       "    <tr>\n",
       "      <th>3</th>\n",
       "      <td>Meu Amigo Hindu (2015)</td>\n",
       "      <td>His father has died, he hasn't spoken with hi...</td>\n",
       "    </tr>\n",
       "    <tr>\n",
       "      <th>4</th>\n",
       "      <td>Er nu zhai (1955)</td>\n",
       "      <td>Before he was known internationally as a mart...</td>\n",
       "    </tr>\n",
       "  </tbody>\n",
       "</table>\n",
       "</div>"
      ],
      "text/plain": [
       "                           Title  \\\n",
       "0          Edgar's Lunch (1998)    \n",
       "1      La guerra de papá (1977)    \n",
       "2   Off the Beaten Track (2010)    \n",
       "3        Meu Amigo Hindu (2015)    \n",
       "4             Er nu zhai (1955)    \n",
       "\n",
       "                                         Description  \n",
       "0   L.R. Brane loves his life - his car, his apar...  \n",
       "1   Spain, March 1964: Quico is a very naughty ch...  \n",
       "2   One year in the life of Albin and his family ...  \n",
       "3   His father has died, he hasn't spoken with hi...  \n",
       "4   Before he was known internationally as a mart...  "
      ]
     },
     "execution_count": 5,
     "metadata": {},
     "output_type": "execute_result"
    }
   ],
   "source": [
    "test.head()"
   ]
  },
  {
   "cell_type": "markdown",
   "id": "7524efb3",
   "metadata": {},
   "source": [
    "# Exploring Data"
   ]
  },
  {
   "cell_type": "markdown",
   "id": "0a7f77cd",
   "metadata": {},
   "source": [
    "#### For Training Data"
   ]
  },
  {
   "cell_type": "code",
   "execution_count": 6,
   "id": "521f2edd",
   "metadata": {},
   "outputs": [
    {
     "data": {
      "text/html": [
       "<div>\n",
       "<style scoped>\n",
       "    .dataframe tbody tr th:only-of-type {\n",
       "        vertical-align: middle;\n",
       "    }\n",
       "\n",
       "    .dataframe tbody tr th {\n",
       "        vertical-align: top;\n",
       "    }\n",
       "\n",
       "    .dataframe thead th {\n",
       "        text-align: right;\n",
       "    }\n",
       "</style>\n",
       "<table border=\"1\" class=\"dataframe\">\n",
       "  <thead>\n",
       "    <tr style=\"text-align: right;\">\n",
       "      <th></th>\n",
       "      <th>Title</th>\n",
       "      <th>Genre</th>\n",
       "      <th>Description</th>\n",
       "    </tr>\n",
       "  </thead>\n",
       "  <tbody>\n",
       "    <tr>\n",
       "      <th>count</th>\n",
       "      <td>54214</td>\n",
       "      <td>54214</td>\n",
       "      <td>54214</td>\n",
       "    </tr>\n",
       "    <tr>\n",
       "      <th>unique</th>\n",
       "      <td>54214</td>\n",
       "      <td>27</td>\n",
       "      <td>54086</td>\n",
       "    </tr>\n",
       "    <tr>\n",
       "      <th>top</th>\n",
       "      <td>Untitled Thug Life Project (????)</td>\n",
       "      <td>drama</td>\n",
       "      <td>Grammy - music award of the American academy ...</td>\n",
       "    </tr>\n",
       "    <tr>\n",
       "      <th>freq</th>\n",
       "      <td>1</td>\n",
       "      <td>13613</td>\n",
       "      <td>12</td>\n",
       "    </tr>\n",
       "  </tbody>\n",
       "</table>\n",
       "</div>"
      ],
      "text/plain": [
       "                                      Title    Genre  \\\n",
       "count                                 54214    54214   \n",
       "unique                                54214       27   \n",
       "top      Untitled Thug Life Project (????)    drama    \n",
       "freq                                      1    13613   \n",
       "\n",
       "                                              Description  \n",
       "count                                               54214  \n",
       "unique                                              54086  \n",
       "top      Grammy - music award of the American academy ...  \n",
       "freq                                                   12  "
      ]
     },
     "execution_count": 6,
     "metadata": {},
     "output_type": "execute_result"
    }
   ],
   "source": [
    "train.describe(include='O')"
   ]
  },
  {
   "cell_type": "code",
   "execution_count": 7,
   "id": "e76021b7",
   "metadata": {},
   "outputs": [
    {
     "name": "stdout",
     "output_type": "stream",
     "text": [
      "<class 'pandas.core.frame.DataFrame'>\n",
      "RangeIndex: 54214 entries, 0 to 54213\n",
      "Data columns (total 3 columns):\n",
      " #   Column       Non-Null Count  Dtype \n",
      "---  ------       --------------  ----- \n",
      " 0   Title        54214 non-null  object\n",
      " 1   Genre        54214 non-null  object\n",
      " 2   Description  54214 non-null  object\n",
      "dtypes: object(3)\n",
      "memory usage: 1.2+ MB\n"
     ]
    }
   ],
   "source": [
    "train.info()"
   ]
  },
  {
   "cell_type": "code",
   "execution_count": 8,
   "id": "bae444ab",
   "metadata": {},
   "outputs": [
    {
     "name": "stdout",
     "output_type": "stream",
     "text": [
      "NO of Duplicated rows in Training Dataset = 0\n"
     ]
    }
   ],
   "source": [
    "duplicated=train.duplicated().sum()\n",
    "print(\"NO of Duplicated rows in Training Dataset =\",duplicated)"
   ]
  },
  {
   "cell_type": "code",
   "execution_count": 9,
   "id": "d005875f",
   "metadata": {},
   "outputs": [
    {
     "data": {
      "text/plain": [
       "array([' drama ', ' thriller ', ' adult ', ' documentary ', ' comedy ',\n",
       "       ' crime ', ' reality-tv ', ' horror ', ' sport ', ' animation ',\n",
       "       ' action ', ' fantasy ', ' short ', ' sci-fi ', ' music ',\n",
       "       ' adventure ', ' talk-show ', ' western ', ' family ', ' mystery ',\n",
       "       ' history ', ' news ', ' biography ', ' romance ', ' game-show ',\n",
       "       ' musical ', ' war '], dtype=object)"
      ]
     },
     "execution_count": 9,
     "metadata": {},
     "output_type": "execute_result"
    }
   ],
   "source": [
    "train.Genre.unique()"
   ]
  },
  {
   "cell_type": "code",
   "execution_count": 10,
   "id": "1b7396b4",
   "metadata": {},
   "outputs": [
    {
     "name": "stdout",
     "output_type": "stream",
     "text": [
      "NO of Unique Genre in Training Dataset = 0\n"
     ]
    }
   ],
   "source": [
    "train.Genre.nunique()\n",
    "print(\"NO of Unique Genre in Training Dataset =\",duplicated)"
   ]
  },
  {
   "cell_type": "markdown",
   "id": "e4cd371d",
   "metadata": {},
   "source": [
    "#### For Testing Data"
   ]
  },
  {
   "cell_type": "code",
   "execution_count": 11,
   "id": "6ecf4d5c",
   "metadata": {},
   "outputs": [
    {
     "data": {
      "text/html": [
       "<div>\n",
       "<style scoped>\n",
       "    .dataframe tbody tr th:only-of-type {\n",
       "        vertical-align: middle;\n",
       "    }\n",
       "\n",
       "    .dataframe tbody tr th {\n",
       "        vertical-align: top;\n",
       "    }\n",
       "\n",
       "    .dataframe thead th {\n",
       "        text-align: right;\n",
       "    }\n",
       "</style>\n",
       "<table border=\"1\" class=\"dataframe\">\n",
       "  <thead>\n",
       "    <tr style=\"text-align: right;\">\n",
       "      <th></th>\n",
       "      <th>Title</th>\n",
       "      <th>Description</th>\n",
       "    </tr>\n",
       "  </thead>\n",
       "  <tbody>\n",
       "    <tr>\n",
       "      <th>count</th>\n",
       "      <td>54200</td>\n",
       "      <td>54200</td>\n",
       "    </tr>\n",
       "    <tr>\n",
       "      <th>unique</th>\n",
       "      <td>54200</td>\n",
       "      <td>54072</td>\n",
       "    </tr>\n",
       "    <tr>\n",
       "      <th>top</th>\n",
       "      <td>\"The Farm\" (2004)</td>\n",
       "      <td>Grammy - music award of the American academy ...</td>\n",
       "    </tr>\n",
       "    <tr>\n",
       "      <th>freq</th>\n",
       "      <td>1</td>\n",
       "      <td>10</td>\n",
       "    </tr>\n",
       "  </tbody>\n",
       "</table>\n",
       "</div>"
      ],
      "text/plain": [
       "                      Title                                        Description\n",
       "count                 54200                                              54200\n",
       "unique                54200                                              54072\n",
       "top      \"The Farm\" (2004)    Grammy - music award of the American academy ...\n",
       "freq                      1                                                 10"
      ]
     },
     "execution_count": 11,
     "metadata": {},
     "output_type": "execute_result"
    }
   ],
   "source": [
    "test.describe(include='O')"
   ]
  },
  {
   "cell_type": "code",
   "execution_count": 12,
   "id": "31047088",
   "metadata": {},
   "outputs": [
    {
     "name": "stdout",
     "output_type": "stream",
     "text": [
      "<class 'pandas.core.frame.DataFrame'>\n",
      "RangeIndex: 54200 entries, 0 to 54199\n",
      "Data columns (total 2 columns):\n",
      " #   Column       Non-Null Count  Dtype \n",
      "---  ------       --------------  ----- \n",
      " 0   Title        54200 non-null  object\n",
      " 1   Description  54200 non-null  object\n",
      "dtypes: object(2)\n",
      "memory usage: 847.0+ KB\n"
     ]
    }
   ],
   "source": [
    "test.info()"
   ]
  },
  {
   "cell_type": "code",
   "execution_count": 13,
   "id": "ebc2c902",
   "metadata": {},
   "outputs": [
    {
     "name": "stdout",
     "output_type": "stream",
     "text": [
      "NO of Duplicated rows in Testing Dataset = 0\n"
     ]
    }
   ],
   "source": [
    "duplicated=test.duplicated().sum()\n",
    "print(\"NO of Duplicated rows in Testing Dataset =\",duplicated)"
   ]
  },
  {
   "cell_type": "markdown",
   "id": "6af14f39",
   "metadata": {},
   "source": [
    "# Exploratory Data Analysis"
   ]
  },
  {
   "cell_type": "markdown",
   "id": "07f7e859",
   "metadata": {},
   "source": [
    "#### Text Cleaning"
   ]
  },
  {
   "cell_type": "markdown",
   "id": "a104f05b",
   "metadata": {},
   "source": [
    "#### Searching for anomalies in description:\n",
    "\n",
    "* Punctuations\n",
    "* HTTP\n",
    "* Numbers"
   ]
  },
  {
   "cell_type": "code",
   "execution_count": 14,
   "id": "74045517",
   "metadata": {},
   "outputs": [
    {
     "data": {
      "text/html": [
       "<div>\n",
       "<style scoped>\n",
       "    .dataframe tbody tr th:only-of-type {\n",
       "        vertical-align: middle;\n",
       "    }\n",
       "\n",
       "    .dataframe tbody tr th {\n",
       "        vertical-align: top;\n",
       "    }\n",
       "\n",
       "    .dataframe thead th {\n",
       "        text-align: right;\n",
       "    }\n",
       "</style>\n",
       "<table border=\"1\" class=\"dataframe\">\n",
       "  <thead>\n",
       "    <tr style=\"text-align: right;\">\n",
       "      <th></th>\n",
       "      <th>Title</th>\n",
       "      <th>Genre</th>\n",
       "      <th>Description</th>\n",
       "    </tr>\n",
       "  </thead>\n",
       "  <tbody>\n",
       "    <tr>\n",
       "      <th>242</th>\n",
       "      <td>Túlvilági beszélö (1992)</td>\n",
       "      <td>documentary</td>\n",
       "      <td>Mail &lt;svaradi@sprynet.com&gt; for translation. T...</td>\n",
       "    </tr>\n",
       "    <tr>\n",
       "      <th>1880</th>\n",
       "      <td>Rokonok (1954)</td>\n",
       "      <td>drama</td>\n",
       "      <td>Mail &lt;svaradi@sprynet.com&gt; for translation. F...</td>\n",
       "    </tr>\n",
       "    <tr>\n",
       "      <th>1986</th>\n",
       "      <td>Lila akác (1934)</td>\n",
       "      <td>comedy</td>\n",
       "      <td>Mail &lt;svaradi@sprynet.com&gt; for translation. S...</td>\n",
       "    </tr>\n",
       "    <tr>\n",
       "      <th>6579</th>\n",
       "      <td>A csúnya lány (1935)</td>\n",
       "      <td>comedy</td>\n",
       "      <td>Mail &lt;svaradi@sprynet.com&gt; for translation. D...</td>\n",
       "    </tr>\n",
       "    <tr>\n",
       "      <th>8296</th>\n",
       "      <td>Füszer és csemege (1940)</td>\n",
       "      <td>drama</td>\n",
       "      <td>Mail &lt;svaradi@sprynet.com&gt; for translation. 5...</td>\n",
       "    </tr>\n",
       "  </tbody>\n",
       "</table>\n",
       "</div>"
      ],
      "text/plain": [
       "                           Title          Genre  \\\n",
       "242    Túlvilági beszélö (1992)    documentary    \n",
       "1880             Rokonok (1954)          drama    \n",
       "1986           Lila akác (1934)         comedy    \n",
       "6579       A csúnya lány (1935)         comedy    \n",
       "8296   Füszer és csemege (1940)          drama    \n",
       "\n",
       "                                            Description  \n",
       "242    Mail <svaradi@sprynet.com> for translation. T...  \n",
       "1880   Mail <svaradi@sprynet.com> for translation. F...  \n",
       "1986   Mail <svaradi@sprynet.com> for translation. S...  \n",
       "6579   Mail <svaradi@sprynet.com> for translation. D...  \n",
       "8296   Mail <svaradi@sprynet.com> for translation. 5...  "
      ]
     },
     "execution_count": 14,
     "metadata": {},
     "output_type": "execute_result"
    }
   ],
   "source": [
    "train.loc[train['Description'].str.contains(r'@\\S+')].head()"
   ]
  },
  {
   "cell_type": "code",
   "execution_count": 15,
   "id": "f0eac430",
   "metadata": {},
   "outputs": [
    {
     "data": {
      "text/html": [
       "<div>\n",
       "<style scoped>\n",
       "    .dataframe tbody tr th:only-of-type {\n",
       "        vertical-align: middle;\n",
       "    }\n",
       "\n",
       "    .dataframe tbody tr th {\n",
       "        vertical-align: top;\n",
       "    }\n",
       "\n",
       "    .dataframe thead th {\n",
       "        text-align: right;\n",
       "    }\n",
       "</style>\n",
       "<table border=\"1\" class=\"dataframe\">\n",
       "  <thead>\n",
       "    <tr style=\"text-align: right;\">\n",
       "      <th></th>\n",
       "      <th>Title</th>\n",
       "      <th>Genre</th>\n",
       "      <th>Description</th>\n",
       "      <th>Language</th>\n",
       "    </tr>\n",
       "  </thead>\n",
       "  <tbody>\n",
       "    <tr>\n",
       "      <th>0</th>\n",
       "      <td>Oscar et la dame rose (2009)</td>\n",
       "      <td>drama</td>\n",
       "      <td>Listening in to a conversation between his do...</td>\n",
       "      <td>english</td>\n",
       "    </tr>\n",
       "    <tr>\n",
       "      <th>1</th>\n",
       "      <td>Cupid (1997)</td>\n",
       "      <td>thriller</td>\n",
       "      <td>A brother and sister with a past incestuous r...</td>\n",
       "      <td>english</td>\n",
       "    </tr>\n",
       "    <tr>\n",
       "      <th>2</th>\n",
       "      <td>Young, Wild and Wonderful (1980)</td>\n",
       "      <td>adult</td>\n",
       "      <td>As the bus empties the students for their fie...</td>\n",
       "      <td>english</td>\n",
       "    </tr>\n",
       "    <tr>\n",
       "      <th>3</th>\n",
       "      <td>The Secret Sin (1915)</td>\n",
       "      <td>drama</td>\n",
       "      <td>To help their unemployed father make ends mee...</td>\n",
       "      <td>english</td>\n",
       "    </tr>\n",
       "    <tr>\n",
       "      <th>4</th>\n",
       "      <td>The Unrecovered (2007)</td>\n",
       "      <td>drama</td>\n",
       "      <td>The film's title refers not only to the un-re...</td>\n",
       "      <td>english</td>\n",
       "    </tr>\n",
       "  </tbody>\n",
       "</table>\n",
       "</div>"
      ],
      "text/plain": [
       "                                Title       Genre  \\\n",
       "0       Oscar et la dame rose (2009)       drama    \n",
       "1                       Cupid (1997)    thriller    \n",
       "2   Young, Wild and Wonderful (1980)       adult    \n",
       "3              The Secret Sin (1915)       drama    \n",
       "4             The Unrecovered (2007)       drama    \n",
       "\n",
       "                                         Description Language  \n",
       "0   Listening in to a conversation between his do...  english  \n",
       "1   A brother and sister with a past incestuous r...  english  \n",
       "2   As the bus empties the students for their fie...  english  \n",
       "3   To help their unemployed father make ends mee...  english  \n",
       "4   The film's title refers not only to the un-re...  english  "
      ]
     },
     "execution_count": 15,
     "metadata": {},
     "output_type": "execute_result"
    }
   ],
   "source": [
    "#We discover that there is more than one language so we need to handle that\n",
    "#First we need to discover different languages\n",
    "def detect_language(text):\n",
    "    try:\n",
    "        #Returning the name 'English instide of en'\n",
    "        return pycountry.languages.get(alpha_2=detect(text)).name.lower()\n",
    "    except:\n",
    "        return 'Unknown'\n",
    "train['Language'] = train['Description'].apply(detect_language)\n",
    "test['Language'] = test['Description'].apply(detect_language)\n",
    "train.head()"
   ]
  },
  {
   "cell_type": "code",
   "execution_count": 16,
   "id": "0ab53722",
   "metadata": {},
   "outputs": [
    {
     "data": {
      "text/plain": [
       "english       53844\n",
       "french          144\n",
       "italian         109\n",
       "spanish          41\n",
       "hungarian        37\n",
       "norwegian        17\n",
       "german           16\n",
       "catalan           1\n",
       "vietnamese        1\n",
       "portuguese        1\n",
       "dutch             1\n",
       "albanian          1\n",
       "slovenian         1\n",
       "Name: Language, dtype: int64"
      ]
     },
     "execution_count": 16,
     "metadata": {},
     "output_type": "execute_result"
    }
   ],
   "source": [
    "train['Language'].value_counts()"
   ]
  },
  {
   "cell_type": "code",
   "execution_count": 17,
   "id": "3892a59c",
   "metadata": {},
   "outputs": [],
   "source": [
    "# train.to_csv('train_lang.csv',index=False)\n",
    "# test.to_csv('test_lang.csv',index=False)"
   ]
  },
  {
   "cell_type": "code",
   "execution_count": 18,
   "id": "07454190",
   "metadata": {},
   "outputs": [
    {
     "data": {
      "image/png": "[encoded data removed]",
      "text/plain": [
       "<Figure size 640x480 with 1 Axes>"
      ]
     },
     "metadata": {},
     "output_type": "display_data"
    }
   ],
   "source": [
    "plt.pie(train.Language.value_counts().values.tolist(),autopct='%.2f%%')\n",
    "plt.show()"
   ]
  },
  {
   "cell_type": "code",
   "execution_count": 19,
   "id": "ba57940b",
   "metadata": {},
   "outputs": [
    {
     "data": {
      "text/plain": [
       "<AxesSubplot:xlabel='count', ylabel='Language'>"
      ]
     },
     "execution_count": 19,
     "metadata": {},
     "output_type": "execute_result"
    },
    {
     "data": {
      "image/png": "[encoded data removed]",
      "text/plain": [
       "<Figure size 640x480 with 1 Axes>"
      ]
     },
     "metadata": {},
     "output_type": "display_data"
    }
   ],
   "source": [
    "sns.countplot(data=train,y='Language',order=train.Language.value_counts().index.tolist(),color='lightblue')"
   ]
  },
  {
   "cell_type": "code",
   "execution_count": 20,
   "id": "bc9f5388",
   "metadata": {},
   "outputs": [
    {
     "data": {
      "text/plain": [
       "<AxesSubplot:>"
      ]
     },
     "execution_count": 20,
     "metadata": {},
     "output_type": "execute_result"
    },
    {
     "data": {
      "image/png": "[encoded data removed]",
      "text/plain": [
       "<Figure size 640x480 with 1 Axes>"
      ]
     },
     "metadata": {},
     "output_type": "display_data"
    }
   ],
   "source": [
    "train.Language.value_counts().plot(kind='bar')"
   ]
  },
  {
   "cell_type": "code",
   "execution_count": 21,
   "id": "9a72b3d7",
   "metadata": {},
   "outputs": [
    {
     "data": {
      "text/plain": [
       "english       53844\n",
       "french          144\n",
       "italian         109\n",
       "spanish          41\n",
       "hungarian        37\n",
       "norwegian        17\n",
       "german           16\n",
       "catalan           1\n",
       "vietnamese        1\n",
       "portuguese        1\n",
       "dutch             1\n",
       "albanian          1\n",
       "slovenian         1\n",
       "Name: Language, dtype: int64"
      ]
     },
     "execution_count": 21,
     "metadata": {},
     "output_type": "execute_result"
    }
   ],
   "source": [
    "train.Language.value_counts()"
   ]
  },
  {
   "cell_type": "code",
   "execution_count": 22,
   "id": "170cddd0",
   "metadata": {},
   "outputs": [
    {
     "data": {
      "text/plain": [
       "9"
      ]
     },
     "execution_count": 22,
     "metadata": {},
     "output_type": "execute_result"
    }
   ],
   "source": [
    "#Descriptions included HTTP links\n",
    "train.loc[train['Description'].str.contains(r'http\\S+')].shape[0]"
   ]
  },
  {
   "cell_type": "code",
   "execution_count": 23,
   "id": "90909538",
   "metadata": {},
   "outputs": [
    {
     "data": {
      "text/plain": [
       "\" There's more to the story of the Clintons and 9/11. Over two nights -- September 10-11, 2006, just four months before Hillary announced the exploratory committee for her original presidential campaign, ABC aired The Path to 9/11, a riveting and factual docudrama. This acclaimed and balanced movie faulted two administrations -- Bill Clinton and George W. Bush. But fairness was not what Hillary wanted. Screenwriter Cyrus Nowrasteh told me he had expected the customary DVD distribution. But the Clintons, fearing the impact of DVD release during her campaign, successfully pressured Disney, which owns ABC, to bury the movie. This is a portion of a news article that originally appeared: http://www.frontpagemag.com/fpm/261541/hillarys-path-back-911-arnold-steinberg This article originally appeared in The Huffington Post http://www.huffingtonpost.com/arnold-steinberg/hillarys-path-back-to-911_b_9039658.html This article was written by Arnold Steinberg from Huffington Post and was legally licensed through the NewsCred publisher network.\""
      ]
     },
     "execution_count": 23,
     "metadata": {},
     "output_type": "execute_result"
    }
   ],
   "source": [
    "#For example\n",
    "train.loc[train['Description'].str.contains(r'http\\S+')].head()['Description'].iloc[1]\n",
    "#So we need to remove them from our text"
   ]
  },
  {
   "cell_type": "markdown",
   "id": "d7f3d01e",
   "metadata": {},
   "source": [
    "#### Cleaning Text Function"
   ]
  },
  {
   "cell_type": "code",
   "execution_count": 24,
   "id": "3d074769",
   "metadata": {},
   "outputs": [],
   "source": [
    "def clean_text(text):\n",
    "    # Remove strange pattern in different languages if exist \n",
    "    text = re.sub('Mail <svaradi@sprynet.com> for translation. ','',text)\n",
    "    # Remove twitter handles\n",
    "    text = re.sub(r'@\\S+', '', text)\n",
    "    # Remove URLs\n",
    "    text = re.sub(r'http\\S+', '', text)\n",
    "    # Remove punctuations\n",
    "    text = re.sub(f'[{string.punctuation}]','',text)\n",
    "    # Remove numbers\n",
    "    text = re.sub(f'[{string.digits}]','',text)\n",
    "    # Remove single charachters \n",
    "    text = re.sub(r'\\s+[a-zA-Z]\\s+', ' ', text)\n",
    "    \n",
    "    return text"
   ]
  },
  {
   "cell_type": "code",
   "execution_count": 25,
   "id": "d972bc17",
   "metadata": {},
   "outputs": [],
   "source": [
    "#Clean Descriptions\n",
    "train['Description'] = train['Description'].apply(clean_text)\n",
    "test['Description'] = test['Description'].apply(clean_text)"
   ]
  },
  {
   "cell_type": "code",
   "execution_count": 26,
   "id": "5152f2dc",
   "metadata": {},
   "outputs": [
    {
     "data": {
      "text/html": [
       "<div>\n",
       "<style scoped>\n",
       "    .dataframe tbody tr th:only-of-type {\n",
       "        vertical-align: middle;\n",
       "    }\n",
       "\n",
       "    .dataframe tbody tr th {\n",
       "        vertical-align: top;\n",
       "    }\n",
       "\n",
       "    .dataframe thead th {\n",
       "        text-align: right;\n",
       "    }\n",
       "</style>\n",
       "<table border=\"1\" class=\"dataframe\">\n",
       "  <thead>\n",
       "    <tr style=\"text-align: right;\">\n",
       "      <th></th>\n",
       "      <th>Title</th>\n",
       "      <th>Genre</th>\n",
       "      <th>Description</th>\n",
       "      <th>Language</th>\n",
       "    </tr>\n",
       "  </thead>\n",
       "  <tbody>\n",
       "    <tr>\n",
       "      <th>210</th>\n",
       "      <td>Divorzio alla siciliana (1963)</td>\n",
       "      <td>comedy</td>\n",
       "      <td>Il barone Fifě ha bisogno di un erede per ave...</td>\n",
       "      <td>italian</td>\n",
       "    </tr>\n",
       "    <tr>\n",
       "      <th>242</th>\n",
       "      <td>Túlvilági beszélö (1992)</td>\n",
       "      <td>documentary</td>\n",
       "      <td>Tollas Tibor az os fordulatot kovetoen katona...</td>\n",
       "      <td>hungarian</td>\n",
       "    </tr>\n",
       "    <tr>\n",
       "      <th>282</th>\n",
       "      <td>\"Boogie-woogie 47\" (1980)</td>\n",
       "      <td>drama</td>\n",
       "      <td>En  plusieurs familles de Montréal passent lé...</td>\n",
       "      <td>french</td>\n",
       "    </tr>\n",
       "    <tr>\n",
       "      <th>678</th>\n",
       "      <td>Pallati 176 (1986)</td>\n",
       "      <td>comedy</td>\n",
       "      <td>English comedy by wellknown Albanian theater ...</td>\n",
       "      <td>albanian</td>\n",
       "    </tr>\n",
       "    <tr>\n",
       "      <th>806</th>\n",
       "      <td>Iszony (1965)</td>\n",
       "      <td>drama</td>\n",
       "      <td>Mail to author for translation Karasz Nelli a...</td>\n",
       "      <td>hungarian</td>\n",
       "    </tr>\n",
       "    <tr>\n",
       "      <th>...</th>\n",
       "      <td>...</td>\n",
       "      <td>...</td>\n",
       "      <td>...</td>\n",
       "      <td>...</td>\n",
       "    </tr>\n",
       "    <tr>\n",
       "      <th>53697</th>\n",
       "      <td>Fantasmi e ladri (1959)</td>\n",
       "      <td>comedy</td>\n",
       "      <td>Annunziata ha letto diecimila gialli spopola ...</td>\n",
       "      <td>italian</td>\n",
       "    </tr>\n",
       "    <tr>\n",
       "      <th>53712</th>\n",
       "      <td>Due notti con Cleopatra (1954)</td>\n",
       "      <td>comedy</td>\n",
       "      <td>Cleopatra č una donna bellissima ma ha un pic...</td>\n",
       "      <td>italian</td>\n",
       "    </tr>\n",
       "    <tr>\n",
       "      <th>53878</th>\n",
       "      <td>Gyilkos kedv (1997)</td>\n",
       "      <td>drama</td>\n",
       "      <td>Kora delutan egy iskolabol hazatero kislany c...</td>\n",
       "      <td>hungarian</td>\n",
       "    </tr>\n",
       "    <tr>\n",
       "      <th>54165</th>\n",
       "      <td>Az áldozat (1994)</td>\n",
       "      <td>documentary</td>\n",
       "      <td>Mail author for translation Az os forradalom ...</td>\n",
       "      <td>hungarian</td>\n",
       "    </tr>\n",
       "    <tr>\n",
       "      <th>54174</th>\n",
       "      <td>\"Les moineau et les Pinson\" (1982)</td>\n",
       "      <td>drama</td>\n",
       "      <td>Tableau de la vie quotidienne de deux famille...</td>\n",
       "      <td>french</td>\n",
       "    </tr>\n",
       "  </tbody>\n",
       "</table>\n",
       "<p>370 rows × 4 columns</p>\n",
       "</div>"
      ],
      "text/plain": [
       "                                      Title          Genre  \\\n",
       "210         Divorzio alla siciliana (1963)         comedy    \n",
       "242               Túlvilági beszélö (1992)    documentary    \n",
       "282              \"Boogie-woogie 47\" (1980)          drama    \n",
       "678                     Pallati 176 (1986)         comedy    \n",
       "806                          Iszony (1965)          drama    \n",
       "...                                     ...            ...   \n",
       "53697              Fantasmi e ladri (1959)         comedy    \n",
       "53712       Due notti con Cleopatra (1954)         comedy    \n",
       "53878                  Gyilkos kedv (1997)          drama    \n",
       "54165                    Az áldozat (1994)    documentary    \n",
       "54174   \"Les moineau et les Pinson\" (1982)          drama    \n",
       "\n",
       "                                             Description   Language  \n",
       "210     Il barone Fifě ha bisogno di un erede per ave...    italian  \n",
       "242     Tollas Tibor az os fordulatot kovetoen katona...  hungarian  \n",
       "282     En  plusieurs familles de Montréal passent lé...     french  \n",
       "678     English comedy by wellknown Albanian theater ...   albanian  \n",
       "806     Mail to author for translation Karasz Nelli a...  hungarian  \n",
       "...                                                  ...        ...  \n",
       "53697   Annunziata ha letto diecimila gialli spopola ...    italian  \n",
       "53712   Cleopatra č una donna bellissima ma ha un pic...    italian  \n",
       "53878   Kora delutan egy iskolabol hazatero kislany c...  hungarian  \n",
       "54165   Mail author for translation Az os forradalom ...  hungarian  \n",
       "54174   Tableau de la vie quotidienne de deux famille...     french  \n",
       "\n",
       "[370 rows x 4 columns]"
      ]
     },
     "execution_count": 26,
     "metadata": {},
     "output_type": "execute_result"
    }
   ],
   "source": [
    "train[~train.Language.isin(['english'])]"
   ]
  },
  {
   "cell_type": "code",
   "execution_count": 27,
   "id": "ca8d0d26",
   "metadata": {},
   "outputs": [],
   "source": [
    "#Translate other languages into  english\n",
    "def trans(text):\n",
    "    try:\n",
    "        return Translator().translate(text,dest='en').text\n",
    "    except:\n",
    "        return text\n",
    "train.loc[~train['Language'].isin(['english']), 'Description']=train.loc[~train['Language'].isin(['english']),'Description'].apply(trans)\n",
    "test.loc[~test['Language'].isin(['english']), 'Description']=test.loc[~test['Language'].isin(['english']),'Description'].apply(trans)"
   ]
  },
  {
   "cell_type": "code",
   "execution_count": 39,
   "id": "5255e11a",
   "metadata": {},
   "outputs": [
    {
     "data": {
      "text/html": [
       "<div>\n",
       "<style scoped>\n",
       "    .dataframe tbody tr th:only-of-type {\n",
       "        vertical-align: middle;\n",
       "    }\n",
       "\n",
       "    .dataframe tbody tr th {\n",
       "        vertical-align: top;\n",
       "    }\n",
       "\n",
       "    .dataframe thead th {\n",
       "        text-align: right;\n",
       "    }\n",
       "</style>\n",
       "<table border=\"1\" class=\"dataframe\">\n",
       "  <thead>\n",
       "    <tr style=\"text-align: right;\">\n",
       "      <th></th>\n",
       "      <th>Title</th>\n",
       "      <th>Genre</th>\n",
       "      <th>Description</th>\n",
       "      <th>Dest_len</th>\n",
       "    </tr>\n",
       "  </thead>\n",
       "  <tbody>\n",
       "    <tr>\n",
       "      <th>0</th>\n",
       "      <td>Oscar et la dame rose (2009)</td>\n",
       "      <td>drama</td>\n",
       "      <td>Listening in to conversation between his doct...</td>\n",
       "      <td>522</td>\n",
       "    </tr>\n",
       "    <tr>\n",
       "      <th>1</th>\n",
       "      <td>Cupid (1997)</td>\n",
       "      <td>thriller</td>\n",
       "      <td>brother and sister with past incestuous relat...</td>\n",
       "      <td>176</td>\n",
       "    </tr>\n",
       "    <tr>\n",
       "      <th>2</th>\n",
       "      <td>Young, Wild and Wonderful (1980)</td>\n",
       "      <td>adult</td>\n",
       "      <td>As the bus empties the students for their fie...</td>\n",
       "      <td>631</td>\n",
       "    </tr>\n",
       "    <tr>\n",
       "      <th>3</th>\n",
       "      <td>The Secret Sin (1915)</td>\n",
       "      <td>drama</td>\n",
       "      <td>To help their unemployed father make ends mee...</td>\n",
       "      <td>1042</td>\n",
       "    </tr>\n",
       "    <tr>\n",
       "      <th>4</th>\n",
       "      <td>The Unrecovered (2007)</td>\n",
       "      <td>drama</td>\n",
       "      <td>The films title refers not only to the unreco...</td>\n",
       "      <td>601</td>\n",
       "    </tr>\n",
       "  </tbody>\n",
       "</table>\n",
       "</div>"
      ],
      "text/plain": [
       "                                Title       Genre  \\\n",
       "0       Oscar et la dame rose (2009)       drama    \n",
       "1                       Cupid (1997)    thriller    \n",
       "2   Young, Wild and Wonderful (1980)       adult    \n",
       "3              The Secret Sin (1915)       drama    \n",
       "4             The Unrecovered (2007)       drama    \n",
       "\n",
       "                                         Description  Dest_len  \n",
       "0   Listening in to conversation between his doct...       522  \n",
       "1   brother and sister with past incestuous relat...       176  \n",
       "2   As the bus empties the students for their fie...       631  \n",
       "3   To help their unemployed father make ends mee...      1042  \n",
       "4   The films title refers not only to the unreco...       601  "
      ]
     },
     "execution_count": 39,
     "metadata": {},
     "output_type": "execute_result"
    }
   ],
   "source": [
    "train.head(5)"
   ]
  },
  {
   "cell_type": "code",
   "execution_count": 28,
   "id": "c6f0e3a9",
   "metadata": {},
   "outputs": [],
   "source": [
    "train.drop(columns='Language',inplace=True)\n",
    "test.drop(columns='Language',inplace=True)"
   ]
  },
  {
   "cell_type": "code",
   "execution_count": 29,
   "id": "20018c60",
   "metadata": {},
   "outputs": [
    {
     "data": {
      "image/png": "[encoded data removed]",
      "text/plain": [
       "<Figure size 500x500 with 1 Axes>"
      ]
     },
     "metadata": {},
     "output_type": "display_data"
    }
   ],
   "source": [
    "#Distribution of text lengths\n",
    "train['Dest_len'] = train['Description'].apply(len)\n",
    "sns.displot(train['Dest_len'],kde=True)\n",
    "plt.title('Distribution of lengths',fontweight='bold',fontsize=20)\n",
    "plt.show()"
   ]
  },
  {
   "cell_type": "code",
   "execution_count": 30,
   "id": "fd1e6ffd",
   "metadata": {},
   "outputs": [
    {
     "data": {
      "image/png": "[encoded data removed]",
      "text/plain": [
       "<Figure size 640x480 with 1 Axes>"
      ]
     },
     "metadata": {},
     "output_type": "display_data"
    }
   ],
   "source": [
    "ax=sns.countplot(data=train,x='Genre',order=train.Genre.value_counts().index,palette='rocket')\n",
    "ax.bar_label(ax.containers[0])\n",
    "plt.title('Genres Distribution',fontweight='bold',fontsize=16)\n",
    "plt.xticks(rotation=45,fontweight='bold',fontsize=10)\n",
    "plt.show()"
   ]
  },
  {
   "cell_type": "markdown",
   "id": "fa20356d",
   "metadata": {},
   "source": [
    "# Model Building"
   ]
  },
  {
   "cell_type": "markdown",
   "id": "1da0aaf0",
   "metadata": {},
   "source": [
    "#### TfidfVectorizer"
   ]
  },
  {
   "cell_type": "code",
   "execution_count": 31,
   "id": "a46a9964",
   "metadata": {},
   "outputs": [],
   "source": [
    "# Using TfidfVectorizer\n",
    "tfidf_vectorizer = TfidfVectorizer(lowercase=True, #Lowercase chars\n",
    "                                   ngram_range=(1,1), #Capture only single words in each text(unigrams)\n",
    "                                   stop_words='english',#Remove stop_words\n",
    "                                   min_df=2)#Ignore words that appears less than 2 times\n",
    "x_train = tfidf_vectorizer.fit_transform(train['Description'])\n",
    "x_test = tfidf_vectorizer.transform(test['Description'])"
   ]
  },
  {
   "cell_type": "markdown",
   "id": "4287e410",
   "metadata": {},
   "source": [
    "#### RandomOverSampling to handle imbalance Gener Distribution"
   ]
  },
  {
   "cell_type": "code",
   "execution_count": 32,
   "id": "fa5d40e8",
   "metadata": {},
   "outputs": [],
   "source": [
    "#We conclude before that drama and documentary have the majority of our data,\n",
    "#so to avoid imbalance data in our model we will make randomoversampling\n",
    "#Notice that the accuracy before sampling will be < the accuracy after oversampling\n",
    "sampler = RandomOverSampler()\n",
    "#We will pass to it the output of TfidfVectorizer from train data\n",
    "x_train_resampled , y_train_resampled = sampler.fit_resample(x_train,train['Genre'])"
   ]
  },
  {
   "cell_type": "code",
   "execution_count": 33,
   "id": "306065fa",
   "metadata": {},
   "outputs": [
    {
     "name": "stdout",
     "output_type": "stream",
     "text": [
      "Train : 367551\n",
      "Test : 367551\n"
     ]
    }
   ],
   "source": [
    "#Double check for length of our data \n",
    "print('Train :',x_train_resampled.shape[0])\n",
    "print('Test :',y_train_resampled.shape[0])"
   ]
  },
  {
   "cell_type": "code",
   "execution_count": 34,
   "id": "49148b92",
   "metadata": {},
   "outputs": [
    {
     "data": {
      "text/html": [
       "<div>\n",
       "<style scoped>\n",
       "    .dataframe tbody tr th:only-of-type {\n",
       "        vertical-align: middle;\n",
       "    }\n",
       "\n",
       "    .dataframe tbody tr th {\n",
       "        vertical-align: top;\n",
       "    }\n",
       "\n",
       "    .dataframe thead th {\n",
       "        text-align: right;\n",
       "    }\n",
       "</style>\n",
       "<table border=\"1\" class=\"dataframe\">\n",
       "  <thead>\n",
       "    <tr style=\"text-align: right;\">\n",
       "      <th></th>\n",
       "      <th>Actual_Genre</th>\n",
       "    </tr>\n",
       "  </thead>\n",
       "  <tbody>\n",
       "    <tr>\n",
       "      <th>0</th>\n",
       "      <td>thriller</td>\n",
       "    </tr>\n",
       "    <tr>\n",
       "      <th>1</th>\n",
       "      <td>comedy</td>\n",
       "    </tr>\n",
       "    <tr>\n",
       "      <th>2</th>\n",
       "      <td>documentary</td>\n",
       "    </tr>\n",
       "    <tr>\n",
       "      <th>3</th>\n",
       "      <td>drama</td>\n",
       "    </tr>\n",
       "    <tr>\n",
       "      <th>4</th>\n",
       "      <td>drama</td>\n",
       "    </tr>\n",
       "  </tbody>\n",
       "</table>\n",
       "</div>"
      ],
      "text/plain": [
       "    Actual_Genre\n",
       "0      thriller \n",
       "1        comedy \n",
       "2   documentary \n",
       "3         drama \n",
       "4         drama "
      ]
     },
     "execution_count": 34,
     "metadata": {},
     "output_type": "execute_result"
    }
   ],
   "source": [
    "y_actual = pd.read_csv(r\"Genre Classification Dataset\\test_data_solution.txt\",\n",
    "                      sep=':::',usecols=[2],engine ='python',header=None).rename(columns={2:'Actual_Genre'})\n",
    "y_actual.head()"
   ]
  },
  {
   "cell_type": "markdown",
   "id": "ad71b67d",
   "metadata": {},
   "source": [
    "#### MultinomialNB"
   ]
  },
  {
   "cell_type": "code",
   "execution_count": 35,
   "id": "fe1d7d6c",
   "metadata": {},
   "outputs": [
    {
     "name": "stdout",
     "output_type": "stream",
     "text": [
      "Accuracy : 0.546309963099631\n",
      "Running Time :  2.52 Secounds\n"
     ]
    }
   ],
   "source": [
    "#Naive Bayes Model\n",
    "NB = MultinomialNB(alpha=0.3)\n",
    "start_time = time()\n",
    "NB.fit(x_train_resampled,y_train_resampled)\n",
    "y_pred = NB.predict(x_test)\n",
    "print('Accuracy :',accuracy_score(y_actual,y_pred))\n",
    "end_time = time()\n",
    "print('Running Time : ',round(end_time - start_time,2),'Secounds')"
   ]
  },
  {
   "cell_type": "code",
   "execution_count": 36,
   "id": "d2ba2cdc",
   "metadata": {},
   "outputs": [
    {
     "name": "stdout",
     "output_type": "stream",
     "text": [
      "MultinomialNB Classification Report\n",
      "               precision    recall  f1-score   support\n",
      "\n",
      "      action        0.37      0.48      0.42      1314\n",
      "       adult        0.49      0.51      0.50       590\n",
      "   adventure        0.33      0.24      0.28       775\n",
      "   animation        0.30      0.22      0.25       498\n",
      "   biography        0.03      0.02      0.02       264\n",
      "      comedy        0.57      0.54      0.56      7446\n",
      "       crime        0.16      0.18      0.17       505\n",
      " documentary        0.73      0.72      0.72     13096\n",
      "       drama        0.64      0.57      0.60     13612\n",
      "      family        0.26      0.23      0.24       783\n",
      "     fantasy        0.18      0.15      0.17       322\n",
      "   game-show        0.77      0.69      0.73       193\n",
      "     history        0.10      0.07      0.08       243\n",
      "      horror        0.52      0.68      0.59      2204\n",
      "       music        0.40      0.72      0.52       731\n",
      "     musical        0.18      0.10      0.13       276\n",
      "     mystery        0.15      0.08      0.11       318\n",
      "        news        0.34      0.18      0.23       181\n",
      "  reality-tv        0.32      0.42      0.36       883\n",
      "     romance        0.17      0.29      0.21       672\n",
      "      sci-fi        0.37      0.47      0.42       646\n",
      "       short        0.42      0.35      0.38      5072\n",
      "       sport        0.45      0.67      0.54       431\n",
      "   talk-show        0.29      0.37      0.33       391\n",
      "    thriller        0.23      0.34      0.27      1590\n",
      "         war        0.30      0.38      0.33       132\n",
      "     western        0.73      0.91      0.81      1032\n",
      "\n",
      "     accuracy                           0.55     54200\n",
      "    macro avg       0.36      0.39      0.37     54200\n",
      " weighted avg       0.55      0.55      0.55     54200\n",
      "\n"
     ]
    }
   ],
   "source": [
    "print('MultinomialNB Classification Report')\n",
    "print(classification_report(y_actual,y_pred))"
   ]
  },
  {
   "cell_type": "markdown",
   "id": "dcf59fd6",
   "metadata": {},
   "source": [
    "#### LogisticRegression"
   ]
  },
  {
   "cell_type": "code",
   "execution_count": 37,
   "id": "6624ad53",
   "metadata": {},
   "outputs": [
    {
     "name": "stdout",
     "output_type": "stream",
     "text": [
      "Accuracy : 0.5629151291512915\n",
      "Running Time :  534.22 Secounds\n"
     ]
    }
   ],
   "source": [
    "#LogisticRegression Model\n",
    "Lr = LogisticRegression(n_jobs=-1,max_iter=200)\n",
    "start_time = time()\n",
    "Lr.fit(x_train_resampled,y_train_resampled)\n",
    "y_pred_lr = Lr.predict(x_test)\n",
    "print('Accuracy :',accuracy_score(y_actual,y_pred_lr))\n",
    "end_time = time()\n",
    "print('Running Time : ',round(end_time - start_time,2),'Secounds')"
   ]
  },
  {
   "cell_type": "code",
   "execution_count": 38,
   "id": "aac079cc",
   "metadata": {},
   "outputs": [
    {
     "name": "stdout",
     "output_type": "stream",
     "text": [
      "LogisticRegression Classification Report\n",
      "               precision    recall  f1-score   support\n",
      "\n",
      "      action        0.37      0.50      0.42      1314\n",
      "       adult        0.49      0.57      0.53       590\n",
      "   adventure        0.31      0.31      0.31       775\n",
      "   animation        0.28      0.23      0.25       498\n",
      "   biography        0.06      0.03      0.04       264\n",
      "      comedy        0.58      0.58      0.58      7446\n",
      "       crime        0.19      0.24      0.21       505\n",
      " documentary        0.77      0.72      0.74     13096\n",
      "       drama        0.67      0.56      0.61     13612\n",
      "      family        0.23      0.27      0.25       783\n",
      "     fantasy        0.21      0.20      0.20       322\n",
      "   game-show        0.73      0.74      0.73       193\n",
      "     history        0.09      0.08      0.09       243\n",
      "      horror        0.58      0.66      0.62      2204\n",
      "       music        0.48      0.71      0.57       731\n",
      "     musical        0.21      0.21      0.21       276\n",
      "     mystery        0.18      0.13      0.15       318\n",
      "        news        0.37      0.28      0.32       181\n",
      "  reality-tv        0.36      0.44      0.40       883\n",
      "     romance        0.20      0.31      0.24       672\n",
      "      sci-fi        0.39      0.47      0.43       646\n",
      "       short        0.41      0.45      0.43      5072\n",
      "       sport        0.45      0.61      0.51       431\n",
      "   talk-show        0.38      0.45      0.41       391\n",
      "    thriller        0.26      0.33      0.29      1590\n",
      "         war        0.27      0.49      0.35       132\n",
      "     western        0.79      0.87      0.83      1032\n",
      "\n",
      "     accuracy                           0.56     54200\n",
      "    macro avg       0.38      0.42      0.40     54200\n",
      " weighted avg       0.58      0.56      0.57     54200\n",
      "\n"
     ]
    }
   ],
   "source": [
    "print('LogisticRegression Classification Report')\n",
    "print(classification_report(y_actual,y_pred_lr))"
   ]
  },
  {
   "cell_type": "markdown",
   "id": "93c6f6ee",
   "metadata": {},
   "source": [
    "### Another approach to inhance accurac"
   ]
  },
  {
   "cell_type": "code",
   "execution_count": 40,
   "id": "981b2fbd",
   "metadata": {},
   "outputs": [],
   "source": [
    "#We got low accuracy due to insufficient data for other categories \n",
    "#So the model trained alot about drama and documentary movies so it's hard to discover the others\n",
    "#Now let's try another approach and see the effect on data\n",
    "y_train_modified = train['Genre'].apply(lambda genre: genre if genre.strip() in ['drama','documentary'] else 'other')\n",
    "y_actual_modified = y_actual['Actual_Genre'].apply(lambda genre: genre if genre.strip() in ['drama','documentary'] else 'other')"
   ]
  },
  {
   "cell_type": "code",
   "execution_count": 41,
   "id": "2bb96d5a",
   "metadata": {},
   "outputs": [
    {
     "name": "stdout",
     "output_type": "stream",
     "text": [
      "Accuracy : 0.6966420664206642\n",
      "Running Time :  2.05 Secounds\n"
     ]
    }
   ],
   "source": [
    "NB = MultinomialNB(alpha=0.3)\n",
    "start_time = time()\n",
    "NB.fit(x_train,y_train_modified)\n",
    "y_pred = NB.predict(x_test)\n",
    "print('Accuracy :',accuracy_score(y_actual_modified,y_pred))\n",
    "end_time = time()\n",
    "print('Running Time : ',round(end_time - start_time,2),'Secounds')"
   ]
  },
  {
   "cell_type": "code",
   "execution_count": 44,
   "id": "f8c74940",
   "metadata": {},
   "outputs": [
    {
     "name": "stdout",
     "output_type": "stream",
     "text": [
      "Accuracy : 0.727619926199262\n",
      "Running Time :  28.35 Secounds\n"
     ]
    }
   ],
   "source": [
    "#LogisticRegression Model\n",
    "Lr = LogisticRegression(n_jobs=-1,max_iter=200)\n",
    "start_time = time()\n",
    "Lr.fit(x_train,y_train_modified)\n",
    "y_pred_lr = Lr.predict(x_test)\n",
    "print('Accuracy :',accuracy_score(y_actual_modified,y_pred_lr))\n",
    "end_time = time()\n",
    "print('Running Time : ',round(end_time - start_time,2),'Secounds')"
   ]
  },
  {
   "cell_type": "code",
   "execution_count": 46,
   "id": "285015c8",
   "metadata": {},
   "outputs": [
    {
     "name": "stdout",
     "output_type": "stream",
     "text": [
      "LogisticRegression Classification Report\n",
      "               precision    recall  f1-score   support\n",
      "\n",
      " documentary        0.77      0.74      0.76     13096\n",
      "       drama        0.67      0.55      0.60     13612\n",
      "        other       0.73      0.81      0.77     27492\n",
      "\n",
      "     accuracy                           0.73     54200\n",
      "    macro avg       0.72      0.70      0.71     54200\n",
      " weighted avg       0.73      0.73      0.72     54200\n",
      "\n"
     ]
    }
   ],
   "source": [
    "print('LogisticRegression Classification Report')\n",
    "print(classification_report(y_actual_modified,y_pred_lr))"
   ]
  },
  {
   "cell_type": "markdown",
   "id": "54d1b9de",
   "metadata": {},
   "source": [
    "As Expected! the accuracy increased since the model can capture drama and documentary genres clearly and make (other) for another genres "
   ]
  },
  {
   "cell_type": "markdown",
   "id": "08f0dff6",
   "metadata": {},
   "source": [
    "LogisticRegression has higher Accuracy then MultinomialNB"
   ]
  }
 ],
 "metadata": {
  "kernelspec": {
   "display_name": "Python 3 (ipykernel)",
   "language": "python",
   "name": "python3"
  },
  "language_info": {
   "codemirror_mode": {
    "name": "ipython",
    "version": 3
   },
   "file_extension": ".py",
   "mimetype": "text/x-python",
   "name": "python",
   "nbconvert_exporter": "python",
   "pygments_lexer": "ipython3",
   "version": "3.9.2"
  }
 },
 "nbformat": 4,
 "nbformat_minor": 5
}
