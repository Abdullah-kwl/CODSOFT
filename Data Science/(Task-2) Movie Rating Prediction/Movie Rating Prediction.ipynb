{
 "cells": [
  {
   "cell_type": "markdown",
   "id": "f1e4841c",
   "metadata": {},
   "source": [
    "# Importing Libraries"
   ]
  },
  {
   "cell_type": "code",
   "execution_count": 1,
   "id": "fc870021",
   "metadata": {},
   "outputs": [],
   "source": [
    "import pandas as pd\n",
    "import numpy as np\n",
    "\n",
    "import matplotlib.pyplot as plt\n",
    "import seaborn as sns\n",
    "import plotly.graph_objects as go\n",
    "import plotly.express as px\n",
    "\n",
    "from sklearn.model_selection import train_test_split, cross_val_score\n",
    "from sklearn.linear_model import LinearRegression\n",
    "from sklearn.ensemble import RandomForestRegressor\n",
    "from sklearn.metrics import accuracy_score, mean_absolute_error, mean_squared_error, r2_score"
   ]
  },
  {
   "cell_type": "markdown",
   "id": "99ef2900",
   "metadata": {},
   "source": [
    "# Loading the dataset "
   ]
  },
  {
   "cell_type": "code",
   "execution_count": 2,
   "id": "b63cd588",
   "metadata": {},
   "outputs": [],
   "source": [
    "df = pd.read_csv('IMDb Movies India.csv')"
   ]
  },
  {
   "cell_type": "code",
   "execution_count": 3,
   "id": "54e49957",
   "metadata": {},
   "outputs": [
    {
     "data": {
      "text/html": [
       "<div>\n",
       "<style scoped>\n",
       "    .dataframe tbody tr th:only-of-type {\n",
       "        vertical-align: middle;\n",
       "    }\n",
       "\n",
       "    .dataframe tbody tr th {\n",
       "        vertical-align: top;\n",
       "    }\n",
       "\n",
       "    .dataframe thead th {\n",
       "        text-align: right;\n",
       "    }\n",
       "</style>\n",
       "<table border=\"1\" class=\"dataframe\">\n",
       "  <thead>\n",
       "    <tr style=\"text-align: right;\">\n",
       "      <th></th>\n",
       "      <th>Name</th>\n",
       "      <th>Year</th>\n",
       "      <th>Duration</th>\n",
       "      <th>Genre</th>\n",
       "      <th>Rating</th>\n",
       "      <th>Votes</th>\n",
       "      <th>Director</th>\n",
       "      <th>Actor 1</th>\n",
       "      <th>Actor 2</th>\n",
       "      <th>Actor 3</th>\n",
       "    </tr>\n",
       "  </thead>\n",
       "  <tbody>\n",
       "    <tr>\n",
       "      <th>0</th>\n",
       "      <td></td>\n",
       "      <td>NaN</td>\n",
       "      <td>NaN</td>\n",
       "      <td>Drama</td>\n",
       "      <td>NaN</td>\n",
       "      <td>NaN</td>\n",
       "      <td>J.S. Randhawa</td>\n",
       "      <td>Manmauji</td>\n",
       "      <td>Birbal</td>\n",
       "      <td>Rajendra Bhatia</td>\n",
       "    </tr>\n",
       "    <tr>\n",
       "      <th>1</th>\n",
       "      <td>#Gadhvi (He thought he was Gandhi)</td>\n",
       "      <td>(2019)</td>\n",
       "      <td>109 min</td>\n",
       "      <td>Drama</td>\n",
       "      <td>7.0</td>\n",
       "      <td>8</td>\n",
       "      <td>Gaurav Bakshi</td>\n",
       "      <td>Rasika Dugal</td>\n",
       "      <td>Vivek Ghamande</td>\n",
       "      <td>Arvind Jangid</td>\n",
       "    </tr>\n",
       "    <tr>\n",
       "      <th>2</th>\n",
       "      <td>#Homecoming</td>\n",
       "      <td>(2021)</td>\n",
       "      <td>90 min</td>\n",
       "      <td>Drama, Musical</td>\n",
       "      <td>NaN</td>\n",
       "      <td>NaN</td>\n",
       "      <td>Soumyajit Majumdar</td>\n",
       "      <td>Sayani Gupta</td>\n",
       "      <td>Plabita Borthakur</td>\n",
       "      <td>Roy Angana</td>\n",
       "    </tr>\n",
       "    <tr>\n",
       "      <th>3</th>\n",
       "      <td>#Yaaram</td>\n",
       "      <td>(2019)</td>\n",
       "      <td>110 min</td>\n",
       "      <td>Comedy, Romance</td>\n",
       "      <td>4.4</td>\n",
       "      <td>35</td>\n",
       "      <td>Ovais Khan</td>\n",
       "      <td>Prateik</td>\n",
       "      <td>Ishita Raj</td>\n",
       "      <td>Siddhant Kapoor</td>\n",
       "    </tr>\n",
       "    <tr>\n",
       "      <th>4</th>\n",
       "      <td>...And Once Again</td>\n",
       "      <td>(2010)</td>\n",
       "      <td>105 min</td>\n",
       "      <td>Drama</td>\n",
       "      <td>NaN</td>\n",
       "      <td>NaN</td>\n",
       "      <td>Amol Palekar</td>\n",
       "      <td>Rajat Kapoor</td>\n",
       "      <td>Rituparna Sengupta</td>\n",
       "      <td>Antara Mali</td>\n",
       "    </tr>\n",
       "  </tbody>\n",
       "</table>\n",
       "</div>"
      ],
      "text/plain": [
       "                                 Name    Year Duration            Genre  \\\n",
       "0                                         NaN      NaN            Drama   \n",
       "1  #Gadhvi (He thought he was Gandhi)  (2019)  109 min            Drama   \n",
       "2                         #Homecoming  (2021)   90 min   Drama, Musical   \n",
       "3                             #Yaaram  (2019)  110 min  Comedy, Romance   \n",
       "4                   ...And Once Again  (2010)  105 min            Drama   \n",
       "\n",
       "   Rating Votes            Director       Actor 1             Actor 2  \\\n",
       "0     NaN   NaN       J.S. Randhawa      Manmauji              Birbal   \n",
       "1     7.0     8       Gaurav Bakshi  Rasika Dugal      Vivek Ghamande   \n",
       "2     NaN   NaN  Soumyajit Majumdar  Sayani Gupta   Plabita Borthakur   \n",
       "3     4.4    35          Ovais Khan       Prateik          Ishita Raj   \n",
       "4     NaN   NaN        Amol Palekar  Rajat Kapoor  Rituparna Sengupta   \n",
       "\n",
       "           Actor 3  \n",
       "0  Rajendra Bhatia  \n",
       "1    Arvind Jangid  \n",
       "2       Roy Angana  \n",
       "3  Siddhant Kapoor  \n",
       "4      Antara Mali  "
      ]
     },
     "execution_count": 3,
     "metadata": {},
     "output_type": "execute_result"
    }
   ],
   "source": [
    "df.head()"
   ]
  },
  {
   "cell_type": "markdown",
   "id": "752dcf49",
   "metadata": {},
   "source": [
    "# Understanding of data"
   ]
  },
  {
   "cell_type": "code",
   "execution_count": 4,
   "id": "8dd36e9e",
   "metadata": {},
   "outputs": [
    {
     "data": {
      "text/html": [
       "<div>\n",
       "<style scoped>\n",
       "    .dataframe tbody tr th:only-of-type {\n",
       "        vertical-align: middle;\n",
       "    }\n",
       "\n",
       "    .dataframe tbody tr th {\n",
       "        vertical-align: top;\n",
       "    }\n",
       "\n",
       "    .dataframe thead th {\n",
       "        text-align: right;\n",
       "    }\n",
       "</style>\n",
       "<table border=\"1\" class=\"dataframe\">\n",
       "  <thead>\n",
       "    <tr style=\"text-align: right;\">\n",
       "      <th></th>\n",
       "      <th>Name</th>\n",
       "      <th>Year</th>\n",
       "      <th>Duration</th>\n",
       "      <th>Genre</th>\n",
       "      <th>Rating</th>\n",
       "      <th>Votes</th>\n",
       "      <th>Director</th>\n",
       "      <th>Actor 1</th>\n",
       "      <th>Actor 2</th>\n",
       "      <th>Actor 3</th>\n",
       "    </tr>\n",
       "  </thead>\n",
       "  <tbody>\n",
       "    <tr>\n",
       "      <th>11978</th>\n",
       "      <td>Room No. 203</td>\n",
       "      <td>(1980)</td>\n",
       "      <td>NaN</td>\n",
       "      <td>Mystery</td>\n",
       "      <td>NaN</td>\n",
       "      <td>NaN</td>\n",
       "      <td>Parikshit Sahni</td>\n",
       "      <td>Bindu</td>\n",
       "      <td>Shyamalee</td>\n",
       "      <td>Jagdeep</td>\n",
       "    </tr>\n",
       "    <tr>\n",
       "      <th>14413</th>\n",
       "      <td>Toote Tare</td>\n",
       "      <td>(1948)</td>\n",
       "      <td>NaN</td>\n",
       "      <td>Drama</td>\n",
       "      <td>NaN</td>\n",
       "      <td>NaN</td>\n",
       "      <td>Harish</td>\n",
       "      <td>Shamim</td>\n",
       "      <td>Mridula Rani</td>\n",
       "      <td>Harish</td>\n",
       "    </tr>\n",
       "    <tr>\n",
       "      <th>4267</th>\n",
       "      <td>Durga Maiya</td>\n",
       "      <td>(2002)</td>\n",
       "      <td>116 min</td>\n",
       "      <td>Action</td>\n",
       "      <td>NaN</td>\n",
       "      <td>NaN</td>\n",
       "      <td>Devayani</td>\n",
       "      <td>Rami Reddy</td>\n",
       "      <td>Roja</td>\n",
       "      <td>NaN</td>\n",
       "    </tr>\n",
       "    <tr>\n",
       "      <th>2840</th>\n",
       "      <td>Chandi Ki Deewar</td>\n",
       "      <td>(1964)</td>\n",
       "      <td>NaN</td>\n",
       "      <td>Romance</td>\n",
       "      <td>NaN</td>\n",
       "      <td>NaN</td>\n",
       "      <td>Dilip Bose</td>\n",
       "      <td>Bharat Bhushan</td>\n",
       "      <td>Nutan</td>\n",
       "      <td>Asit Kumar Sen</td>\n",
       "    </tr>\n",
       "    <tr>\n",
       "      <th>2247</th>\n",
       "      <td>Bhole Bhale</td>\n",
       "      <td>(1950)</td>\n",
       "      <td>NaN</td>\n",
       "      <td>NaN</td>\n",
       "      <td>NaN</td>\n",
       "      <td>NaN</td>\n",
       "      <td>Master Bhagwan</td>\n",
       "      <td>Master Bhagwan</td>\n",
       "      <td>NaN</td>\n",
       "      <td>NaN</td>\n",
       "    </tr>\n",
       "  </tbody>\n",
       "</table>\n",
       "</div>"
      ],
      "text/plain": [
       "                   Name    Year Duration    Genre  Rating Votes  \\\n",
       "11978      Room No. 203  (1980)      NaN  Mystery     NaN   NaN   \n",
       "14413        Toote Tare  (1948)      NaN    Drama     NaN   NaN   \n",
       "4267        Durga Maiya  (2002)  116 min   Action     NaN   NaN   \n",
       "2840   Chandi Ki Deewar  (1964)      NaN  Romance     NaN   NaN   \n",
       "2247        Bhole Bhale  (1950)      NaN      NaN     NaN   NaN   \n",
       "\n",
       "              Director         Actor 1       Actor 2         Actor 3  \n",
       "11978  Parikshit Sahni           Bindu     Shyamalee         Jagdeep  \n",
       "14413           Harish          Shamim  Mridula Rani          Harish  \n",
       "4267          Devayani      Rami Reddy          Roja             NaN  \n",
       "2840        Dilip Bose  Bharat Bhushan         Nutan  Asit Kumar Sen  \n",
       "2247    Master Bhagwan  Master Bhagwan           NaN             NaN  "
      ]
     },
     "execution_count": 4,
     "metadata": {},
     "output_type": "execute_result"
    }
   ],
   "source": [
    "df.sample(5)"
   ]
  },
  {
   "cell_type": "code",
   "execution_count": 5,
   "id": "76cd3600",
   "metadata": {},
   "outputs": [
    {
     "name": "stdout",
     "output_type": "stream",
     "text": [
      "<class 'pandas.core.frame.DataFrame'>\n",
      "RangeIndex: 15509 entries, 0 to 15508\n",
      "Data columns (total 10 columns):\n",
      " #   Column    Non-Null Count  Dtype  \n",
      "---  ------    --------------  -----  \n",
      " 0   Name      15509 non-null  object \n",
      " 1   Year      14981 non-null  object \n",
      " 2   Duration  7240 non-null   object \n",
      " 3   Genre     13632 non-null  object \n",
      " 4   Rating    7919 non-null   float64\n",
      " 5   Votes     7920 non-null   object \n",
      " 6   Director  14984 non-null  object \n",
      " 7   Actor 1   13892 non-null  object \n",
      " 8   Actor 2   13125 non-null  object \n",
      " 9   Actor 3   12365 non-null  object \n",
      "dtypes: float64(1), object(9)\n",
      "memory usage: 1.2+ MB\n"
     ]
    }
   ],
   "source": [
    "df.info()"
   ]
  },
  {
   "cell_type": "code",
   "execution_count": 6,
   "id": "53682d49",
   "metadata": {},
   "outputs": [
    {
     "data": {
      "text/html": [
       "<div>\n",
       "<style scoped>\n",
       "    .dataframe tbody tr th:only-of-type {\n",
       "        vertical-align: middle;\n",
       "    }\n",
       "\n",
       "    .dataframe tbody tr th {\n",
       "        vertical-align: top;\n",
       "    }\n",
       "\n",
       "    .dataframe thead th {\n",
       "        text-align: right;\n",
       "    }\n",
       "</style>\n",
       "<table border=\"1\" class=\"dataframe\">\n",
       "  <thead>\n",
       "    <tr style=\"text-align: right;\">\n",
       "      <th></th>\n",
       "      <th>Name</th>\n",
       "      <th>Year</th>\n",
       "      <th>Duration</th>\n",
       "      <th>Genre</th>\n",
       "      <th>Votes</th>\n",
       "      <th>Director</th>\n",
       "      <th>Actor 1</th>\n",
       "      <th>Actor 2</th>\n",
       "      <th>Actor 3</th>\n",
       "    </tr>\n",
       "  </thead>\n",
       "  <tbody>\n",
       "    <tr>\n",
       "      <th>count</th>\n",
       "      <td>15509</td>\n",
       "      <td>14981</td>\n",
       "      <td>7240</td>\n",
       "      <td>13632</td>\n",
       "      <td>7920</td>\n",
       "      <td>14984</td>\n",
       "      <td>13892</td>\n",
       "      <td>13125</td>\n",
       "      <td>12365</td>\n",
       "    </tr>\n",
       "    <tr>\n",
       "      <th>unique</th>\n",
       "      <td>13838</td>\n",
       "      <td>102</td>\n",
       "      <td>182</td>\n",
       "      <td>485</td>\n",
       "      <td>2034</td>\n",
       "      <td>5938</td>\n",
       "      <td>4718</td>\n",
       "      <td>4891</td>\n",
       "      <td>4820</td>\n",
       "    </tr>\n",
       "    <tr>\n",
       "      <th>top</th>\n",
       "      <td>Anjaam</td>\n",
       "      <td>(2019)</td>\n",
       "      <td>120 min</td>\n",
       "      <td>Drama</td>\n",
       "      <td>8</td>\n",
       "      <td>Jayant Desai</td>\n",
       "      <td>Ashok Kumar</td>\n",
       "      <td>Rekha</td>\n",
       "      <td>Pran</td>\n",
       "    </tr>\n",
       "    <tr>\n",
       "      <th>freq</th>\n",
       "      <td>7</td>\n",
       "      <td>410</td>\n",
       "      <td>240</td>\n",
       "      <td>2780</td>\n",
       "      <td>227</td>\n",
       "      <td>58</td>\n",
       "      <td>158</td>\n",
       "      <td>83</td>\n",
       "      <td>91</td>\n",
       "    </tr>\n",
       "  </tbody>\n",
       "</table>\n",
       "</div>"
      ],
      "text/plain": [
       "          Name    Year Duration  Genre Votes      Director      Actor 1  \\\n",
       "count    15509   14981     7240  13632  7920         14984        13892   \n",
       "unique   13838     102      182    485  2034          5938         4718   \n",
       "top     Anjaam  (2019)  120 min  Drama     8  Jayant Desai  Ashok Kumar   \n",
       "freq         7     410      240   2780   227            58          158   \n",
       "\n",
       "       Actor 2 Actor 3  \n",
       "count    13125   12365  \n",
       "unique    4891    4820  \n",
       "top      Rekha    Pran  \n",
       "freq        83      91  "
      ]
     },
     "execution_count": 6,
     "metadata": {},
     "output_type": "execute_result"
    }
   ],
   "source": [
    "df.describe(include ='O')"
   ]
  },
  {
   "cell_type": "code",
   "execution_count": 7,
   "id": "fc8db8e8",
   "metadata": {},
   "outputs": [
    {
     "data": {
      "text/plain": [
       "(15509, 10)"
      ]
     },
     "execution_count": 7,
     "metadata": {},
     "output_type": "execute_result"
    }
   ],
   "source": [
    "df.shape"
   ]
  },
  {
   "cell_type": "code",
   "execution_count": 8,
   "id": "fc7cb0fe",
   "metadata": {},
   "outputs": [
    {
     "data": {
      "text/plain": [
       "6"
      ]
     },
     "execution_count": 8,
     "metadata": {},
     "output_type": "execute_result"
    }
   ],
   "source": [
    "# duplicated rows in data\n",
    "df.duplicated().sum()"
   ]
  },
  {
   "cell_type": "code",
   "execution_count": 9,
   "id": "9b6f6d20",
   "metadata": {},
   "outputs": [
    {
     "data": {
      "text/plain": [
       "Name           0\n",
       "Year         528\n",
       "Duration    8269\n",
       "Genre       1877\n",
       "Rating      7590\n",
       "Votes       7589\n",
       "Director     525\n",
       "Actor 1     1617\n",
       "Actor 2     2384\n",
       "Actor 3     3144\n",
       "dtype: int64"
      ]
     },
     "execution_count": 9,
     "metadata": {},
     "output_type": "execute_result"
    }
   ],
   "source": [
    "# null values in data\n",
    "df.isna().sum()"
   ]
  },
  {
   "cell_type": "markdown",
   "id": "3041fa2b",
   "metadata": {},
   "source": [
    "# Data Cleaning "
   ]
  },
  {
   "cell_type": "code",
   "execution_count": 10,
   "id": "37ac4ecf",
   "metadata": {},
   "outputs": [
    {
     "data": {
      "text/html": [
       "<div>\n",
       "<style scoped>\n",
       "    .dataframe tbody tr th:only-of-type {\n",
       "        vertical-align: middle;\n",
       "    }\n",
       "\n",
       "    .dataframe tbody tr th {\n",
       "        vertical-align: top;\n",
       "    }\n",
       "\n",
       "    .dataframe thead th {\n",
       "        text-align: right;\n",
       "    }\n",
       "</style>\n",
       "<table border=\"1\" class=\"dataframe\">\n",
       "  <thead>\n",
       "    <tr style=\"text-align: right;\">\n",
       "      <th></th>\n",
       "      <th>Name</th>\n",
       "      <th>Year</th>\n",
       "      <th>Duration</th>\n",
       "      <th>Genre</th>\n",
       "      <th>Rating</th>\n",
       "      <th>Votes</th>\n",
       "      <th>Director</th>\n",
       "      <th>Actor 1</th>\n",
       "      <th>Actor 2</th>\n",
       "      <th>Actor 3</th>\n",
       "    </tr>\n",
       "  </thead>\n",
       "  <tbody>\n",
       "    <tr>\n",
       "      <th>1836</th>\n",
       "      <td>Bang Bang Reloaded</td>\n",
       "      <td>NaN</td>\n",
       "      <td>NaN</td>\n",
       "      <td>NaN</td>\n",
       "      <td>NaN</td>\n",
       "      <td>NaN</td>\n",
       "      <td>NaN</td>\n",
       "      <td>NaN</td>\n",
       "      <td>NaN</td>\n",
       "      <td>NaN</td>\n",
       "    </tr>\n",
       "    <tr>\n",
       "      <th>1920</th>\n",
       "      <td>Battle of bittora</td>\n",
       "      <td>NaN</td>\n",
       "      <td>NaN</td>\n",
       "      <td>NaN</td>\n",
       "      <td>NaN</td>\n",
       "      <td>NaN</td>\n",
       "      <td>NaN</td>\n",
       "      <td>NaN</td>\n",
       "      <td>NaN</td>\n",
       "      <td>NaN</td>\n",
       "    </tr>\n",
       "    <tr>\n",
       "      <th>2653</th>\n",
       "      <td>Campus</td>\n",
       "      <td>NaN</td>\n",
       "      <td>NaN</td>\n",
       "      <td>NaN</td>\n",
       "      <td>NaN</td>\n",
       "      <td>NaN</td>\n",
       "      <td>NaN</td>\n",
       "      <td>NaN</td>\n",
       "      <td>NaN</td>\n",
       "      <td>NaN</td>\n",
       "    </tr>\n",
       "    <tr>\n",
       "      <th>3403</th>\n",
       "      <td>Dancing Dad</td>\n",
       "      <td>NaN</td>\n",
       "      <td>NaN</td>\n",
       "      <td>NaN</td>\n",
       "      <td>NaN</td>\n",
       "      <td>NaN</td>\n",
       "      <td>NaN</td>\n",
       "      <td>NaN</td>\n",
       "      <td>NaN</td>\n",
       "      <td>NaN</td>\n",
       "    </tr>\n",
       "    <tr>\n",
       "      <th>3807</th>\n",
       "      <td>Dial 100</td>\n",
       "      <td>NaN</td>\n",
       "      <td>NaN</td>\n",
       "      <td>NaN</td>\n",
       "      <td>NaN</td>\n",
       "      <td>NaN</td>\n",
       "      <td>NaN</td>\n",
       "      <td>NaN</td>\n",
       "      <td>NaN</td>\n",
       "      <td>NaN</td>\n",
       "    </tr>\n",
       "    <tr>\n",
       "      <th>4271</th>\n",
       "      <td>Durga Rani Singh</td>\n",
       "      <td>NaN</td>\n",
       "      <td>NaN</td>\n",
       "      <td>NaN</td>\n",
       "      <td>NaN</td>\n",
       "      <td>NaN</td>\n",
       "      <td>NaN</td>\n",
       "      <td>NaN</td>\n",
       "      <td>NaN</td>\n",
       "      <td>NaN</td>\n",
       "    </tr>\n",
       "    <tr>\n",
       "      <th>8669</th>\n",
       "      <td>Main Hoon Kaun</td>\n",
       "      <td>NaN</td>\n",
       "      <td>NaN</td>\n",
       "      <td>NaN</td>\n",
       "      <td>NaN</td>\n",
       "      <td>NaN</td>\n",
       "      <td>NaN</td>\n",
       "      <td>NaN</td>\n",
       "      <td>NaN</td>\n",
       "      <td>NaN</td>\n",
       "    </tr>\n",
       "    <tr>\n",
       "      <th>9600</th>\n",
       "      <td>Mughal Road</td>\n",
       "      <td>NaN</td>\n",
       "      <td>NaN</td>\n",
       "      <td>NaN</td>\n",
       "      <td>NaN</td>\n",
       "      <td>NaN</td>\n",
       "      <td>NaN</td>\n",
       "      <td>NaN</td>\n",
       "      <td>NaN</td>\n",
       "      <td>NaN</td>\n",
       "    </tr>\n",
       "  </tbody>\n",
       "</table>\n",
       "</div>"
      ],
      "text/plain": [
       "                    Name Year Duration Genre  Rating Votes Director Actor 1  \\\n",
       "1836  Bang Bang Reloaded  NaN      NaN   NaN     NaN   NaN      NaN     NaN   \n",
       "1920   Battle of bittora  NaN      NaN   NaN     NaN   NaN      NaN     NaN   \n",
       "2653              Campus  NaN      NaN   NaN     NaN   NaN      NaN     NaN   \n",
       "3403         Dancing Dad  NaN      NaN   NaN     NaN   NaN      NaN     NaN   \n",
       "3807            Dial 100  NaN      NaN   NaN     NaN   NaN      NaN     NaN   \n",
       "4271    Durga Rani Singh  NaN      NaN   NaN     NaN   NaN      NaN     NaN   \n",
       "8669      Main Hoon Kaun  NaN      NaN   NaN     NaN   NaN      NaN     NaN   \n",
       "9600         Mughal Road  NaN      NaN   NaN     NaN   NaN      NaN     NaN   \n",
       "\n",
       "     Actor 2 Actor 3  \n",
       "1836     NaN     NaN  \n",
       "1920     NaN     NaN  \n",
       "2653     NaN     NaN  \n",
       "3403     NaN     NaN  \n",
       "3807     NaN     NaN  \n",
       "4271     NaN     NaN  \n",
       "8669     NaN     NaN  \n",
       "9600     NaN     NaN  "
      ]
     },
     "execution_count": 10,
     "metadata": {},
     "output_type": "execute_result"
    }
   ],
   "source": [
    "# Locating rows with missing values in columns from 1 to 9\n",
    "df[df.iloc[:, 1:9].isna().all(axis=1)]"
   ]
  },
  {
   "cell_type": "code",
   "execution_count": 12,
   "id": "6d77e4f1",
   "metadata": {},
   "outputs": [
    {
     "data": {
      "text/plain": [
       "Name        13838\n",
       "Year          102\n",
       "Duration      182\n",
       "Genre         485\n",
       "Rating         84\n",
       "Votes        2034\n",
       "Director     5938\n",
       "Actor 1      4718\n",
       "Actor 2      4891\n",
       "Actor 3      4820\n",
       "dtype: int64"
      ]
     },
     "execution_count": 12,
     "metadata": {},
     "output_type": "execute_result"
    }
   ],
   "source": [
    "# Unique values present in each column\n",
    "df.nunique()"
   ]
  },
  {
   "cell_type": "code",
   "execution_count": 13,
   "id": "433fd47b",
   "metadata": {},
   "outputs": [],
   "source": [
    "# Handling the null values\n",
    "df.dropna(subset=['Name', 'Year', 'Duration', 'Rating', 'Votes', 'Director', 'Actor 1', 'Actor 2', 'Actor 3'], inplace=True)"
   ]
  },
  {
   "cell_type": "code",
   "execution_count": 22,
   "id": "575148f4",
   "metadata": {},
   "outputs": [],
   "source": [
    "#Extracting only the text part from the Name column\n",
    "df['Name'] = df['Name'].str.extract('([A-Za-z\\s\\'\\-]+)')"
   ]
  },
  {
   "cell_type": "code",
   "execution_count": 25,
   "id": "21811229",
   "metadata": {},
   "outputs": [],
   "source": [
    "# Replacing the brackets from year column as observed above\n",
    "df['Year'] = df['Year'].str.replace(r'[()]', '', regex=True).astype(int)"
   ]
  },
  {
   "cell_type": "code",
   "execution_count": 28,
   "id": "adebda70",
   "metadata": {},
   "outputs": [],
   "source": [
    "# Convert 'Duration' to numeric and replacing the min, while keeping only numerical part\n",
    "df['Duration'] = pd.to_numeric(df['Duration'].str.replace(r' min', '', regex=True), errors='coerce')"
   ]
  },
  {
   "cell_type": "code",
   "execution_count": 35,
   "id": "0e933481",
   "metadata": {},
   "outputs": [],
   "source": [
    "# Splitting the genre by , to keep only unique genres and replacing the null values with mode\n",
    "df['Genre'] = df['Genre'].str.split(', ')\n",
    "df = df.explode('Genre')\n",
    "df['Genre'].fillna(df['Genre'].mode()[0], inplace=True)"
   ]
  },
  {
   "cell_type": "code",
   "execution_count": 41,
   "id": "cf3b7b1d",
   "metadata": {},
   "outputs": [],
   "source": [
    "# Convert 'Votes' to numeric and replace the , to keep only numerical part\n",
    "df['Votes'] = pd.to_numeric(df['Votes'].str.replace(',', ''), errors='coerce')"
   ]
  },
  {
   "cell_type": "code",
   "execution_count": 43,
   "id": "c0c21d79",
   "metadata": {},
   "outputs": [
    {
     "data": {
      "text/html": [
       "<div>\n",
       "<style scoped>\n",
       "    .dataframe tbody tr th:only-of-type {\n",
       "        vertical-align: middle;\n",
       "    }\n",
       "\n",
       "    .dataframe tbody tr th {\n",
       "        vertical-align: top;\n",
       "    }\n",
       "\n",
       "    .dataframe thead th {\n",
       "        text-align: right;\n",
       "    }\n",
       "</style>\n",
       "<table border=\"1\" class=\"dataframe\">\n",
       "  <thead>\n",
       "    <tr style=\"text-align: right;\">\n",
       "      <th></th>\n",
       "      <th>Name</th>\n",
       "      <th>Year</th>\n",
       "      <th>Duration</th>\n",
       "      <th>Genre</th>\n",
       "      <th>Rating</th>\n",
       "      <th>Votes</th>\n",
       "      <th>Director</th>\n",
       "      <th>Actor 1</th>\n",
       "      <th>Actor 2</th>\n",
       "      <th>Actor 3</th>\n",
       "    </tr>\n",
       "  </thead>\n",
       "  <tbody>\n",
       "    <tr>\n",
       "      <th>3</th>\n",
       "      <td>Yaaram</td>\n",
       "      <td>2019</td>\n",
       "      <td>110</td>\n",
       "      <td>Comedy</td>\n",
       "      <td>4.4</td>\n",
       "      <td>35</td>\n",
       "      <td>Ovais Khan</td>\n",
       "      <td>Prateik</td>\n",
       "      <td>Ishita Raj</td>\n",
       "      <td>Siddhant Kapoor</td>\n",
       "    </tr>\n",
       "    <tr>\n",
       "      <th>3</th>\n",
       "      <td>Yaaram</td>\n",
       "      <td>2019</td>\n",
       "      <td>110</td>\n",
       "      <td>Romance</td>\n",
       "      <td>4.4</td>\n",
       "      <td>35</td>\n",
       "      <td>Ovais Khan</td>\n",
       "      <td>Prateik</td>\n",
       "      <td>Ishita Raj</td>\n",
       "      <td>Siddhant Kapoor</td>\n",
       "    </tr>\n",
       "    <tr>\n",
       "      <th>5</th>\n",
       "      <td>Aur Pyaar Ho Gaya</td>\n",
       "      <td>1997</td>\n",
       "      <td>147</td>\n",
       "      <td>Comedy</td>\n",
       "      <td>4.7</td>\n",
       "      <td>827</td>\n",
       "      <td>Rahul Rawail</td>\n",
       "      <td>Bobby Deol</td>\n",
       "      <td>Aishwarya Rai Bachchan</td>\n",
       "      <td>Shammi Kapoor</td>\n",
       "    </tr>\n",
       "    <tr>\n",
       "      <th>5</th>\n",
       "      <td>Aur Pyaar Ho Gaya</td>\n",
       "      <td>1997</td>\n",
       "      <td>147</td>\n",
       "      <td>Drama</td>\n",
       "      <td>4.7</td>\n",
       "      <td>827</td>\n",
       "      <td>Rahul Rawail</td>\n",
       "      <td>Bobby Deol</td>\n",
       "      <td>Aishwarya Rai Bachchan</td>\n",
       "      <td>Shammi Kapoor</td>\n",
       "    </tr>\n",
       "    <tr>\n",
       "      <th>5</th>\n",
       "      <td>Aur Pyaar Ho Gaya</td>\n",
       "      <td>1997</td>\n",
       "      <td>147</td>\n",
       "      <td>Musical</td>\n",
       "      <td>4.7</td>\n",
       "      <td>827</td>\n",
       "      <td>Rahul Rawail</td>\n",
       "      <td>Bobby Deol</td>\n",
       "      <td>Aishwarya Rai Bachchan</td>\n",
       "      <td>Shammi Kapoor</td>\n",
       "    </tr>\n",
       "  </tbody>\n",
       "</table>\n",
       "</div>"
      ],
      "text/plain": [
       "                Name  Year  Duration    Genre  Rating  Votes      Director  \\\n",
       "3             Yaaram  2019       110   Comedy     4.4     35    Ovais Khan   \n",
       "3             Yaaram  2019       110  Romance     4.4     35    Ovais Khan   \n",
       "5  Aur Pyaar Ho Gaya  1997       147   Comedy     4.7    827  Rahul Rawail   \n",
       "5  Aur Pyaar Ho Gaya  1997       147    Drama     4.7    827  Rahul Rawail   \n",
       "5  Aur Pyaar Ho Gaya  1997       147  Musical     4.7    827  Rahul Rawail   \n",
       "\n",
       "      Actor 1                 Actor 2          Actor 3  \n",
       "3     Prateik              Ishita Raj  Siddhant Kapoor  \n",
       "3     Prateik              Ishita Raj  Siddhant Kapoor  \n",
       "5  Bobby Deol  Aishwarya Rai Bachchan    Shammi Kapoor  \n",
       "5  Bobby Deol  Aishwarya Rai Bachchan    Shammi Kapoor  \n",
       "5  Bobby Deol  Aishwarya Rai Bachchan    Shammi Kapoor  "
      ]
     },
     "execution_count": 43,
     "metadata": {},
     "output_type": "execute_result"
    }
   ],
   "source": [
    "#checking duplicate values by Name and Year\n",
    "\n",
    "duplicate = df.groupby(['Name', 'Year']).filter(lambda x: len(x) > 1)\n",
    "duplicate.head(5)"
   ]
  },
  {
   "cell_type": "code",
   "execution_count": 46,
   "id": "f7b868cb",
   "metadata": {},
   "outputs": [],
   "source": [
    "# Dropping the duplicated values by Name\n",
    "df = df.drop_duplicates(subset=['Name'], keep=False)"
   ]
  },
  {
   "cell_type": "markdown",
   "id": "fb434ea1",
   "metadata": {},
   "source": [
    "# Exploratory Data Analysis "
   ]
  },
  {
   "cell_type": "markdown",
   "id": "7fa02841",
   "metadata": {},
   "source": [
    "#### Descriptive Analysis"
   ]
  },
  {
   "cell_type": "code",
   "execution_count": 49,
   "id": "81600b3a",
   "metadata": {},
   "outputs": [
    {
     "data": {
      "text/html": [
       "<div>\n",
       "<style scoped>\n",
       "    .dataframe tbody tr th:only-of-type {\n",
       "        vertical-align: middle;\n",
       "    }\n",
       "\n",
       "    .dataframe tbody tr th {\n",
       "        vertical-align: top;\n",
       "    }\n",
       "\n",
       "    .dataframe thead th {\n",
       "        text-align: right;\n",
       "    }\n",
       "</style>\n",
       "<table border=\"1\" class=\"dataframe\">\n",
       "  <thead>\n",
       "    <tr style=\"text-align: right;\">\n",
       "      <th></th>\n",
       "      <th>Year</th>\n",
       "      <th>Duration</th>\n",
       "      <th>Rating</th>\n",
       "      <th>Votes</th>\n",
       "    </tr>\n",
       "  </thead>\n",
       "  <tbody>\n",
       "    <tr>\n",
       "      <th>count</th>\n",
       "      <td>1528.000000</td>\n",
       "      <td>1528.000000</td>\n",
       "      <td>1528.000000</td>\n",
       "      <td>1528.000000</td>\n",
       "    </tr>\n",
       "    <tr>\n",
       "      <th>mean</th>\n",
       "      <td>1997.972513</td>\n",
       "      <td>123.823953</td>\n",
       "      <td>5.976243</td>\n",
       "      <td>552.479712</td>\n",
       "    </tr>\n",
       "    <tr>\n",
       "      <th>std</th>\n",
       "      <td>21.181921</td>\n",
       "      <td>25.108144</td>\n",
       "      <td>1.412547</td>\n",
       "      <td>4311.631841</td>\n",
       "    </tr>\n",
       "    <tr>\n",
       "      <th>min</th>\n",
       "      <td>1931.000000</td>\n",
       "      <td>45.000000</td>\n",
       "      <td>1.600000</td>\n",
       "      <td>5.000000</td>\n",
       "    </tr>\n",
       "    <tr>\n",
       "      <th>25%</th>\n",
       "      <td>1985.000000</td>\n",
       "      <td>107.000000</td>\n",
       "      <td>5.100000</td>\n",
       "      <td>14.000000</td>\n",
       "    </tr>\n",
       "    <tr>\n",
       "      <th>50%</th>\n",
       "      <td>2004.000000</td>\n",
       "      <td>126.000000</td>\n",
       "      <td>6.100000</td>\n",
       "      <td>34.000000</td>\n",
       "    </tr>\n",
       "    <tr>\n",
       "      <th>75%</th>\n",
       "      <td>2016.000000</td>\n",
       "      <td>140.000000</td>\n",
       "      <td>7.000000</td>\n",
       "      <td>127.250000</td>\n",
       "    </tr>\n",
       "    <tr>\n",
       "      <th>max</th>\n",
       "      <td>2021.000000</td>\n",
       "      <td>300.000000</td>\n",
       "      <td>9.400000</td>\n",
       "      <td>101014.000000</td>\n",
       "    </tr>\n",
       "  </tbody>\n",
       "</table>\n",
       "</div>"
      ],
      "text/plain": [
       "              Year     Duration       Rating          Votes\n",
       "count  1528.000000  1528.000000  1528.000000    1528.000000\n",
       "mean   1997.972513   123.823953     5.976243     552.479712\n",
       "std      21.181921    25.108144     1.412547    4311.631841\n",
       "min    1931.000000    45.000000     1.600000       5.000000\n",
       "25%    1985.000000   107.000000     5.100000      14.000000\n",
       "50%    2004.000000   126.000000     6.100000      34.000000\n",
       "75%    2016.000000   140.000000     7.000000     127.250000\n",
       "max    2021.000000   300.000000     9.400000  101014.000000"
      ]
     },
     "execution_count": 49,
     "metadata": {},
     "output_type": "execute_result"
    }
   ],
   "source": [
    "df.describe()"
   ]
  },
  {
   "cell_type": "code",
   "execution_count": 50,
   "id": "63d3d521",
   "metadata": {},
   "outputs": [
    {
     "data": {
      "text/html": [
       "<div>\n",
       "<style scoped>\n",
       "    .dataframe tbody tr th:only-of-type {\n",
       "        vertical-align: middle;\n",
       "    }\n",
       "\n",
       "    .dataframe tbody tr th {\n",
       "        vertical-align: top;\n",
       "    }\n",
       "\n",
       "    .dataframe thead th {\n",
       "        text-align: right;\n",
       "    }\n",
       "</style>\n",
       "<table border=\"1\" class=\"dataframe\">\n",
       "  <thead>\n",
       "    <tr style=\"text-align: right;\">\n",
       "      <th></th>\n",
       "      <th>Name</th>\n",
       "      <th>Genre</th>\n",
       "      <th>Director</th>\n",
       "      <th>Actor 1</th>\n",
       "      <th>Actor 2</th>\n",
       "      <th>Actor 3</th>\n",
       "    </tr>\n",
       "  </thead>\n",
       "  <tbody>\n",
       "    <tr>\n",
       "      <th>count</th>\n",
       "      <td>1528</td>\n",
       "      <td>1528</td>\n",
       "      <td>1528</td>\n",
       "      <td>1528</td>\n",
       "      <td>1528</td>\n",
       "      <td>1528</td>\n",
       "    </tr>\n",
       "    <tr>\n",
       "      <th>unique</th>\n",
       "      <td>1528</td>\n",
       "      <td>20</td>\n",
       "      <td>1114</td>\n",
       "      <td>1010</td>\n",
       "      <td>1131</td>\n",
       "      <td>1154</td>\n",
       "    </tr>\n",
       "    <tr>\n",
       "      <th>top</th>\n",
       "      <td>Silence Please</td>\n",
       "      <td>Drama</td>\n",
       "      <td>Kanti Shah</td>\n",
       "      <td>Mithun Chakraborty</td>\n",
       "      <td>Mithun Chakraborty</td>\n",
       "      <td>Pran</td>\n",
       "    </tr>\n",
       "    <tr>\n",
       "      <th>freq</th>\n",
       "      <td>1</td>\n",
       "      <td>789</td>\n",
       "      <td>13</td>\n",
       "      <td>22</td>\n",
       "      <td>12</td>\n",
       "      <td>16</td>\n",
       "    </tr>\n",
       "  </tbody>\n",
       "</table>\n",
       "</div>"
      ],
      "text/plain": [
       "                  Name  Genre    Director             Actor 1  \\\n",
       "count             1528   1528        1528                1528   \n",
       "unique            1528     20        1114                1010   \n",
       "top     Silence Please  Drama  Kanti Shah  Mithun Chakraborty   \n",
       "freq                 1    789          13                  22   \n",
       "\n",
       "                   Actor 2 Actor 3  \n",
       "count                 1528    1528  \n",
       "unique                1131    1154  \n",
       "top     Mithun Chakraborty    Pran  \n",
       "freq                    12      16  "
      ]
     },
     "execution_count": 50,
     "metadata": {},
     "output_type": "execute_result"
    }
   ],
   "source": [
    "df.describe(include='O')"
   ]
  },
  {
   "cell_type": "code",
   "execution_count": 53,
   "id": "7a6abd5a",
   "metadata": {},
   "outputs": [
    {
     "name": "stdout",
     "output_type": "stream",
     "text": [
      "Movie with the highest votes: My Name Is Khan\n",
      "Number of votes for the movie with the highest votes: 101014\n",
      "\n",
      " ==================================================================================================== \n",
      "\n",
      "Movie with the Lowest votes: Anmol Sitaare\n",
      "Number of votes for the movie with the Lowest votes: 5\n"
     ]
    }
   ],
   "source": [
    "# Find the row with the highest number of votes\n",
    "max_votes_row = df[df['Votes'] == df['Votes'].max()]\n",
    "\n",
    "# Get the name of the movie with the highest votes\n",
    "movie_highest_votes = max_votes_row['Name'].values[0]\n",
    "\n",
    "# Find the number of votes for the movie with the highest votes\n",
    "votes_highest_votes = max_votes_row['Votes'].values[0]\n",
    "\n",
    "print(\"Movie with the highest votes:\", movie_highest_votes)\n",
    "print(\"Number of votes for the movie with the highest votes:\", votes_highest_votes)\n",
    "print('\\n', '='*100, '\\n')\n",
    "\n",
    "\n",
    "# Find the row with the lowest number of votes\n",
    "min_votes_row = df[df['Votes'] == df['Votes'].min()]\n",
    "\n",
    "# Get the name of the movie with the lowest votes\n",
    "movie_lowest_votes = min_votes_row['Name'].values[0]\n",
    "\n",
    "# Find the number of votes for the movie with the lowest votes\n",
    "votes_lowest_votes = min_votes_row['Votes'].values[0]\n",
    "\n",
    "print(\"Movie with the Lowest votes:\", movie_lowest_votes)\n",
    "print(\"Number of votes for the movie with the Lowest votes:\", votes_lowest_votes)"
   ]
  },
  {
   "cell_type": "code",
   "execution_count": 54,
   "id": "1032b991",
   "metadata": {},
   "outputs": [
    {
     "name": "stdout",
     "output_type": "stream",
     "text": [
      "Movie with the highest rating: June\n",
      "Number of votes for the movie with the highest rating: 18\n",
      "\n",
      " ==================================================================================================== \n",
      "\n",
      "Movie with the Lowest rating: Mumbai Can Dance Saalaa\n",
      "Number of votes for the movie with the Lowest rating: 43\n"
     ]
    }
   ],
   "source": [
    "# Find the row with the highest rating\n",
    "max_rating_row = df[df['Rating'] == df['Rating'].max()]\n",
    "movie_highest_rating = max_rating_row['Name'].values[0]\n",
    "votes_highest_rating = max_rating_row['Votes'].values[0]\n",
    "\n",
    "print(\"Movie with the highest rating:\", movie_highest_rating)\n",
    "print(\"Number of votes for the movie with the highest rating:\", votes_highest_rating)\n",
    "print('\\n', '='*100, '\\n')\n",
    "\n",
    "\n",
    "# Find the row with the lowest rating\n",
    "min_rating_row = df[df['Rating'] == df['Rating'].min()]\n",
    "movie_lowest_rating = min_rating_row['Name'].values[0]\n",
    "votes_lowest_rating = min_rating_row['Votes'].values[0]\n",
    "\n",
    "print(\"Movie with the Lowest rating:\", movie_lowest_rating)\n",
    "print(\"Number of votes for the movie with the Lowest rating:\", votes_lowest_rating)"
   ]
  },
  {
   "cell_type": "code",
   "execution_count": 55,
   "id": "4f307ebb",
   "metadata": {},
   "outputs": [
    {
     "name": "stdout",
     "output_type": "stream",
     "text": [
      "Director with the highest number of movies directed: Kanti Shah\n",
      "Number of movies directed by Kanti Shah : 13\n",
      "\n",
      " ==================================================================================================== \n",
      "\n",
      "Director with the lowest number of movies directed: Rahul Dahiya\n",
      "Number of movies directed by Kanti Shah : 1\n"
     ]
    }
   ],
   "source": [
    "# Group the dataset by the 'Director' column and count the number of movies each director has directed\n",
    "director_counts = df['Director'].value_counts()\n",
    "\n",
    "# Find the director with the highest number of movies directed\n",
    "most_prolific_director = director_counts.idxmax()\n",
    "num_movies_directed = director_counts.max()\n",
    "\n",
    "print(\"Director with the highest number of movies directed:\", most_prolific_director)\n",
    "print(\"Number of movies directed by\", most_prolific_director, \":\", num_movies_directed)\n",
    "print('\\n', '='*100, '\\n')\n",
    "\n",
    "\n",
    "# Group the dataset by the 'Director' column and count the number of movies each director has directed\n",
    "director_counts = df['Director'].value_counts()\n",
    "\n",
    "# Find the director with the lowest number of movies directed\n",
    "least_prolific_director = director_counts.idxmin()\n",
    "num_movies_directed = director_counts.min()\n",
    "\n",
    "print(\"Director with the lowest number of movies directed:\", least_prolific_director)\n",
    "print(\"Number of movies directed by\", most_prolific_director, \":\", num_movies_directed)"
   ]
  },
  {
   "cell_type": "markdown",
   "id": "1f3e1230",
   "metadata": {},
   "source": [
    "### Univariate Anaysis"
   ]
  },
  {
   "cell_type": "code",
   "execution_count": 79,
   "id": "902c92a0",
   "metadata": {},
   "outputs": [
    {
     "data": {
      "application/vnd.plotly.v1+json": {
       "config": {
        "plotlyServerURL": "https://plot.ly"
       },
       "data": [
        {
         "alignmentgroup": "True",
         "bingroup": "x",
         "histnorm": "probability density",
         "hovertemplate": "Year=%{x}<br>probability density=%{y}<extra></extra>",
         "legendgroup": "",
         "marker": {
          "color": "#636efa",
          "pattern": {
           "shape": ""
          }
         },
         "name": "",
         "nbinsx": 30,
         "offsetgroup": "",
         "orientation": "v",
         "showlegend": false,
         "type": "histogram",
         "x": [
          2019,
          2004,
          2016,
          2005,
          1993,
          2004,
          2019,
          2017,
          2017,
          2019,
          1974,
          2019,
          2018,
          2019,
          1985,
          2019,
          2012,
          2014,
          2007,
          1988,
          2006,
          2017,
          2016,
          2017,
          2013,
          2013,
          2016,
          2019,
          2018,
          2017,
          2016,
          2004,
          2018,
          1977,
          2019,
          1982,
          1991,
          2009,
          2016,
          1994,
          1987,
          1993,
          1989,
          2001,
          1987,
          2003,
          1990,
          1993,
          1966,
          1997,
          2012,
          2007,
          1984,
          2003,
          1985,
          2019,
          1994,
          1985,
          1997,
          1974,
          2010,
          1977,
          1968,
          2014,
          1965,
          1993,
          1997,
          1956,
          1984,
          1957,
          2012,
          1995,
          1984,
          2007,
          1955,
          1983,
          2019,
          1978,
          1997,
          1997,
          1997,
          2000,
          1995,
          2015,
          2017,
          2017,
          1965,
          2014,
          1995,
          1999,
          2019,
          1973,
          2019,
          2019,
          2017,
          1953,
          2020,
          1997,
          2015,
          2016,
          1936,
          1961,
          1990,
          2013,
          1990,
          1986,
          2005,
          2017,
          1999,
          1969,
          2005,
          1997,
          1974,
          1982,
          2016,
          1971,
          1989,
          1982,
          1972,
          2006,
          1991,
          2021,
          1994,
          1972,
          1993,
          1960,
          1974,
          1957,
          1994,
          1978,
          2017,
          2010,
          2018,
          1986,
          2000,
          2020,
          2018,
          2020,
          2007,
          2020,
          2010,
          1993,
          2007,
          1988,
          1998,
          2010,
          1978,
          1983,
          1990,
          2020,
          2016,
          1982,
          1991,
          2001,
          1940,
          2017,
          2001,
          2017,
          2019,
          2015,
          2018,
          1986,
          2017,
          2003,
          1989,
          1987,
          1986,
          2014,
          1998,
          2019,
          1971,
          2013,
          1989,
          2019,
          1990,
          1951,
          1968,
          2019,
          1941,
          1985,
          1964,
          2021,
          1976,
          2015,
          2017,
          1956,
          2019,
          2012,
          2017,
          1968,
          2014,
          2020,
          1962,
          1992,
          2021,
          1950,
          1959,
          2019,
          2018,
          2000,
          2014,
          2013,
          2017,
          2005,
          1969,
          1992,
          2017,
          1960,
          2018,
          2013,
          2001,
          1970,
          1994,
          1997,
          1956,
          2001,
          2017,
          2017,
          2017,
          2017,
          2017,
          1998,
          1988,
          2003,
          1982,
          1935,
          2016,
          2018,
          1999,
          1999,
          2014,
          2018,
          2016,
          1977,
          1937,
          2012,
          2000,
          2018,
          1980,
          2013,
          2001,
          2017,
          1966,
          1954,
          2019,
          2012,
          1966,
          2005,
          2020,
          2009,
          1963,
          2016,
          2016,
          2014,
          2011,
          2013,
          2002,
          2021,
          1965,
          2018,
          2001,
          2011,
          2007,
          2018,
          2014,
          2012,
          2015,
          2013,
          2015,
          2017,
          1986,
          2015,
          2012,
          2001,
          1977,
          1985,
          2016,
          2004,
          1981,
          2012,
          2014,
          2015,
          2003,
          2016,
          2012,
          2003,
          1959,
          2006,
          2005,
          1969,
          1999,
          1967,
          1975,
          1934,
          1948,
          1935,
          1984,
          2002,
          1980,
          1975,
          2015,
          1983,
          2017,
          2014,
          2018,
          2015,
          2005,
          1992,
          2019,
          2013,
          2016,
          1996,
          1959,
          2019,
          2016,
          2015,
          2006,
          2016,
          2019,
          2020,
          2000,
          2015,
          1980,
          2003,
          2020,
          1974,
          1997,
          2015,
          2013,
          2015,
          2006,
          1986,
          2020,
          2006,
          2014,
          2020,
          2000,
          1992,
          1953,
          2012,
          2019,
          2017,
          1998,
          1950,
          2000,
          1978,
          1985,
          1998,
          2020,
          1982,
          2005,
          1988,
          2019,
          2019,
          1997,
          2003,
          2006,
          2001,
          2001,
          1975,
          2017,
          2016,
          2018,
          1987,
          2007,
          2014,
          2018,
          2009,
          2012,
          2002,
          1980,
          2014,
          1958,
          2005,
          2019,
          2019,
          2018,
          1980,
          2016,
          2015,
          1961,
          2020,
          2010,
          1959,
          2003,
          1935,
          1975,
          1981,
          2012,
          1991,
          1968,
          2017,
          2000,
          2016,
          1987,
          1953,
          1980,
          2015,
          1976,
          1953,
          2015,
          1972,
          1935,
          1998,
          1971,
          1977,
          1988,
          2014,
          1940,
          2017,
          1971,
          1964,
          2006,
          2019,
          2005,
          2018,
          2015,
          1999,
          2013,
          1931,
          2013,
          1990,
          2003,
          1943,
          2015,
          1998,
          1937,
          2002,
          2002,
          2007,
          1996,
          1971,
          2014,
          2018,
          1972,
          2000,
          2003,
          1983,
          1980,
          2020,
          1986,
          2002,
          1985,
          1985,
          2003,
          1989,
          1957,
          1991,
          2017,
          1993,
          1986,
          1970,
          1986,
          1963,
          2000,
          2015,
          1949,
          2009,
          1956,
          2018,
          2014,
          2019,
          1947,
          2018,
          2017,
          1989,
          2021,
          2005,
          2012,
          2019,
          2021,
          2010,
          1991,
          2014,
          2016,
          2007,
          2007,
          1959,
          2012,
          2018,
          2007,
          2017,
          2005,
          2012,
          2017,
          2007,
          2006,
          2004,
          2009,
          1978,
          2017,
          2018,
          2016,
          2016,
          1980,
          1983,
          1937,
          2018,
          2005,
          1955,
          1974,
          2011,
          2014,
          2016,
          1989,
          1992,
          1993,
          1986,
          1985,
          1984,
          1990,
          1989,
          1967,
          1998,
          2020,
          2007,
          1984,
          2004,
          2000,
          2016,
          2019,
          1963,
          1983,
          2019,
          1948,
          2017,
          2012,
          2015,
          1997,
          2017,
          2012,
          1970,
          1988,
          1995,
          1995,
          2020,
          1969,
          1962,
          2011,
          2002,
          2020,
          1998,
          2014,
          2016,
          2015,
          1956,
          1978,
          1985,
          2018,
          1984,
          2005,
          1974,
          2018,
          1991,
          1950,
          2018,
          1982,
          2018,
          1993,
          1967,
          1998,
          1991,
          2020,
          2004,
          1968,
          1998,
          2003,
          1982,
          2018,
          2021,
          1964,
          2012,
          2018,
          2018,
          2002,
          1977,
          2020,
          2017,
          2013,
          2006,
          2017,
          2019,
          1991,
          2009,
          1999,
          2019,
          1946,
          2014,
          1951,
          1983,
          1988,
          2005,
          1971,
          2003,
          2007,
          1983,
          2006,
          2019,
          2010,
          2019,
          2015,
          2005,
          2013,
          2020,
          2017,
          2007,
          1974,
          2012,
          1996,
          1958,
          1935,
          1987,
          2012,
          2018,
          1973,
          2019,
          2013,
          2016,
          2004,
          1994,
          2015,
          2015,
          2010,
          2012,
          2017,
          1969,
          1987,
          1975,
          1985,
          1990,
          1992,
          2018,
          1971,
          2016,
          2019,
          1978,
          1999,
          2019,
          1951,
          1990,
          1995,
          2009,
          2013,
          1980,
          1977,
          2016,
          1936,
          2018,
          2017,
          1968,
          1987,
          1989,
          1959,
          1980,
          2017,
          1991,
          1979,
          1981,
          1984,
          1983,
          1991,
          1935,
          1936,
          2019,
          2012,
          2019,
          1985,
          2017,
          2014,
          1969,
          2006,
          2017,
          1999,
          1971,
          2019,
          1968,
          2016,
          2019,
          2021,
          1968,
          1998,
          2017,
          2019,
          2019,
          1981,
          2002,
          2015,
          1959,
          2017,
          2000,
          2004,
          1975,
          2020,
          1990,
          2018,
          2021,
          1961,
          1981,
          2019,
          2017,
          1990,
          1989,
          1963,
          1999,
          2013,
          1959,
          1992,
          2002,
          2018,
          1948,
          1997,
          2001,
          1984,
          1989,
          1997,
          2019,
          2000,
          2019,
          1994,
          2014,
          2018,
          1985,
          2019,
          1991,
          2018,
          2006,
          2004,
          2016,
          1984,
          2018,
          2004,
          2017,
          1984,
          1980,
          2007,
          2018,
          1981,
          1996,
          1999,
          1989,
          1991,
          1999,
          1958,
          2015,
          1983,
          1987,
          1992,
          2005,
          1997,
          2020,
          2017,
          1937,
          1943,
          2004,
          1978,
          1977,
          1989,
          1991,
          2021,
          1978,
          2020,
          1972,
          2001,
          2018,
          2017,
          1993,
          1997,
          2011,
          2011,
          2018,
          2007,
          2018,
          2018,
          2006,
          1987,
          1985,
          2007,
          2010,
          2018,
          2016,
          2012,
          2011,
          1966,
          2014,
          1953,
          2013,
          2013,
          1991,
          1966,
          1978,
          1971,
          1960,
          2012,
          2016,
          2018,
          2018,
          2010,
          1993,
          2012,
          2004,
          1988,
          2010,
          2017,
          2018,
          2019,
          2013,
          2019,
          2014,
          2019,
          2012,
          2016,
          1997,
          2015,
          2009,
          2006,
          2016,
          1959,
          2018,
          2018,
          2008,
          2009,
          2015,
          2014,
          2017,
          2012,
          2019,
          1970,
          1986,
          1964,
          2018,
          1984,
          2018,
          2017,
          2014,
          2021,
          2006,
          2004,
          1996,
          1979,
          1987,
          2016,
          2007,
          2015,
          1959,
          1989,
          1986,
          2015,
          2021,
          1999,
          2017,
          1988,
          1987,
          2017,
          1991,
          1967,
          2021,
          2006,
          1994,
          2004,
          1999,
          1954,
          1974,
          2014,
          2019,
          2017,
          2002,
          2015,
          2017,
          1986,
          2001,
          2017,
          2016,
          2003,
          2018,
          1998,
          2003,
          2002,
          1972,
          1932,
          2005,
          1975,
          1976,
          2018,
          2020,
          1942,
          1992,
          2018,
          1982,
          1998,
          1967,
          2018,
          2010,
          1971,
          1973,
          1992,
          1986,
          1989,
          2020,
          1985,
          1988,
          1984,
          2000,
          1971,
          1988,
          1998,
          2012,
          2018,
          1944,
          2003,
          2018,
          2001,
          2012,
          2020,
          2011,
          2004,
          2017,
          1957,
          1936,
          1957,
          1935,
          1989,
          2016,
          2016,
          2004,
          2002,
          2018,
          2016,
          1998,
          1984,
          2014,
          2009,
          2019,
          2015,
          2021,
          2009,
          2021,
          2004,
          2017,
          1977,
          2018,
          2003,
          1992,
          1988,
          2018,
          1988,
          2015,
          2016,
          2008,
          2008,
          2005,
          2012,
          2014,
          1942,
          2019,
          2017,
          2017,
          2015,
          2018,
          2016,
          2007,
          2017,
          2010,
          1970,
          2010,
          2012,
          2011,
          1992,
          1976,
          1991,
          1977,
          1989,
          1971,
          1968,
          2021,
          1943,
          1973,
          2018,
          2014,
          1955,
          2017,
          1963,
          1940,
          1992,
          2015,
          1962,
          1951,
          1947,
          1999,
          2005,
          1956,
          1990,
          2003,
          2021,
          1946,
          1957,
          2003,
          1990,
          2014,
          2015,
          1974,
          2019,
          1938,
          2019,
          2011,
          2007,
          1965,
          2018,
          1990,
          1999,
          2012,
          2008,
          2002,
          2019,
          2017,
          2006,
          1995,
          1988,
          2015,
          2004,
          2018,
          2013,
          1977,
          2015,
          2012,
          2001,
          1990,
          1988,
          2013,
          1984,
          1985,
          1973,
          1985,
          2005,
          1941,
          2020,
          2018,
          1956,
          1984,
          2018,
          2018,
          2008,
          2008,
          2010,
          1996,
          2000,
          2015,
          1995,
          2015,
          1972,
          2020,
          1989,
          1985,
          1984,
          2017,
          1985,
          2014,
          2004,
          2013,
          2003,
          1970,
          1961,
          1980,
          2008,
          2019,
          1985,
          2017,
          1974,
          2004,
          2018,
          2008,
          1945,
          1993,
          2013,
          2019,
          1966,
          2003,
          1972,
          2016,
          2017,
          2017,
          2014,
          2018,
          1992,
          1993,
          1981,
          2017,
          1973,
          2017,
          2004,
          2006,
          1991,
          1981,
          1994,
          1981,
          1997,
          1943,
          1997,
          1994,
          1994,
          2016,
          2018,
          1933,
          1989,
          1972,
          1973,
          2019,
          2014,
          2003,
          1969,
          1992,
          1990,
          1991,
          1984,
          2012,
          2001,
          2001,
          2019,
          1976,
          1992,
          1983,
          2018,
          1954,
          1990,
          2014,
          2017,
          1969,
          1953,
          1978,
          2001,
          1959,
          2018,
          1952,
          1969,
          1992,
          1936,
          2012,
          1994,
          2019,
          1977,
          2017,
          1977,
          2019,
          2017,
          2020,
          1984,
          1985,
          1985,
          1944,
          2015,
          2015,
          2017,
          1983,
          2019,
          2019,
          2004,
          2017,
          2018,
          2021,
          2020,
          2006,
          2005,
          2019,
          2019,
          2002,
          1988,
          2018,
          2005,
          2001,
          1988,
          1979,
          2019,
          1972,
          2014,
          2021,
          2003,
          2019,
          1988,
          1991,
          2015,
          2016,
          1993,
          1997,
          2015,
          1965,
          1985,
          1994,
          2008,
          1984,
          2015,
          2016,
          1982,
          1992,
          2015,
          2020,
          2017,
          1976,
          2003,
          2006,
          1958,
          1951,
          1988,
          1981,
          1986,
          2017,
          2017,
          1997,
          1980,
          1970,
          1998,
          2017,
          1979,
          2005,
          1996,
          1937,
          1975,
          1968,
          1969,
          2018,
          1936,
          1996,
          2017,
          1960,
          2005,
          1986,
          1980,
          2013,
          1969,
          1995,
          2001,
          1999,
          1996,
          1986,
          2012,
          1958,
          2020,
          2019,
          2019,
          2012,
          1955,
          1996,
          2019,
          2017,
          1972,
          2019,
          2005,
          2018,
          2015,
          2006,
          1949,
          2006,
          1990,
          1947,
          2015,
          1976,
          1976,
          1984,
          2019,
          1982,
          1950,
          1986,
          2011,
          1964,
          1947,
          2017,
          1999,
          1953,
          2005,
          2012,
          2012,
          2018,
          2006,
          1988,
          1972,
          2016,
          2016,
          2013,
          2017,
          2020,
          2020,
          2014,
          2019,
          1990,
          2013,
          2004,
          2015,
          2005,
          2007,
          2008,
          2006,
          2016,
          2012,
          2014,
          1979,
          1964,
          2020,
          1988,
          2013,
          1982,
          2014,
          1938,
          2014,
          1954,
          2005,
          1986,
          1983,
          1949,
          2009,
          2005,
          2016,
          1976,
          2014,
          2008,
          2020,
          1987,
          2004,
          2003,
          1990,
          1986,
          2018,
          1999,
          2003,
          1990,
          2019,
          1958,
          1998,
          1986,
          2021,
          2000,
          2019,
          2013,
          1984,
          1995,
          2019,
          1970,
          1966,
          2017,
          1968,
          1938,
          2016,
          2003,
          1985,
          2019,
          2001,
          2015,
          1989,
          2010,
          1978,
          1984,
          2014,
          1982,
          1982,
          2018,
          2011,
          2020,
          2016,
          2005,
          1989,
          2013,
          1976,
          1941,
          2018,
          2014,
          2013,
          2017,
          2009,
          2017,
          2008,
          2015,
          2013,
          2007,
          2020,
          2017,
          2017,
          2020,
          2017,
          2010,
          2017,
          2018,
          2020,
          2019,
          2016,
          1995,
          1980,
          2016,
          2015,
          2009,
          2020,
          2020,
          2000,
          2014,
          2014,
          2020,
          2015,
          2017,
          2017,
          2015,
          2013,
          2009,
          1992,
          1980,
          1983,
          2018,
          2015,
          1969,
          2016,
          2014,
          2017,
          2005,
          2019,
          1977,
          2018,
          1937,
          1978,
          2016,
          2019,
          2007,
          1985,
          1991,
          1988,
          1994,
          2020,
          2003,
          2008,
          2011,
          1978,
          2017,
          2012,
          2013,
          1992,
          2017,
          2011,
          2017,
          2018,
          2019,
          1975,
          1982,
          2015,
          1980,
          2017,
          2019,
          1971,
          2019,
          1970,
          1989,
          2015,
          2009,
          1946,
          2000,
          2021,
          1975,
          2001,
          2009,
          2018,
          1993,
          1975,
          2011,
          2006,
          1990,
          1986,
          2005,
          2009,
          1982,
          2020,
          2017,
          2021,
          1992,
          1996,
          1988,
          2016,
          2013,
          2017,
          2005,
          2006,
          2017,
          2020,
          2009,
          2019,
          2006,
          2018,
          2017,
          2004,
          2012,
          2020,
          1983,
          1974,
          2004,
          1989,
          2021,
          2020,
          2003,
          1984,
          2015,
          1977,
          1985,
          2015,
          2020,
          2014,
          1996,
          2015,
          2006,
          2011,
          2020,
          2003,
          2001,
          2012,
          1980,
          2018,
          1992,
          2019,
          2005,
          2018,
          2016,
          1998,
          1993,
          1943,
          2013,
          1972,
          2014,
          1960,
          1986,
          1986,
          1965,
          2013,
          2012,
          2019,
          2000,
          2018,
          2015
         ],
         "xaxis": "x",
         "yaxis": "y"
        }
       ],
       "layout": {
        "barmode": "relative",
        "legend": {
         "tracegroupgap": 0
        },
        "margin": {
         "t": 60
        },
        "template": {
         "data": {
          "bar": [
           {
            "error_x": {
             "color": "#2a3f5f"
            },
            "error_y": {
             "color": "#2a3f5f"
            },
            "marker": {
             "line": {
              "color": "#E5ECF6",
              "width": 0.5
             },
             "pattern": {
              "fillmode": "overlay",
              "size": 10,
              "solidity": 0.2
             }
            },
            "type": "bar"
           }
          ],
          "barpolar": [
           {
            "marker": {
             "line": {
              "color": "#E5ECF6",
              "width": 0.5
             },
             "pattern": {
              "fillmode": "overlay",
              "size": 10,
              "solidity": 0.2
             }
            },
            "type": "barpolar"
           }
          ],
          "carpet": [
           {
            "aaxis": {
             "endlinecolor": "#2a3f5f",
             "gridcolor": "white",
             "linecolor": "white",
             "minorgridcolor": "white",
             "startlinecolor": "#2a3f5f"
            },
            "baxis": {
             "endlinecolor": "#2a3f5f",
             "gridcolor": "white",
             "linecolor": "white",
             "minorgridcolor": "white",
             "startlinecolor": "#2a3f5f"
            },
            "type": "carpet"
           }
          ],
          "choropleth": [
           {
            "colorbar": {
             "outlinewidth": 0,
             "ticks": ""
            },
            "type": "choropleth"
           }
          ],
          "contour": [
           {
            "colorbar": {
             "outlinewidth": 0,
             "ticks": ""
            },
            "colorscale": [
             [
              0,
              "#0d0887"
             ],
             [
              0.1111111111111111,
              "#46039f"
             ],
             [
              0.2222222222222222,
              "#7201a8"
             ],
             [
              0.3333333333333333,
              "#9c179e"
             ],
             [
              0.4444444444444444,
              "#bd3786"
             ],
             [
              0.5555555555555556,
              "#d8576b"
             ],
             [
              0.6666666666666666,
              "#ed7953"
             ],
             [
              0.7777777777777778,
              "#fb9f3a"
             ],
             [
              0.8888888888888888,
              "#fdca26"
             ],
             [
              1,
              "#f0f921"
             ]
            ],
            "type": "contour"
           }
          ],
          "contourcarpet": [
           {
            "colorbar": {
             "outlinewidth": 0,
             "ticks": ""
            },
            "type": "contourcarpet"
           }
          ],
          "heatmap": [
           {
            "colorbar": {
             "outlinewidth": 0,
             "ticks": ""
            },
            "colorscale": [
             [
              0,
              "#0d0887"
             ],
             [
              0.1111111111111111,
              "#46039f"
             ],
             [
              0.2222222222222222,
              "#7201a8"
             ],
             [
              0.3333333333333333,
              "#9c179e"
             ],
             [
              0.4444444444444444,
              "#bd3786"
             ],
             [
              0.5555555555555556,
              "#d8576b"
             ],
             [
              0.6666666666666666,
              "#ed7953"
             ],
             [
              0.7777777777777778,
              "#fb9f3a"
             ],
             [
              0.8888888888888888,
              "#fdca26"
             ],
             [
              1,
              "#f0f921"
             ]
            ],
            "type": "heatmap"
           }
          ],
          "heatmapgl": [
           {
            "colorbar": {
             "outlinewidth": 0,
             "ticks": ""
            },
            "colorscale": [
             [
              0,
              "#0d0887"
             ],
             [
              0.1111111111111111,
              "#46039f"
             ],
             [
              0.2222222222222222,
              "#7201a8"
             ],
             [
              0.3333333333333333,
              "#9c179e"
             ],
             [
              0.4444444444444444,
              "#bd3786"
             ],
             [
              0.5555555555555556,
              "#d8576b"
             ],
             [
              0.6666666666666666,
              "#ed7953"
             ],
             [
              0.7777777777777778,
              "#fb9f3a"
             ],
             [
              0.8888888888888888,
              "#fdca26"
             ],
             [
              1,
              "#f0f921"
             ]
            ],
            "type": "heatmapgl"
           }
          ],
          "histogram": [
           {
            "marker": {
             "pattern": {
              "fillmode": "overlay",
              "size": 10,
              "solidity": 0.2
             }
            },
            "type": "histogram"
           }
          ],
          "histogram2d": [
           {
            "colorbar": {
             "outlinewidth": 0,
             "ticks": ""
            },
            "colorscale": [
             [
              0,
              "#0d0887"
             ],
             [
              0.1111111111111111,
              "#46039f"
             ],
             [
              0.2222222222222222,
              "#7201a8"
             ],
             [
              0.3333333333333333,
              "#9c179e"
             ],
             [
              0.4444444444444444,
              "#bd3786"
             ],
             [
              0.5555555555555556,
              "#d8576b"
             ],
             [
              0.6666666666666666,
              "#ed7953"
             ],
             [
              0.7777777777777778,
              "#fb9f3a"
             ],
             [
              0.8888888888888888,
              "#fdca26"
             ],
             [
              1,
              "#f0f921"
             ]
            ],
            "type": "histogram2d"
           }
          ],
          "histogram2dcontour": [
           {
            "colorbar": {
             "outlinewidth": 0,
             "ticks": ""
            },
            "colorscale": [
             [
              0,
              "#0d0887"
             ],
             [
              0.1111111111111111,
              "#46039f"
             ],
             [
              0.2222222222222222,
              "#7201a8"
             ],
             [
              0.3333333333333333,
              "#9c179e"
             ],
             [
              0.4444444444444444,
              "#bd3786"
             ],
             [
              0.5555555555555556,
              "#d8576b"
             ],
             [
              0.6666666666666666,
              "#ed7953"
             ],
             [
              0.7777777777777778,
              "#fb9f3a"
             ],
             [
              0.8888888888888888,
              "#fdca26"
             ],
             [
              1,
              "#f0f921"
             ]
            ],
            "type": "histogram2dcontour"
           }
          ],
          "mesh3d": [
           {
            "colorbar": {
             "outlinewidth": 0,
             "ticks": ""
            },
            "type": "mesh3d"
           }
          ],
          "parcoords": [
           {
            "line": {
             "colorbar": {
              "outlinewidth": 0,
              "ticks": ""
             }
            },
            "type": "parcoords"
           }
          ],
          "pie": [
           {
            "automargin": true,
            "type": "pie"
           }
          ],
          "scatter": [
           {
            "fillpattern": {
             "fillmode": "overlay",
             "size": 10,
             "solidity": 0.2
            },
            "type": "scatter"
           }
          ],
          "scatter3d": [
           {
            "line": {
             "colorbar": {
              "outlinewidth": 0,
              "ticks": ""
             }
            },
            "marker": {
             "colorbar": {
              "outlinewidth": 0,
              "ticks": ""
             }
            },
            "type": "scatter3d"
           }
          ],
          "scattercarpet": [
           {
            "marker": {
             "colorbar": {
              "outlinewidth": 0,
              "ticks": ""
             }
            },
            "type": "scattercarpet"
           }
          ],
          "scattergeo": [
           {
            "marker": {
             "colorbar": {
              "outlinewidth": 0,
              "ticks": ""
             }
            },
            "type": "scattergeo"
           }
          ],
          "scattergl": [
           {
            "marker": {
             "colorbar": {
              "outlinewidth": 0,
              "ticks": ""
             }
            },
            "type": "scattergl"
           }
          ],
          "scattermapbox": [
           {
            "marker": {
             "colorbar": {
              "outlinewidth": 0,
              "ticks": ""
             }
            },
            "type": "scattermapbox"
           }
          ],
          "scatterpolar": [
           {
            "marker": {
             "colorbar": {
              "outlinewidth": 0,
              "ticks": ""
             }
            },
            "type": "scatterpolar"
           }
          ],
          "scatterpolargl": [
           {
            "marker": {
             "colorbar": {
              "outlinewidth": 0,
              "ticks": ""
             }
            },
            "type": "scatterpolargl"
           }
          ],
          "scatterternary": [
           {
            "marker": {
             "colorbar": {
              "outlinewidth": 0,
              "ticks": ""
             }
            },
            "type": "scatterternary"
           }
          ],
          "surface": [
           {
            "colorbar": {
             "outlinewidth": 0,
             "ticks": ""
            },
            "colorscale": [
             [
              0,
              "#0d0887"
             ],
             [
              0.1111111111111111,
              "#46039f"
             ],
             [
              0.2222222222222222,
              "#7201a8"
             ],
             [
              0.3333333333333333,
              "#9c179e"
             ],
             [
              0.4444444444444444,
              "#bd3786"
             ],
             [
              0.5555555555555556,
              "#d8576b"
             ],
             [
              0.6666666666666666,
              "#ed7953"
             ],
             [
              0.7777777777777778,
              "#fb9f3a"
             ],
             [
              0.8888888888888888,
              "#fdca26"
             ],
             [
              1,
              "#f0f921"
             ]
            ],
            "type": "surface"
           }
          ],
          "table": [
           {
            "cells": {
             "fill": {
              "color": "#EBF0F8"
             },
             "line": {
              "color": "white"
             }
            },
            "header": {
             "fill": {
              "color": "#C8D4E3"
             },
             "line": {
              "color": "white"
             }
            },
            "type": "table"
           }
          ]
         },
         "layout": {
          "annotationdefaults": {
           "arrowcolor": "#2a3f5f",
           "arrowhead": 0,
           "arrowwidth": 1
          },
          "autotypenumbers": "strict",
          "coloraxis": {
           "colorbar": {
            "outlinewidth": 0,
            "ticks": ""
           }
          },
          "colorscale": {
           "diverging": [
            [
             0,
             "#8e0152"
            ],
            [
             0.1,
             "#c51b7d"
            ],
            [
             0.2,
             "#de77ae"
            ],
            [
             0.3,
             "#f1b6da"
            ],
            [
             0.4,
             "#fde0ef"
            ],
            [
             0.5,
             "#f7f7f7"
            ],
            [
             0.6,
             "#e6f5d0"
            ],
            [
             0.7,
             "#b8e186"
            ],
            [
             0.8,
             "#7fbc41"
            ],
            [
             0.9,
             "#4d9221"
            ],
            [
             1,
             "#276419"
            ]
           ],
           "sequential": [
            [
             0,
             "#0d0887"
            ],
            [
             0.1111111111111111,
             "#46039f"
            ],
            [
             0.2222222222222222,
             "#7201a8"
            ],
            [
             0.3333333333333333,
             "#9c179e"
            ],
            [
             0.4444444444444444,
             "#bd3786"
            ],
            [
             0.5555555555555556,
             "#d8576b"
            ],
            [
             0.6666666666666666,
             "#ed7953"
            ],
            [
             0.7777777777777778,
             "#fb9f3a"
            ],
            [
             0.8888888888888888,
             "#fdca26"
            ],
            [
             1,
             "#f0f921"
            ]
           ],
           "sequentialminus": [
            [
             0,
             "#0d0887"
            ],
            [
             0.1111111111111111,
             "#46039f"
            ],
            [
             0.2222222222222222,
             "#7201a8"
            ],
            [
             0.3333333333333333,
             "#9c179e"
            ],
            [
             0.4444444444444444,
             "#bd3786"
            ],
            [
             0.5555555555555556,
             "#d8576b"
            ],
            [
             0.6666666666666666,
             "#ed7953"
            ],
            [
             0.7777777777777778,
             "#fb9f3a"
            ],
            [
             0.8888888888888888,
             "#fdca26"
            ],
            [
             1,
             "#f0f921"
            ]
           ]
          },
          "colorway": [
           "#636efa",
           "#EF553B",
           "#00cc96",
           "#ab63fa",
           "#FFA15A",
           "#19d3f3",
           "#FF6692",
           "#B6E880",
           "#FF97FF",
           "#FECB52"
          ],
          "font": {
           "color": "#2a3f5f"
          },
          "geo": {
           "bgcolor": "white",
           "lakecolor": "white",
           "landcolor": "#E5ECF6",
           "showlakes": true,
           "showland": true,
           "subunitcolor": "white"
          },
          "hoverlabel": {
           "align": "left"
          },
          "hovermode": "closest",
          "mapbox": {
           "style": "light"
          },
          "paper_bgcolor": "white",
          "plot_bgcolor": "#E5ECF6",
          "polar": {
           "angularaxis": {
            "gridcolor": "white",
            "linecolor": "white",
            "ticks": ""
           },
           "bgcolor": "#E5ECF6",
           "radialaxis": {
            "gridcolor": "white",
            "linecolor": "white",
            "ticks": ""
           }
          },
          "scene": {
           "xaxis": {
            "backgroundcolor": "#E5ECF6",
            "gridcolor": "white",
            "gridwidth": 2,
            "linecolor": "white",
            "showbackground": true,
            "ticks": "",
            "zerolinecolor": "white"
           },
           "yaxis": {
            "backgroundcolor": "#E5ECF6",
            "gridcolor": "white",
            "gridwidth": 2,
            "linecolor": "white",
            "showbackground": true,
            "ticks": "",
            "zerolinecolor": "white"
           },
           "zaxis": {
            "backgroundcolor": "#E5ECF6",
            "gridcolor": "white",
            "gridwidth": 2,
            "linecolor": "white",
            "showbackground": true,
            "ticks": "",
            "zerolinecolor": "white"
           }
          },
          "shapedefaults": {
           "line": {
            "color": "#2a3f5f"
           }
          },
          "ternary": {
           "aaxis": {
            "gridcolor": "white",
            "linecolor": "white",
            "ticks": ""
           },
           "baxis": {
            "gridcolor": "white",
            "linecolor": "white",
            "ticks": ""
           },
           "bgcolor": "#E5ECF6",
           "caxis": {
            "gridcolor": "white",
            "linecolor": "white",
            "ticks": ""
           }
          },
          "title": {
           "x": 0.05
          },
          "xaxis": {
           "automargin": true,
           "gridcolor": "white",
           "linecolor": "white",
           "ticks": "",
           "title": {
            "standoff": 15
           },
           "zerolinecolor": "white",
           "zerolinewidth": 2
          },
          "yaxis": {
           "automargin": true,
           "gridcolor": "white",
           "linecolor": "white",
           "ticks": "",
           "title": {
            "standoff": 15
           },
           "zerolinecolor": "white",
           "zerolinewidth": 2
          }
         }
        },
        "title": {
         "text": "Distribution of Year"
        },
        "xaxis": {
         "anchor": "y",
         "domain": [
          0,
          1
         ],
         "title": {
          "text": "Year"
         }
        },
        "yaxis": {
         "anchor": "x",
         "domain": [
          0,
          1
         ],
         "title": {
          "text": "Probability Density"
         }
        }
       }
      },
      "text/html": [
       "<div>                            <div id=\"d9fbef2c-382c-42b7-88f8-0986b1b9eda4\" class=\"plotly-graph-div\" style=\"height:525px; width:100%;\"></div>            <script type=\"text/javascript\">                require([\"plotly\"], function(Plotly) {                    window.PLOTLYENV=window.PLOTLYENV || {};                                    if (document.getElementById(\"d9fbef2c-382c-42b7-88f8-0986b1b9eda4\")) {                    Plotly.newPlot(                        \"d9fbef2c-382c-42b7-88f8-0986b1b9eda4\",                        [{\"alignmentgroup\":\"True\",\"bingroup\":\"x\",\"histnorm\":\"probability density\",\"hovertemplate\":\"Year=%{x}<br>probability density=%{y}<extra></extra>\",\"legendgroup\":\"\",\"marker\":{\"color\":\"#636efa\",\"pattern\":{\"shape\":\"\"}},\"name\":\"\",\"nbinsx\":30,\"offsetgroup\":\"\",\"orientation\":\"v\",\"showlegend\":false,\"x\":[2019,2004,2016,2005,1993,2004,2019,2017,2017,2019,1974,2019,2018,2019,1985,2019,2012,2014,2007,1988,2006,2017,2016,2017,2013,2013,2016,2019,2018,2017,2016,2004,2018,1977,2019,1982,1991,2009,2016,1994,1987,1993,1989,2001,1987,2003,1990,1993,1966,1997,2012,2007,1984,2003,1985,2019,1994,1985,1997,1974,2010,1977,1968,2014,1965,1993,1997,1956,1984,1957,2012,1995,1984,2007,1955,1983,2019,1978,1997,1997,1997,2000,1995,2015,2017,2017,1965,2014,1995,1999,2019,1973,2019,2019,2017,1953,2020,1997,2015,2016,1936,1961,1990,2013,1990,1986,2005,2017,1999,1969,2005,1997,1974,1982,2016,1971,1989,1982,1972,2006,1991,2021,1994,1972,1993,1960,1974,1957,1994,1978,2017,2010,2018,1986,2000,2020,2018,2020,2007,2020,2010,1993,2007,1988,1998,2010,1978,1983,1990,2020,2016,1982,1991,2001,1940,2017,2001,2017,2019,2015,2018,1986,2017,2003,1989,1987,1986,2014,1998,2019,1971,2013,1989,2019,1990,1951,1968,2019,1941,1985,1964,2021,1976,2015,2017,1956,2019,2012,2017,1968,2014,2020,1962,1992,2021,1950,1959,2019,2018,2000,2014,2013,2017,2005,1969,1992,2017,1960,2018,2013,2001,1970,1994,1997,1956,2001,2017,2017,2017,2017,2017,1998,1988,2003,1982,1935,2016,2018,1999,1999,2014,2018,2016,1977,1937,2012,2000,2018,1980,2013,2001,2017,1966,1954,2019,2012,1966,2005,2020,2009,1963,2016,2016,2014,2011,2013,2002,2021,1965,2018,2001,2011,2007,2018,2014,2012,2015,2013,2015,2017,1986,2015,2012,2001,1977,1985,2016,2004,1981,2012,2014,2015,2003,2016,2012,2003,1959,2006,2005,1969,1999,1967,1975,1934,1948,1935,1984,2002,1980,1975,2015,1983,2017,2014,2018,2015,2005,1992,2019,2013,2016,1996,1959,2019,2016,2015,2006,2016,2019,2020,2000,2015,1980,2003,2020,1974,1997,2015,2013,2015,2006,1986,2020,2006,2014,2020,2000,1992,1953,2012,2019,2017,1998,1950,2000,1978,1985,1998,2020,1982,2005,1988,2019,2019,1997,2003,2006,2001,2001,1975,2017,2016,2018,1987,2007,2014,2018,2009,2012,2002,1980,2014,1958,2005,2019,2019,2018,1980,2016,2015,1961,2020,2010,1959,2003,1935,1975,1981,2012,1991,1968,2017,2000,2016,1987,1953,1980,2015,1976,1953,2015,1972,1935,1998,1971,1977,1988,2014,1940,2017,1971,1964,2006,2019,2005,2018,2015,1999,2013,1931,2013,1990,2003,1943,2015,1998,1937,2002,2002,2007,1996,1971,2014,2018,1972,2000,2003,1983,1980,2020,1986,2002,1985,1985,2003,1989,1957,1991,2017,1993,1986,1970,1986,1963,2000,2015,1949,2009,1956,2018,2014,2019,1947,2018,2017,1989,2021,2005,2012,2019,2021,2010,1991,2014,2016,2007,2007,1959,2012,2018,2007,2017,2005,2012,2017,2007,2006,2004,2009,1978,2017,2018,2016,2016,1980,1983,1937,2018,2005,1955,1974,2011,2014,2016,1989,1992,1993,1986,1985,1984,1990,1989,1967,1998,2020,2007,1984,2004,2000,2016,2019,1963,1983,2019,1948,2017,2012,2015,1997,2017,2012,1970,1988,1995,1995,2020,1969,1962,2011,2002,2020,1998,2014,2016,2015,1956,1978,1985,2018,1984,2005,1974,2018,1991,1950,2018,1982,2018,1993,1967,1998,1991,2020,2004,1968,1998,2003,1982,2018,2021,1964,2012,2018,2018,2002,1977,2020,2017,2013,2006,2017,2019,1991,2009,1999,2019,1946,2014,1951,1983,1988,2005,1971,2003,2007,1983,2006,2019,2010,2019,2015,2005,2013,2020,2017,2007,1974,2012,1996,1958,1935,1987,2012,2018,1973,2019,2013,2016,2004,1994,2015,2015,2010,2012,2017,1969,1987,1975,1985,1990,1992,2018,1971,2016,2019,1978,1999,2019,1951,1990,1995,2009,2013,1980,1977,2016,1936,2018,2017,1968,1987,1989,1959,1980,2017,1991,1979,1981,1984,1983,1991,1935,1936,2019,2012,2019,1985,2017,2014,1969,2006,2017,1999,1971,2019,1968,2016,2019,2021,1968,1998,2017,2019,2019,1981,2002,2015,1959,2017,2000,2004,1975,2020,1990,2018,2021,1961,1981,2019,2017,1990,1989,1963,1999,2013,1959,1992,2002,2018,1948,1997,2001,1984,1989,1997,2019,2000,2019,1994,2014,2018,1985,2019,1991,2018,2006,2004,2016,1984,2018,2004,2017,1984,1980,2007,2018,1981,1996,1999,1989,1991,1999,1958,2015,1983,1987,1992,2005,1997,2020,2017,1937,1943,2004,1978,1977,1989,1991,2021,1978,2020,1972,2001,2018,2017,1993,1997,2011,2011,2018,2007,2018,2018,2006,1987,1985,2007,2010,2018,2016,2012,2011,1966,2014,1953,2013,2013,1991,1966,1978,1971,1960,2012,2016,2018,2018,2010,1993,2012,2004,1988,2010,2017,2018,2019,2013,2019,2014,2019,2012,2016,1997,2015,2009,2006,2016,1959,2018,2018,2008,2009,2015,2014,2017,2012,2019,1970,1986,1964,2018,1984,2018,2017,2014,2021,2006,2004,1996,1979,1987,2016,2007,2015,1959,1989,1986,2015,2021,1999,2017,1988,1987,2017,1991,1967,2021,2006,1994,2004,1999,1954,1974,2014,2019,2017,2002,2015,2017,1986,2001,2017,2016,2003,2018,1998,2003,2002,1972,1932,2005,1975,1976,2018,2020,1942,1992,2018,1982,1998,1967,2018,2010,1971,1973,1992,1986,1989,2020,1985,1988,1984,2000,1971,1988,1998,2012,2018,1944,2003,2018,2001,2012,2020,2011,2004,2017,1957,1936,1957,1935,1989,2016,2016,2004,2002,2018,2016,1998,1984,2014,2009,2019,2015,2021,2009,2021,2004,2017,1977,2018,2003,1992,1988,2018,1988,2015,2016,2008,2008,2005,2012,2014,1942,2019,2017,2017,2015,2018,2016,2007,2017,2010,1970,2010,2012,2011,1992,1976,1991,1977,1989,1971,1968,2021,1943,1973,2018,2014,1955,2017,1963,1940,1992,2015,1962,1951,1947,1999,2005,1956,1990,2003,2021,1946,1957,2003,1990,2014,2015,1974,2019,1938,2019,2011,2007,1965,2018,1990,1999,2012,2008,2002,2019,2017,2006,1995,1988,2015,2004,2018,2013,1977,2015,2012,2001,1990,1988,2013,1984,1985,1973,1985,2005,1941,2020,2018,1956,1984,2018,2018,2008,2008,2010,1996,2000,2015,1995,2015,1972,2020,1989,1985,1984,2017,1985,2014,2004,2013,2003,1970,1961,1980,2008,2019,1985,2017,1974,2004,2018,2008,1945,1993,2013,2019,1966,2003,1972,2016,2017,2017,2014,2018,1992,1993,1981,2017,1973,2017,2004,2006,1991,1981,1994,1981,1997,1943,1997,1994,1994,2016,2018,1933,1989,1972,1973,2019,2014,2003,1969,1992,1990,1991,1984,2012,2001,2001,2019,1976,1992,1983,2018,1954,1990,2014,2017,1969,1953,1978,2001,1959,2018,1952,1969,1992,1936,2012,1994,2019,1977,2017,1977,2019,2017,2020,1984,1985,1985,1944,2015,2015,2017,1983,2019,2019,2004,2017,2018,2021,2020,2006,2005,2019,2019,2002,1988,2018,2005,2001,1988,1979,2019,1972,2014,2021,2003,2019,1988,1991,2015,2016,1993,1997,2015,1965,1985,1994,2008,1984,2015,2016,1982,1992,2015,2020,2017,1976,2003,2006,1958,1951,1988,1981,1986,2017,2017,1997,1980,1970,1998,2017,1979,2005,1996,1937,1975,1968,1969,2018,1936,1996,2017,1960,2005,1986,1980,2013,1969,1995,2001,1999,1996,1986,2012,1958,2020,2019,2019,2012,1955,1996,2019,2017,1972,2019,2005,2018,2015,2006,1949,2006,1990,1947,2015,1976,1976,1984,2019,1982,1950,1986,2011,1964,1947,2017,1999,1953,2005,2012,2012,2018,2006,1988,1972,2016,2016,2013,2017,2020,2020,2014,2019,1990,2013,2004,2015,2005,2007,2008,2006,2016,2012,2014,1979,1964,2020,1988,2013,1982,2014,1938,2014,1954,2005,1986,1983,1949,2009,2005,2016,1976,2014,2008,2020,1987,2004,2003,1990,1986,2018,1999,2003,1990,2019,1958,1998,1986,2021,2000,2019,2013,1984,1995,2019,1970,1966,2017,1968,1938,2016,2003,1985,2019,2001,2015,1989,2010,1978,1984,2014,1982,1982,2018,2011,2020,2016,2005,1989,2013,1976,1941,2018,2014,2013,2017,2009,2017,2008,2015,2013,2007,2020,2017,2017,2020,2017,2010,2017,2018,2020,2019,2016,1995,1980,2016,2015,2009,2020,2020,2000,2014,2014,2020,2015,2017,2017,2015,2013,2009,1992,1980,1983,2018,2015,1969,2016,2014,2017,2005,2019,1977,2018,1937,1978,2016,2019,2007,1985,1991,1988,1994,2020,2003,2008,2011,1978,2017,2012,2013,1992,2017,2011,2017,2018,2019,1975,1982,2015,1980,2017,2019,1971,2019,1970,1989,2015,2009,1946,2000,2021,1975,2001,2009,2018,1993,1975,2011,2006,1990,1986,2005,2009,1982,2020,2017,2021,1992,1996,1988,2016,2013,2017,2005,2006,2017,2020,2009,2019,2006,2018,2017,2004,2012,2020,1983,1974,2004,1989,2021,2020,2003,1984,2015,1977,1985,2015,2020,2014,1996,2015,2006,2011,2020,2003,2001,2012,1980,2018,1992,2019,2005,2018,2016,1998,1993,1943,2013,1972,2014,1960,1986,1986,1965,2013,2012,2019,2000,2018,2015],\"xaxis\":\"x\",\"yaxis\":\"y\",\"type\":\"histogram\"}],                        {\"template\":{\"data\":{\"histogram2dcontour\":[{\"type\":\"histogram2dcontour\",\"colorbar\":{\"outlinewidth\":0,\"ticks\":\"\"},\"colorscale\":[[0.0,\"#0d0887\"],[0.1111111111111111,\"#46039f\"],[0.2222222222222222,\"#7201a8\"],[0.3333333333333333,\"#9c179e\"],[0.4444444444444444,\"#bd3786\"],[0.5555555555555556,\"#d8576b\"],[0.6666666666666666,\"#ed7953\"],[0.7777777777777778,\"#fb9f3a\"],[0.8888888888888888,\"#fdca26\"],[1.0,\"#f0f921\"]]}],\"choropleth\":[{\"type\":\"choropleth\",\"colorbar\":{\"outlinewidth\":0,\"ticks\":\"\"}}],\"histogram2d\":[{\"type\":\"histogram2d\",\"colorbar\":{\"outlinewidth\":0,\"ticks\":\"\"},\"colorscale\":[[0.0,\"#0d0887\"],[0.1111111111111111,\"#46039f\"],[0.2222222222222222,\"#7201a8\"],[0.3333333333333333,\"#9c179e\"],[0.4444444444444444,\"#bd3786\"],[0.5555555555555556,\"#d8576b\"],[0.6666666666666666,\"#ed7953\"],[0.7777777777777778,\"#fb9f3a\"],[0.8888888888888888,\"#fdca26\"],[1.0,\"#f0f921\"]]}],\"heatmap\":[{\"type\":\"heatmap\",\"colorbar\":{\"outlinewidth\":0,\"ticks\":\"\"},\"colorscale\":[[0.0,\"#0d0887\"],[0.1111111111111111,\"#46039f\"],[0.2222222222222222,\"#7201a8\"],[0.3333333333333333,\"#9c179e\"],[0.4444444444444444,\"#bd3786\"],[0.5555555555555556,\"#d8576b\"],[0.6666666666666666,\"#ed7953\"],[0.7777777777777778,\"#fb9f3a\"],[0.8888888888888888,\"#fdca26\"],[1.0,\"#f0f921\"]]}],\"heatmapgl\":[{\"type\":\"heatmapgl\",\"colorbar\":{\"outlinewidth\":0,\"ticks\":\"\"},\"colorscale\":[[0.0,\"#0d0887\"],[0.1111111111111111,\"#46039f\"],[0.2222222222222222,\"#7201a8\"],[0.3333333333333333,\"#9c179e\"],[0.4444444444444444,\"#bd3786\"],[0.5555555555555556,\"#d8576b\"],[0.6666666666666666,\"#ed7953\"],[0.7777777777777778,\"#fb9f3a\"],[0.8888888888888888,\"#fdca26\"],[1.0,\"#f0f921\"]]}],\"contourcarpet\":[{\"type\":\"contourcarpet\",\"colorbar\":{\"outlinewidth\":0,\"ticks\":\"\"}}],\"contour\":[{\"type\":\"contour\",\"colorbar\":{\"outlinewidth\":0,\"ticks\":\"\"},\"colorscale\":[[0.0,\"#0d0887\"],[0.1111111111111111,\"#46039f\"],[0.2222222222222222,\"#7201a8\"],[0.3333333333333333,\"#9c179e\"],[0.4444444444444444,\"#bd3786\"],[0.5555555555555556,\"#d8576b\"],[0.6666666666666666,\"#ed7953\"],[0.7777777777777778,\"#fb9f3a\"],[0.8888888888888888,\"#fdca26\"],[1.0,\"#f0f921\"]]}],\"surface\":[{\"type\":\"surface\",\"colorbar\":{\"outlinewidth\":0,\"ticks\":\"\"},\"colorscale\":[[0.0,\"#0d0887\"],[0.1111111111111111,\"#46039f\"],[0.2222222222222222,\"#7201a8\"],[0.3333333333333333,\"#9c179e\"],[0.4444444444444444,\"#bd3786\"],[0.5555555555555556,\"#d8576b\"],[0.6666666666666666,\"#ed7953\"],[0.7777777777777778,\"#fb9f3a\"],[0.8888888888888888,\"#fdca26\"],[1.0,\"#f0f921\"]]}],\"mesh3d\":[{\"type\":\"mesh3d\",\"colorbar\":{\"outlinewidth\":0,\"ticks\":\"\"}}],\"scatter\":[{\"fillpattern\":{\"fillmode\":\"overlay\",\"size\":10,\"solidity\":0.2},\"type\":\"scatter\"}],\"parcoords\":[{\"type\":\"parcoords\",\"line\":{\"colorbar\":{\"outlinewidth\":0,\"ticks\":\"\"}}}],\"scatterpolargl\":[{\"type\":\"scatterpolargl\",\"marker\":{\"colorbar\":{\"outlinewidth\":0,\"ticks\":\"\"}}}],\"bar\":[{\"error_x\":{\"color\":\"#2a3f5f\"},\"error_y\":{\"color\":\"#2a3f5f\"},\"marker\":{\"line\":{\"color\":\"#E5ECF6\",\"width\":0.5},\"pattern\":{\"fillmode\":\"overlay\",\"size\":10,\"solidity\":0.2}},\"type\":\"bar\"}],\"scattergeo\":[{\"type\":\"scattergeo\",\"marker\":{\"colorbar\":{\"outlinewidth\":0,\"ticks\":\"\"}}}],\"scatterpolar\":[{\"type\":\"scatterpolar\",\"marker\":{\"colorbar\":{\"outlinewidth\":0,\"ticks\":\"\"}}}],\"histogram\":[{\"marker\":{\"pattern\":{\"fillmode\":\"overlay\",\"size\":10,\"solidity\":0.2}},\"type\":\"histogram\"}],\"scattergl\":[{\"type\":\"scattergl\",\"marker\":{\"colorbar\":{\"outlinewidth\":0,\"ticks\":\"\"}}}],\"scatter3d\":[{\"type\":\"scatter3d\",\"line\":{\"colorbar\":{\"outlinewidth\":0,\"ticks\":\"\"}},\"marker\":{\"colorbar\":{\"outlinewidth\":0,\"ticks\":\"\"}}}],\"scattermapbox\":[{\"type\":\"scattermapbox\",\"marker\":{\"colorbar\":{\"outlinewidth\":0,\"ticks\":\"\"}}}],\"scatterternary\":[{\"type\":\"scatterternary\",\"marker\":{\"colorbar\":{\"outlinewidth\":0,\"ticks\":\"\"}}}],\"scattercarpet\":[{\"type\":\"scattercarpet\",\"marker\":{\"colorbar\":{\"outlinewidth\":0,\"ticks\":\"\"}}}],\"carpet\":[{\"aaxis\":{\"endlinecolor\":\"#2a3f5f\",\"gridcolor\":\"white\",\"linecolor\":\"white\",\"minorgridcolor\":\"white\",\"startlinecolor\":\"#2a3f5f\"},\"baxis\":{\"endlinecolor\":\"#2a3f5f\",\"gridcolor\":\"white\",\"linecolor\":\"white\",\"minorgridcolor\":\"white\",\"startlinecolor\":\"#2a3f5f\"},\"type\":\"carpet\"}],\"table\":[{\"cells\":{\"fill\":{\"color\":\"#EBF0F8\"},\"line\":{\"color\":\"white\"}},\"header\":{\"fill\":{\"color\":\"#C8D4E3\"},\"line\":{\"color\":\"white\"}},\"type\":\"table\"}],\"barpolar\":[{\"marker\":{\"line\":{\"color\":\"#E5ECF6\",\"width\":0.5},\"pattern\":{\"fillmode\":\"overlay\",\"size\":10,\"solidity\":0.2}},\"type\":\"barpolar\"}],\"pie\":[{\"automargin\":true,\"type\":\"pie\"}]},\"layout\":{\"autotypenumbers\":\"strict\",\"colorway\":[\"#636efa\",\"#EF553B\",\"#00cc96\",\"#ab63fa\",\"#FFA15A\",\"#19d3f3\",\"#FF6692\",\"#B6E880\",\"#FF97FF\",\"#FECB52\"],\"font\":{\"color\":\"#2a3f5f\"},\"hovermode\":\"closest\",\"hoverlabel\":{\"align\":\"left\"},\"paper_bgcolor\":\"white\",\"plot_bgcolor\":\"#E5ECF6\",\"polar\":{\"bgcolor\":\"#E5ECF6\",\"angularaxis\":{\"gridcolor\":\"white\",\"linecolor\":\"white\",\"ticks\":\"\"},\"radialaxis\":{\"gridcolor\":\"white\",\"linecolor\":\"white\",\"ticks\":\"\"}},\"ternary\":{\"bgcolor\":\"#E5ECF6\",\"aaxis\":{\"gridcolor\":\"white\",\"linecolor\":\"white\",\"ticks\":\"\"},\"baxis\":{\"gridcolor\":\"white\",\"linecolor\":\"white\",\"ticks\":\"\"},\"caxis\":{\"gridcolor\":\"white\",\"linecolor\":\"white\",\"ticks\":\"\"}},\"coloraxis\":{\"colorbar\":{\"outlinewidth\":0,\"ticks\":\"\"}},\"colorscale\":{\"sequential\":[[0.0,\"#0d0887\"],[0.1111111111111111,\"#46039f\"],[0.2222222222222222,\"#7201a8\"],[0.3333333333333333,\"#9c179e\"],[0.4444444444444444,\"#bd3786\"],[0.5555555555555556,\"#d8576b\"],[0.6666666666666666,\"#ed7953\"],[0.7777777777777778,\"#fb9f3a\"],[0.8888888888888888,\"#fdca26\"],[1.0,\"#f0f921\"]],\"sequentialminus\":[[0.0,\"#0d0887\"],[0.1111111111111111,\"#46039f\"],[0.2222222222222222,\"#7201a8\"],[0.3333333333333333,\"#9c179e\"],[0.4444444444444444,\"#bd3786\"],[0.5555555555555556,\"#d8576b\"],[0.6666666666666666,\"#ed7953\"],[0.7777777777777778,\"#fb9f3a\"],[0.8888888888888888,\"#fdca26\"],[1.0,\"#f0f921\"]],\"diverging\":[[0,\"#8e0152\"],[0.1,\"#c51b7d\"],[0.2,\"#de77ae\"],[0.3,\"#f1b6da\"],[0.4,\"#fde0ef\"],[0.5,\"#f7f7f7\"],[0.6,\"#e6f5d0\"],[0.7,\"#b8e186\"],[0.8,\"#7fbc41\"],[0.9,\"#4d9221\"],[1,\"#276419\"]]},\"xaxis\":{\"gridcolor\":\"white\",\"linecolor\":\"white\",\"ticks\":\"\",\"title\":{\"standoff\":15},\"zerolinecolor\":\"white\",\"automargin\":true,\"zerolinewidth\":2},\"yaxis\":{\"gridcolor\":\"white\",\"linecolor\":\"white\",\"ticks\":\"\",\"title\":{\"standoff\":15},\"zerolinecolor\":\"white\",\"automargin\":true,\"zerolinewidth\":2},\"scene\":{\"xaxis\":{\"backgroundcolor\":\"#E5ECF6\",\"gridcolor\":\"white\",\"linecolor\":\"white\",\"showbackground\":true,\"ticks\":\"\",\"zerolinecolor\":\"white\",\"gridwidth\":2},\"yaxis\":{\"backgroundcolor\":\"#E5ECF6\",\"gridcolor\":\"white\",\"linecolor\":\"white\",\"showbackground\":true,\"ticks\":\"\",\"zerolinecolor\":\"white\",\"gridwidth\":2},\"zaxis\":{\"backgroundcolor\":\"#E5ECF6\",\"gridcolor\":\"white\",\"linecolor\":\"white\",\"showbackground\":true,\"ticks\":\"\",\"zerolinecolor\":\"white\",\"gridwidth\":2}},\"shapedefaults\":{\"line\":{\"color\":\"#2a3f5f\"}},\"annotationdefaults\":{\"arrowcolor\":\"#2a3f5f\",\"arrowhead\":0,\"arrowwidth\":1},\"geo\":{\"bgcolor\":\"white\",\"landcolor\":\"#E5ECF6\",\"subunitcolor\":\"white\",\"showland\":true,\"showlakes\":true,\"lakecolor\":\"white\"},\"title\":{\"x\":0.05},\"mapbox\":{\"style\":\"light\"}}},\"xaxis\":{\"anchor\":\"y\",\"domain\":[0.0,1.0],\"title\":{\"text\":\"Year\"}},\"yaxis\":{\"anchor\":\"x\",\"domain\":[0.0,1.0],\"title\":{\"text\":\"Probability Density\"}},\"legend\":{\"tracegroupgap\":0},\"margin\":{\"t\":60},\"barmode\":\"relative\",\"title\":{\"text\":\"Distribution of Year\"}},                        {\"responsive\": true}                    ).then(function(){\n",
       "                            \n",
       "var gd = document.getElementById('d9fbef2c-382c-42b7-88f8-0986b1b9eda4');\n",
       "var x = new MutationObserver(function (mutations, observer) {{\n",
       "        var display = window.getComputedStyle(gd).display;\n",
       "        if (!display || display === 'none') {{\n",
       "            console.log([gd, 'removed!']);\n",
       "            Plotly.purge(gd);\n",
       "            observer.disconnect();\n",
       "        }}\n",
       "}});\n",
       "\n",
       "// Listen for the removal of the full notebook cells\n",
       "var notebookContainer = gd.closest('#notebook-container');\n",
       "if (notebookContainer) {{\n",
       "    x.observe(notebookContainer, {childList: true});\n",
       "}}\n",
       "\n",
       "// Listen for the clearing of the current output cell\n",
       "var outputEl = gd.closest('.output');\n",
       "if (outputEl) {{\n",
       "    x.observe(outputEl, {childList: true});\n",
       "}}\n",
       "\n",
       "                        })                };                });            </script>        </div>"
      ]
     },
     "metadata": {},
     "output_type": "display_data"
    }
   ],
   "source": [
    "fig_year = px.histogram(df, x = 'Year', histnorm='probability density', nbins = 30)\n",
    "fig_year.update_layout(title='Distribution of Year',  xaxis_title='Year', yaxis_title='Probability Density')\n",
    "fig_year.show()"
   ]
  },
  {
   "cell_type": "code",
   "execution_count": 78,
   "id": "b8ee42d6",
   "metadata": {},
   "outputs": [
    {
     "data": {
      "application/vnd.plotly.v1+json": {
       "config": {
        "plotlyServerURL": "https://plot.ly"
       },
       "data": [
        {
         "alignmentgroup": "True",
         "bingroup": "x",
         "histnorm": "probability density",
         "hovertemplate": "Duration=%{x}<br>probability density=%{y}<extra></extra>",
         "legendgroup": "",
         "marker": {
          "color": "#636efa",
          "pattern": {
           "shape": ""
          }
         },
         "name": "",
         "nbinsx": 40,
         "offsetgroup": "",
         "orientation": "v",
         "showlegend": false,
         "type": "histogram",
         "x": [
          109,
          96,
          120,
          116,
          168,
          94,
          107,
          113,
          130,
          126,
          115,
          122,
          100,
          93,
          102,
          145,
          111,
          104,
          92,
          126,
          100,
          124,
          105,
          145,
          127,
          140,
          112,
          104,
          121,
          123,
          120,
          144,
          72,
          132,
          107,
          154,
          142,
          78,
          145,
          133,
          170,
          137,
          151,
          78,
          116,
          46,
          132,
          162,
          153,
          138,
          116,
          152,
          130,
          160,
          144,
          94,
          141,
          125,
          180,
          129,
          120,
          136,
          146,
          132,
          172,
          150,
          132,
          146,
          128,
          133,
          78,
          127,
          132,
          88,
          150,
          122,
          120,
          151,
          142,
          137,
          123,
          140,
          145,
          120,
          115,
          104,
          136,
          58,
          160,
          165,
          136,
          124,
          100,
          109,
          120,
          135,
          97,
          149,
          133,
          137,
          166,
          121,
          153,
          95,
          155,
          135,
          102,
          113,
          169,
          152,
          110,
          151,
          131,
          153,
          142,
          148,
          91,
          134,
          125,
          154,
          160,
          84,
          136,
          125,
          137,
          173,
          122,
          131,
          90,
          118,
          103,
          86,
          97,
          128,
          109,
          102,
          127,
          120,
          300,
          135,
          155,
          152,
          142,
          149,
          119,
          96,
          144,
          150,
          149,
          101,
          131,
          131,
          152,
          102,
          140,
          117,
          79,
          127,
          65,
          138,
          48,
          148,
          120,
          118,
          138,
          146,
          129,
          123,
          119,
          95,
          100,
          103,
          91,
          137,
          145,
          170,
          160,
          120,
          156,
          147,
          133,
          72,
          176,
          68,
          81,
          132,
          133,
          117,
          120,
          176,
          136,
          102,
          145,
          126,
          108,
          148,
          169,
          131,
          161,
          125,
          125,
          125,
          128,
          88,
          135,
          172,
          127,
          160,
          115,
          89,
          113,
          136,
          136,
          172,
          164,
          133,
          83,
          84,
          115,
          120,
          74,
          105,
          113,
          95,
          142,
          143,
          122,
          128,
          85,
          100,
          96,
          93,
          140,
          142,
          141,
          74,
          140,
          138,
          131,
          131,
          115,
          91,
          139,
          145,
          100,
          116,
          126,
          122,
          120,
          114,
          135,
          150,
          125,
          124,
          81,
          127,
          107,
          115,
          136,
          68,
          114,
          116,
          93,
          95,
          119,
          126,
          130,
          120,
          131,
          126,
          150,
          83,
          164,
          165,
          136,
          137,
          134,
          92,
          140,
          120,
          111,
          127,
          150,
          130,
          95,
          108,
          149,
          169,
          120,
          137,
          129,
          166,
          140,
          128,
          207,
          136,
          109,
          136,
          147,
          156,
          102,
          130,
          123,
          88,
          85,
          106,
          136,
          102,
          90,
          130,
          97,
          141,
          155,
          127,
          110,
          116,
          155,
          135,
          90,
          114,
          85,
          107,
          135,
          99,
          108,
          135,
          98,
          113,
          137,
          90,
          92,
          140,
          104,
          142,
          116,
          120,
          140,
          119,
          139,
          130,
          89,
          97,
          145,
          149,
          120,
          110,
          106,
          153,
          145,
          152,
          76,
          146,
          113,
          107,
          128,
          121,
          108,
          125,
          180,
          137,
          75,
          155,
          91,
          100,
          126,
          110,
          98,
          141,
          94,
          130,
          158,
          139,
          114,
          87,
          117,
          79,
          135,
          146,
          148,
          129,
          150,
          117,
          100,
          153,
          126,
          129,
          139,
          152,
          97,
          120,
          137,
          130,
          148,
          110,
          127,
          142,
          120,
          130,
          155,
          131,
          120,
          127,
          153,
          139,
          130,
          145,
          110,
          90,
          144,
          99,
          138,
          135,
          147,
          130,
          104,
          102,
          92,
          92,
          137,
          124,
          120,
          171,
          130,
          120,
          160,
          143,
          166,
          147,
          116,
          110,
          153,
          177,
          125,
          123,
          115,
          71,
          120,
          137,
          147,
          100,
          133,
          122,
          139,
          133,
          95,
          105,
          137,
          100,
          105,
          130,
          138,
          136,
          135,
          132,
          115,
          73,
          164,
          120,
          151,
          97,
          140,
          94,
          133,
          102,
          104,
          139,
          134,
          145,
          117,
          80,
          84,
          87,
          165,
          97,
          84,
          106,
          86,
          160,
          112,
          85,
          109,
          141,
          138,
          180,
          104,
          111,
          127,
          145,
          120,
          119,
          140,
          107,
          128,
          112,
          157,
          145,
          134,
          124,
          102,
          129,
          146,
          90,
          125,
          124,
          111,
          151,
          150,
          105,
          153,
          156,
          155,
          158,
          157,
          138,
          108,
          126,
          103,
          126,
          123,
          120,
          90,
          110,
          140,
          134,
          155,
          64,
          90,
          130,
          139,
          132,
          96,
          110,
          169,
          140,
          125,
          134,
          136,
          152,
          102,
          75,
          118,
          140,
          102,
          120,
          125,
          117,
          128,
          82,
          108,
          108,
          89,
          120,
          136,
          121,
          137,
          109,
          160,
          135,
          149,
          133,
          136,
          129,
          102,
          93,
          170,
          186,
          120,
          133,
          135,
          102,
          142,
          149,
          106,
          102,
          128,
          125,
          47,
          115,
          91,
          118,
          130,
          104,
          112,
          127,
          172,
          143,
          121,
          126,
          144,
          119,
          137,
          134,
          142,
          135,
          149,
          120,
          118,
          125,
          95,
          117,
          102,
          100,
          120,
          98,
          127,
          140,
          131,
          143,
          143,
          121,
          144,
          145,
          82,
          124,
          116,
          155,
          103,
          125,
          148,
          134,
          132,
          108,
          131,
          93,
          127,
          136,
          160,
          140,
          139,
          137,
          127,
          131,
          139,
          94,
          112,
          163,
          173,
          141,
          162,
          90,
          195,
          131,
          126,
          130,
          185,
          110,
          139,
          135,
          139,
          82,
          135,
          120,
          143,
          124,
          173,
          144,
          93,
          132,
          133,
          149,
          120,
          139,
          140,
          104,
          140,
          133,
          136,
          93,
          142,
          154,
          147,
          144,
          161,
          134,
          100,
          155,
          115,
          149,
          93,
          128,
          133,
          78,
          109,
          90,
          144,
          135,
          109,
          148,
          127,
          90,
          73,
          136,
          101,
          138,
          125,
          132,
          95,
          137,
          136,
          95,
          147,
          131,
          120,
          93,
          132,
          127,
          162,
          112,
          70,
          122,
          124,
          130,
          120,
          95,
          88,
          113,
          135,
          103,
          120,
          115,
          99,
          130,
          96,
          121,
          110,
          119,
          127,
          125,
          167,
          119,
          74,
          100,
          106,
          134,
          103,
          92,
          117,
          117,
          87,
          127,
          130,
          97,
          145,
          82,
          91,
          158,
          155,
          155,
          120,
          100,
          84,
          137,
          143,
          119,
          142,
          124,
          143,
          135,
          141,
          137,
          85,
          125,
          140,
          130,
          65,
          180,
          130,
          92,
          105,
          65,
          140,
          104,
          116,
          112,
          150,
          107,
          86,
          121,
          143,
          124,
          136,
          87,
          125,
          106,
          161,
          125,
          113,
          133,
          135,
          123,
          148,
          134,
          147,
          92,
          108,
          92,
          120,
          90,
          113,
          108,
          137,
          125,
          130,
          81,
          85,
          108,
          105,
          103,
          120,
          100,
          90,
          160,
          122,
          107,
          126,
          132,
          157,
          122,
          129,
          91,
          156,
          127,
          117,
          180,
          140,
          124,
          148,
          151,
          152,
          145,
          139,
          116,
          113,
          120,
          130,
          133,
          145,
          128,
          137,
          130,
          106,
          80,
          82,
          167,
          160,
          130,
          127,
          120,
          146,
          45,
          120,
          180,
          178,
          127,
          136,
          106,
          137,
          130,
          90,
          137,
          199,
          112,
          100,
          130,
          94,
          109,
          109,
          80,
          118,
          152,
          96,
          119,
          99,
          130,
          120,
          95,
          115,
          107,
          154,
          99,
          103,
          124,
          96,
          80,
          155,
          152,
          79,
          140,
          153,
          162,
          99,
          104,
          138,
          120,
          155,
          135,
          150,
          162,
          140,
          141,
          129,
          142,
          164,
          140,
          161,
          180,
          108,
          122,
          110,
          90,
          131,
          146,
          98,
          87,
          107,
          130,
          119,
          161,
          148,
          90,
          102,
          133,
          113,
          117,
          104,
          119,
          143,
          126,
          130,
          100,
          112,
          113,
          115,
          93,
          105,
          85,
          95,
          108,
          119,
          114,
          155,
          95,
          142,
          140,
          156,
          135,
          100,
          130,
          134,
          146,
          77,
          128,
          133,
          130,
          132,
          134,
          136,
          95,
          104,
          190,
          87,
          122,
          143,
          165,
          120,
          132,
          182,
          132,
          136,
          127,
          131,
          156,
          126,
          128,
          121,
          146,
          84,
          146,
          130,
          110,
          125,
          150,
          132,
          137,
          128,
          130,
          147,
          104,
          99,
          142,
          118,
          136,
          65,
          122,
          140,
          154,
          165,
          125,
          95,
          133,
          100,
          128,
          95,
          95,
          110,
          138,
          108,
          155,
          123,
          105,
          80,
          118,
          117,
          99,
          92,
          160,
          101,
          122,
          89,
          129,
          126,
          150,
          59,
          114,
          146,
          160,
          153,
          115,
          141,
          130,
          98,
          129,
          162,
          135,
          123,
          145,
          88,
          138,
          100,
          49,
          113,
          131,
          98,
          143,
          143,
          83,
          170,
          116,
          129,
          120,
          125,
          139,
          110,
          120,
          109,
          120,
          83,
          155,
          157,
          152,
          139,
          114,
          140,
          128,
          141,
          134,
          132,
          142,
          118,
          109,
          122,
          117,
          127,
          120,
          138,
          188,
          175,
          130,
          85,
          120,
          107,
          110,
          158,
          155,
          138,
          128,
          120,
          126,
          83,
          150,
          125,
          121,
          125,
          150,
          114,
          121,
          130,
          135,
          138,
          110,
          97,
          159,
          139,
          135,
          137,
          116,
          133,
          106,
          135,
          154,
          161,
          136,
          100,
          145,
          96,
          113,
          85,
          109,
          127,
          118,
          122,
          120,
          149,
          119,
          70,
          120,
          139,
          133,
          151,
          171,
          117,
          146,
          144,
          125,
          138,
          120,
          135,
          128,
          90,
          111,
          130,
          122,
          112,
          104,
          140,
          157,
          141,
          122,
          139,
          98,
          93,
          180,
          162,
          80,
          116,
          124,
          101,
          65,
          89,
          125,
          131,
          88,
          80,
          82,
          80,
          159,
          145,
          105,
          158,
          78,
          123,
          117,
          80,
          95,
          50,
          107,
          139,
          119,
          90,
          100,
          128,
          117,
          107,
          135,
          150,
          153,
          110,
          137,
          83,
          139,
          117,
          130,
          150,
          132,
          54,
          135,
          114,
          109,
          137,
          129,
          120,
          133,
          132,
          120,
          109,
          149,
          128,
          162,
          126,
          129,
          128,
          151,
          165,
          131,
          155,
          168,
          100,
          137,
          157,
          116,
          106,
          118,
          126,
          148,
          114,
          152,
          175,
          132,
          97,
          139,
          144,
          135,
          115,
          185,
          104,
          120,
          47,
          130,
          140,
          150,
          126,
          127,
          134,
          90,
          129,
          140,
          99,
          73,
          138,
          79,
          128,
          76,
          155,
          130,
          115,
          135,
          122,
          127,
          144,
          113,
          115,
          120,
          133,
          110,
          125,
          110,
          162,
          139,
          111,
          67,
          100,
          147,
          170,
          125,
          132,
          95,
          93,
          52,
          90,
          99,
          142,
          123,
          96,
          100,
          105,
          134,
          160,
          135,
          112,
          133,
          97,
          94,
          140,
          80,
          153,
          153,
          114,
          135,
          134,
          135,
          100,
          107,
          105,
          143,
          143,
          143,
          127,
          60,
          110,
          121,
          90,
          66,
          139,
          140,
          189,
          90,
          160,
          151,
          104,
          133,
          154,
          135,
          121,
          182,
          127,
          115,
          155,
          144,
          120,
          110,
          171,
          122,
          104,
          131,
          136,
          101,
          160,
          158,
          120,
          143,
          116,
          153,
          148,
          107,
          127,
          122,
          103,
          120,
          73,
          195,
          155,
          104,
          125,
          142,
          65,
          110,
          149,
          90,
          134,
          144,
          125,
          93,
          121,
          138,
          87,
          119,
          95,
          48,
          92,
          110,
          100,
          89,
          137,
          102,
          100,
          82,
          118,
          98,
          122,
          90,
          140,
          89,
          141,
          96,
          97,
          90,
          115,
          113,
          108,
          110,
          124,
          96,
          91,
          119,
          90,
          87,
          105,
          115,
          140,
          150,
          137,
          121,
          124,
          155,
          130,
          94,
          151,
          88,
          113,
          135,
          124,
          112,
          136,
          87,
          107,
          130,
          137,
          157,
          114,
          120,
          96,
          155,
          134,
          135,
          136,
          72,
          127,
          92,
          145,
          100,
          140,
          90,
          123,
          120,
          137,
          151,
          93,
          125,
          106,
          137,
          122,
          112,
          110,
          153,
          85,
          101,
          98,
          145,
          93,
          136,
          158,
          175,
          135,
          129,
          127,
          144,
          250,
          135,
          148,
          118,
          120,
          151,
          82,
          110,
          150,
          143,
          128,
          150,
          125,
          130,
          79,
          117,
          110,
          108,
          78,
          144,
          92,
          115,
          116,
          112,
          94,
          135,
          93,
          121,
          142,
          150,
          82,
          92,
          97,
          152,
          128,
          108,
          150,
          137,
          151,
          115,
          77,
          132,
          117,
          129,
          106,
          117,
          90,
          108,
          147,
          140,
          133,
          117,
          92,
          132,
          84,
          124,
          125,
          125,
          166,
          115,
          140,
          141,
          136,
          112,
          131,
          134,
          117,
          120,
          120,
          140,
          100,
          115
         ],
         "xaxis": "x",
         "yaxis": "y"
        }
       ],
       "layout": {
        "barmode": "relative",
        "legend": {
         "tracegroupgap": 0
        },
        "margin": {
         "t": 60
        },
        "template": {
         "data": {
          "bar": [
           {
            "error_x": {
             "color": "#2a3f5f"
            },
            "error_y": {
             "color": "#2a3f5f"
            },
            "marker": {
             "line": {
              "color": "#E5ECF6",
              "width": 0.5
             },
             "pattern": {
              "fillmode": "overlay",
              "size": 10,
              "solidity": 0.2
             }
            },
            "type": "bar"
           }
          ],
          "barpolar": [
           {
            "marker": {
             "line": {
              "color": "#E5ECF6",
              "width": 0.5
             },
             "pattern": {
              "fillmode": "overlay",
              "size": 10,
              "solidity": 0.2
             }
            },
            "type": "barpolar"
           }
          ],
          "carpet": [
           {
            "aaxis": {
             "endlinecolor": "#2a3f5f",
             "gridcolor": "white",
             "linecolor": "white",
             "minorgridcolor": "white",
             "startlinecolor": "#2a3f5f"
            },
            "baxis": {
             "endlinecolor": "#2a3f5f",
             "gridcolor": "white",
             "linecolor": "white",
             "minorgridcolor": "white",
             "startlinecolor": "#2a3f5f"
            },
            "type": "carpet"
           }
          ],
          "choropleth": [
           {
            "colorbar": {
             "outlinewidth": 0,
             "ticks": ""
            },
            "type": "choropleth"
           }
          ],
          "contour": [
           {
            "colorbar": {
             "outlinewidth": 0,
             "ticks": ""
            },
            "colorscale": [
             [
              0,
              "#0d0887"
             ],
             [
              0.1111111111111111,
              "#46039f"
             ],
             [
              0.2222222222222222,
              "#7201a8"
             ],
             [
              0.3333333333333333,
              "#9c179e"
             ],
             [
              0.4444444444444444,
              "#bd3786"
             ],
             [
              0.5555555555555556,
              "#d8576b"
             ],
             [
              0.6666666666666666,
              "#ed7953"
             ],
             [
              0.7777777777777778,
              "#fb9f3a"
             ],
             [
              0.8888888888888888,
              "#fdca26"
             ],
             [
              1,
              "#f0f921"
             ]
            ],
            "type": "contour"
           }
          ],
          "contourcarpet": [
           {
            "colorbar": {
             "outlinewidth": 0,
             "ticks": ""
            },
            "type": "contourcarpet"
           }
          ],
          "heatmap": [
           {
            "colorbar": {
             "outlinewidth": 0,
             "ticks": ""
            },
            "colorscale": [
             [
              0,
              "#0d0887"
             ],
             [
              0.1111111111111111,
              "#46039f"
             ],
             [
              0.2222222222222222,
              "#7201a8"
             ],
             [
              0.3333333333333333,
              "#9c179e"
             ],
             [
              0.4444444444444444,
              "#bd3786"
             ],
             [
              0.5555555555555556,
              "#d8576b"
             ],
             [
              0.6666666666666666,
              "#ed7953"
             ],
             [
              0.7777777777777778,
              "#fb9f3a"
             ],
             [
              0.8888888888888888,
              "#fdca26"
             ],
             [
              1,
              "#f0f921"
             ]
            ],
            "type": "heatmap"
           }
          ],
          "heatmapgl": [
           {
            "colorbar": {
             "outlinewidth": 0,
             "ticks": ""
            },
            "colorscale": [
             [
              0,
              "#0d0887"
             ],
             [
              0.1111111111111111,
              "#46039f"
             ],
             [
              0.2222222222222222,
              "#7201a8"
             ],
             [
              0.3333333333333333,
              "#9c179e"
             ],
             [
              0.4444444444444444,
              "#bd3786"
             ],
             [
              0.5555555555555556,
              "#d8576b"
             ],
             [
              0.6666666666666666,
              "#ed7953"
             ],
             [
              0.7777777777777778,
              "#fb9f3a"
             ],
             [
              0.8888888888888888,
              "#fdca26"
             ],
             [
              1,
              "#f0f921"
             ]
            ],
            "type": "heatmapgl"
           }
          ],
          "histogram": [
           {
            "marker": {
             "pattern": {
              "fillmode": "overlay",
              "size": 10,
              "solidity": 0.2
             }
            },
            "type": "histogram"
           }
          ],
          "histogram2d": [
           {
            "colorbar": {
             "outlinewidth": 0,
             "ticks": ""
            },
            "colorscale": [
             [
              0,
              "#0d0887"
             ],
             [
              0.1111111111111111,
              "#46039f"
             ],
             [
              0.2222222222222222,
              "#7201a8"
             ],
             [
              0.3333333333333333,
              "#9c179e"
             ],
             [
              0.4444444444444444,
              "#bd3786"
             ],
             [
              0.5555555555555556,
              "#d8576b"
             ],
             [
              0.6666666666666666,
              "#ed7953"
             ],
             [
              0.7777777777777778,
              "#fb9f3a"
             ],
             [
              0.8888888888888888,
              "#fdca26"
             ],
             [
              1,
              "#f0f921"
             ]
            ],
            "type": "histogram2d"
           }
          ],
          "histogram2dcontour": [
           {
            "colorbar": {
             "outlinewidth": 0,
             "ticks": ""
            },
            "colorscale": [
             [
              0,
              "#0d0887"
             ],
             [
              0.1111111111111111,
              "#46039f"
             ],
             [
              0.2222222222222222,
              "#7201a8"
             ],
             [
              0.3333333333333333,
              "#9c179e"
             ],
             [
              0.4444444444444444,
              "#bd3786"
             ],
             [
              0.5555555555555556,
              "#d8576b"
             ],
             [
              0.6666666666666666,
              "#ed7953"
             ],
             [
              0.7777777777777778,
              "#fb9f3a"
             ],
             [
              0.8888888888888888,
              "#fdca26"
             ],
             [
              1,
              "#f0f921"
             ]
            ],
            "type": "histogram2dcontour"
           }
          ],
          "mesh3d": [
           {
            "colorbar": {
             "outlinewidth": 0,
             "ticks": ""
            },
            "type": "mesh3d"
           }
          ],
          "parcoords": [
           {
            "line": {
             "colorbar": {
              "outlinewidth": 0,
              "ticks": ""
             }
            },
            "type": "parcoords"
           }
          ],
          "pie": [
           {
            "automargin": true,
            "type": "pie"
           }
          ],
          "scatter": [
           {
            "fillpattern": {
             "fillmode": "overlay",
             "size": 10,
             "solidity": 0.2
            },
            "type": "scatter"
           }
          ],
          "scatter3d": [
           {
            "line": {
             "colorbar": {
              "outlinewidth": 0,
              "ticks": ""
             }
            },
            "marker": {
             "colorbar": {
              "outlinewidth": 0,
              "ticks": ""
             }
            },
            "type": "scatter3d"
           }
          ],
          "scattercarpet": [
           {
            "marker": {
             "colorbar": {
              "outlinewidth": 0,
              "ticks": ""
             }
            },
            "type": "scattercarpet"
           }
          ],
          "scattergeo": [
           {
            "marker": {
             "colorbar": {
              "outlinewidth": 0,
              "ticks": ""
             }
            },
            "type": "scattergeo"
           }
          ],
          "scattergl": [
           {
            "marker": {
             "colorbar": {
              "outlinewidth": 0,
              "ticks": ""
             }
            },
            "type": "scattergl"
           }
          ],
          "scattermapbox": [
           {
            "marker": {
             "colorbar": {
              "outlinewidth": 0,
              "ticks": ""
             }
            },
            "type": "scattermapbox"
           }
          ],
          "scatterpolar": [
           {
            "marker": {
             "colorbar": {
              "outlinewidth": 0,
              "ticks": ""
             }
            },
            "type": "scatterpolar"
           }
          ],
          "scatterpolargl": [
           {
            "marker": {
             "colorbar": {
              "outlinewidth": 0,
              "ticks": ""
             }
            },
            "type": "scatterpolargl"
           }
          ],
          "scatterternary": [
           {
            "marker": {
             "colorbar": {
              "outlinewidth": 0,
              "ticks": ""
             }
            },
            "type": "scatterternary"
           }
          ],
          "surface": [
           {
            "colorbar": {
             "outlinewidth": 0,
             "ticks": ""
            },
            "colorscale": [
             [
              0,
              "#0d0887"
             ],
             [
              0.1111111111111111,
              "#46039f"
             ],
             [
              0.2222222222222222,
              "#7201a8"
             ],
             [
              0.3333333333333333,
              "#9c179e"
             ],
             [
              0.4444444444444444,
              "#bd3786"
             ],
             [
              0.5555555555555556,
              "#d8576b"
             ],
             [
              0.6666666666666666,
              "#ed7953"
             ],
             [
              0.7777777777777778,
              "#fb9f3a"
             ],
             [
              0.8888888888888888,
              "#fdca26"
             ],
             [
              1,
              "#f0f921"
             ]
            ],
            "type": "surface"
           }
          ],
          "table": [
           {
            "cells": {
             "fill": {
              "color": "#EBF0F8"
             },
             "line": {
              "color": "white"
             }
            },
            "header": {
             "fill": {
              "color": "#C8D4E3"
             },
             "line": {
              "color": "white"
             }
            },
            "type": "table"
           }
          ]
         },
         "layout": {
          "annotationdefaults": {
           "arrowcolor": "#2a3f5f",
           "arrowhead": 0,
           "arrowwidth": 1
          },
          "autotypenumbers": "strict",
          "coloraxis": {
           "colorbar": {
            "outlinewidth": 0,
            "ticks": ""
           }
          },
          "colorscale": {
           "diverging": [
            [
             0,
             "#8e0152"
            ],
            [
             0.1,
             "#c51b7d"
            ],
            [
             0.2,
             "#de77ae"
            ],
            [
             0.3,
             "#f1b6da"
            ],
            [
             0.4,
             "#fde0ef"
            ],
            [
             0.5,
             "#f7f7f7"
            ],
            [
             0.6,
             "#e6f5d0"
            ],
            [
             0.7,
             "#b8e186"
            ],
            [
             0.8,
             "#7fbc41"
            ],
            [
             0.9,
             "#4d9221"
            ],
            [
             1,
             "#276419"
            ]
           ],
           "sequential": [
            [
             0,
             "#0d0887"
            ],
            [
             0.1111111111111111,
             "#46039f"
            ],
            [
             0.2222222222222222,
             "#7201a8"
            ],
            [
             0.3333333333333333,
             "#9c179e"
            ],
            [
             0.4444444444444444,
             "#bd3786"
            ],
            [
             0.5555555555555556,
             "#d8576b"
            ],
            [
             0.6666666666666666,
             "#ed7953"
            ],
            [
             0.7777777777777778,
             "#fb9f3a"
            ],
            [
             0.8888888888888888,
             "#fdca26"
            ],
            [
             1,
             "#f0f921"
            ]
           ],
           "sequentialminus": [
            [
             0,
             "#0d0887"
            ],
            [
             0.1111111111111111,
             "#46039f"
            ],
            [
             0.2222222222222222,
             "#7201a8"
            ],
            [
             0.3333333333333333,
             "#9c179e"
            ],
            [
             0.4444444444444444,
             "#bd3786"
            ],
            [
             0.5555555555555556,
             "#d8576b"
            ],
            [
             0.6666666666666666,
             "#ed7953"
            ],
            [
             0.7777777777777778,
             "#fb9f3a"
            ],
            [
             0.8888888888888888,
             "#fdca26"
            ],
            [
             1,
             "#f0f921"
            ]
           ]
          },
          "colorway": [
           "#636efa",
           "#EF553B",
           "#00cc96",
           "#ab63fa",
           "#FFA15A",
           "#19d3f3",
           "#FF6692",
           "#B6E880",
           "#FF97FF",
           "#FECB52"
          ],
          "font": {
           "color": "#2a3f5f"
          },
          "geo": {
           "bgcolor": "white",
           "lakecolor": "white",
           "landcolor": "#E5ECF6",
           "showlakes": true,
           "showland": true,
           "subunitcolor": "white"
          },
          "hoverlabel": {
           "align": "left"
          },
          "hovermode": "closest",
          "mapbox": {
           "style": "light"
          },
          "paper_bgcolor": "white",
          "plot_bgcolor": "#E5ECF6",
          "polar": {
           "angularaxis": {
            "gridcolor": "white",
            "linecolor": "white",
            "ticks": ""
           },
           "bgcolor": "#E5ECF6",
           "radialaxis": {
            "gridcolor": "white",
            "linecolor": "white",
            "ticks": ""
           }
          },
          "scene": {
           "xaxis": {
            "backgroundcolor": "#E5ECF6",
            "gridcolor": "white",
            "gridwidth": 2,
            "linecolor": "white",
            "showbackground": true,
            "ticks": "",
            "zerolinecolor": "white"
           },
           "yaxis": {
            "backgroundcolor": "#E5ECF6",
            "gridcolor": "white",
            "gridwidth": 2,
            "linecolor": "white",
            "showbackground": true,
            "ticks": "",
            "zerolinecolor": "white"
           },
           "zaxis": {
            "backgroundcolor": "#E5ECF6",
            "gridcolor": "white",
            "gridwidth": 2,
            "linecolor": "white",
            "showbackground": true,
            "ticks": "",
            "zerolinecolor": "white"
           }
          },
          "shapedefaults": {
           "line": {
            "color": "#2a3f5f"
           }
          },
          "ternary": {
           "aaxis": {
            "gridcolor": "white",
            "linecolor": "white",
            "ticks": ""
           },
           "baxis": {
            "gridcolor": "white",
            "linecolor": "white",
            "ticks": ""
           },
           "bgcolor": "#E5ECF6",
           "caxis": {
            "gridcolor": "white",
            "linecolor": "white",
            "ticks": ""
           }
          },
          "title": {
           "x": 0.05
          },
          "xaxis": {
           "automargin": true,
           "gridcolor": "white",
           "linecolor": "white",
           "ticks": "",
           "title": {
            "standoff": 15
           },
           "zerolinecolor": "white",
           "zerolinewidth": 2
          },
          "yaxis": {
           "automargin": true,
           "gridcolor": "white",
           "linecolor": "white",
           "ticks": "",
           "title": {
            "standoff": 15
           },
           "zerolinecolor": "white",
           "zerolinewidth": 2
          }
         }
        },
        "title": {
         "text": "Distribution of Duration"
        },
        "xaxis": {
         "anchor": "y",
         "domain": [
          0,
          1
         ],
         "title": {
          "text": "Duration"
         }
        },
        "yaxis": {
         "anchor": "x",
         "domain": [
          0,
          1
         ],
         "title": {
          "text": "probability density"
         }
        }
       }
      },
      "text/html": [
       "<div>                            <div id=\"c3bd62ad-dbcd-4f6e-8eaf-6903e862ceaa\" class=\"plotly-graph-div\" style=\"height:525px; width:100%;\"></div>            <script type=\"text/javascript\">                require([\"plotly\"], function(Plotly) {                    window.PLOTLYENV=window.PLOTLYENV || {};                                    if (document.getElementById(\"c3bd62ad-dbcd-4f6e-8eaf-6903e862ceaa\")) {                    Plotly.newPlot(                        \"c3bd62ad-dbcd-4f6e-8eaf-6903e862ceaa\",                        [{\"alignmentgroup\":\"True\",\"bingroup\":\"x\",\"histnorm\":\"probability density\",\"hovertemplate\":\"Duration=%{x}<br>probability density=%{y}<extra></extra>\",\"legendgroup\":\"\",\"marker\":{\"color\":\"#636efa\",\"pattern\":{\"shape\":\"\"}},\"name\":\"\",\"nbinsx\":40,\"offsetgroup\":\"\",\"orientation\":\"v\",\"showlegend\":false,\"x\":[109,96,120,116,168,94,107,113,130,126,115,122,100,93,102,145,111,104,92,126,100,124,105,145,127,140,112,104,121,123,120,144,72,132,107,154,142,78,145,133,170,137,151,78,116,46,132,162,153,138,116,152,130,160,144,94,141,125,180,129,120,136,146,132,172,150,132,146,128,133,78,127,132,88,150,122,120,151,142,137,123,140,145,120,115,104,136,58,160,165,136,124,100,109,120,135,97,149,133,137,166,121,153,95,155,135,102,113,169,152,110,151,131,153,142,148,91,134,125,154,160,84,136,125,137,173,122,131,90,118,103,86,97,128,109,102,127,120,300,135,155,152,142,149,119,96,144,150,149,101,131,131,152,102,140,117,79,127,65,138,48,148,120,118,138,146,129,123,119,95,100,103,91,137,145,170,160,120,156,147,133,72,176,68,81,132,133,117,120,176,136,102,145,126,108,148,169,131,161,125,125,125,128,88,135,172,127,160,115,89,113,136,136,172,164,133,83,84,115,120,74,105,113,95,142,143,122,128,85,100,96,93,140,142,141,74,140,138,131,131,115,91,139,145,100,116,126,122,120,114,135,150,125,124,81,127,107,115,136,68,114,116,93,95,119,126,130,120,131,126,150,83,164,165,136,137,134,92,140,120,111,127,150,130,95,108,149,169,120,137,129,166,140,128,207,136,109,136,147,156,102,130,123,88,85,106,136,102,90,130,97,141,155,127,110,116,155,135,90,114,85,107,135,99,108,135,98,113,137,90,92,140,104,142,116,120,140,119,139,130,89,97,145,149,120,110,106,153,145,152,76,146,113,107,128,121,108,125,180,137,75,155,91,100,126,110,98,141,94,130,158,139,114,87,117,79,135,146,148,129,150,117,100,153,126,129,139,152,97,120,137,130,148,110,127,142,120,130,155,131,120,127,153,139,130,145,110,90,144,99,138,135,147,130,104,102,92,92,137,124,120,171,130,120,160,143,166,147,116,110,153,177,125,123,115,71,120,137,147,100,133,122,139,133,95,105,137,100,105,130,138,136,135,132,115,73,164,120,151,97,140,94,133,102,104,139,134,145,117,80,84,87,165,97,84,106,86,160,112,85,109,141,138,180,104,111,127,145,120,119,140,107,128,112,157,145,134,124,102,129,146,90,125,124,111,151,150,105,153,156,155,158,157,138,108,126,103,126,123,120,90,110,140,134,155,64,90,130,139,132,96,110,169,140,125,134,136,152,102,75,118,140,102,120,125,117,128,82,108,108,89,120,136,121,137,109,160,135,149,133,136,129,102,93,170,186,120,133,135,102,142,149,106,102,128,125,47,115,91,118,130,104,112,127,172,143,121,126,144,119,137,134,142,135,149,120,118,125,95,117,102,100,120,98,127,140,131,143,143,121,144,145,82,124,116,155,103,125,148,134,132,108,131,93,127,136,160,140,139,137,127,131,139,94,112,163,173,141,162,90,195,131,126,130,185,110,139,135,139,82,135,120,143,124,173,144,93,132,133,149,120,139,140,104,140,133,136,93,142,154,147,144,161,134,100,155,115,149,93,128,133,78,109,90,144,135,109,148,127,90,73,136,101,138,125,132,95,137,136,95,147,131,120,93,132,127,162,112,70,122,124,130,120,95,88,113,135,103,120,115,99,130,96,121,110,119,127,125,167,119,74,100,106,134,103,92,117,117,87,127,130,97,145,82,91,158,155,155,120,100,84,137,143,119,142,124,143,135,141,137,85,125,140,130,65,180,130,92,105,65,140,104,116,112,150,107,86,121,143,124,136,87,125,106,161,125,113,133,135,123,148,134,147,92,108,92,120,90,113,108,137,125,130,81,85,108,105,103,120,100,90,160,122,107,126,132,157,122,129,91,156,127,117,180,140,124,148,151,152,145,139,116,113,120,130,133,145,128,137,130,106,80,82,167,160,130,127,120,146,45,120,180,178,127,136,106,137,130,90,137,199,112,100,130,94,109,109,80,118,152,96,119,99,130,120,95,115,107,154,99,103,124,96,80,155,152,79,140,153,162,99,104,138,120,155,135,150,162,140,141,129,142,164,140,161,180,108,122,110,90,131,146,98,87,107,130,119,161,148,90,102,133,113,117,104,119,143,126,130,100,112,113,115,93,105,85,95,108,119,114,155,95,142,140,156,135,100,130,134,146,77,128,133,130,132,134,136,95,104,190,87,122,143,165,120,132,182,132,136,127,131,156,126,128,121,146,84,146,130,110,125,150,132,137,128,130,147,104,99,142,118,136,65,122,140,154,165,125,95,133,100,128,95,95,110,138,108,155,123,105,80,118,117,99,92,160,101,122,89,129,126,150,59,114,146,160,153,115,141,130,98,129,162,135,123,145,88,138,100,49,113,131,98,143,143,83,170,116,129,120,125,139,110,120,109,120,83,155,157,152,139,114,140,128,141,134,132,142,118,109,122,117,127,120,138,188,175,130,85,120,107,110,158,155,138,128,120,126,83,150,125,121,125,150,114,121,130,135,138,110,97,159,139,135,137,116,133,106,135,154,161,136,100,145,96,113,85,109,127,118,122,120,149,119,70,120,139,133,151,171,117,146,144,125,138,120,135,128,90,111,130,122,112,104,140,157,141,122,139,98,93,180,162,80,116,124,101,65,89,125,131,88,80,82,80,159,145,105,158,78,123,117,80,95,50,107,139,119,90,100,128,117,107,135,150,153,110,137,83,139,117,130,150,132,54,135,114,109,137,129,120,133,132,120,109,149,128,162,126,129,128,151,165,131,155,168,100,137,157,116,106,118,126,148,114,152,175,132,97,139,144,135,115,185,104,120,47,130,140,150,126,127,134,90,129,140,99,73,138,79,128,76,155,130,115,135,122,127,144,113,115,120,133,110,125,110,162,139,111,67,100,147,170,125,132,95,93,52,90,99,142,123,96,100,105,134,160,135,112,133,97,94,140,80,153,153,114,135,134,135,100,107,105,143,143,143,127,60,110,121,90,66,139,140,189,90,160,151,104,133,154,135,121,182,127,115,155,144,120,110,171,122,104,131,136,101,160,158,120,143,116,153,148,107,127,122,103,120,73,195,155,104,125,142,65,110,149,90,134,144,125,93,121,138,87,119,95,48,92,110,100,89,137,102,100,82,118,98,122,90,140,89,141,96,97,90,115,113,108,110,124,96,91,119,90,87,105,115,140,150,137,121,124,155,130,94,151,88,113,135,124,112,136,87,107,130,137,157,114,120,96,155,134,135,136,72,127,92,145,100,140,90,123,120,137,151,93,125,106,137,122,112,110,153,85,101,98,145,93,136,158,175,135,129,127,144,250,135,148,118,120,151,82,110,150,143,128,150,125,130,79,117,110,108,78,144,92,115,116,112,94,135,93,121,142,150,82,92,97,152,128,108,150,137,151,115,77,132,117,129,106,117,90,108,147,140,133,117,92,132,84,124,125,125,166,115,140,141,136,112,131,134,117,120,120,140,100,115],\"xaxis\":\"x\",\"yaxis\":\"y\",\"type\":\"histogram\"}],                        {\"template\":{\"data\":{\"histogram2dcontour\":[{\"type\":\"histogram2dcontour\",\"colorbar\":{\"outlinewidth\":0,\"ticks\":\"\"},\"colorscale\":[[0.0,\"#0d0887\"],[0.1111111111111111,\"#46039f\"],[0.2222222222222222,\"#7201a8\"],[0.3333333333333333,\"#9c179e\"],[0.4444444444444444,\"#bd3786\"],[0.5555555555555556,\"#d8576b\"],[0.6666666666666666,\"#ed7953\"],[0.7777777777777778,\"#fb9f3a\"],[0.8888888888888888,\"#fdca26\"],[1.0,\"#f0f921\"]]}],\"choropleth\":[{\"type\":\"choropleth\",\"colorbar\":{\"outlinewidth\":0,\"ticks\":\"\"}}],\"histogram2d\":[{\"type\":\"histogram2d\",\"colorbar\":{\"outlinewidth\":0,\"ticks\":\"\"},\"colorscale\":[[0.0,\"#0d0887\"],[0.1111111111111111,\"#46039f\"],[0.2222222222222222,\"#7201a8\"],[0.3333333333333333,\"#9c179e\"],[0.4444444444444444,\"#bd3786\"],[0.5555555555555556,\"#d8576b\"],[0.6666666666666666,\"#ed7953\"],[0.7777777777777778,\"#fb9f3a\"],[0.8888888888888888,\"#fdca26\"],[1.0,\"#f0f921\"]]}],\"heatmap\":[{\"type\":\"heatmap\",\"colorbar\":{\"outlinewidth\":0,\"ticks\":\"\"},\"colorscale\":[[0.0,\"#0d0887\"],[0.1111111111111111,\"#46039f\"],[0.2222222222222222,\"#7201a8\"],[0.3333333333333333,\"#9c179e\"],[0.4444444444444444,\"#bd3786\"],[0.5555555555555556,\"#d8576b\"],[0.6666666666666666,\"#ed7953\"],[0.7777777777777778,\"#fb9f3a\"],[0.8888888888888888,\"#fdca26\"],[1.0,\"#f0f921\"]]}],\"heatmapgl\":[{\"type\":\"heatmapgl\",\"colorbar\":{\"outlinewidth\":0,\"ticks\":\"\"},\"colorscale\":[[0.0,\"#0d0887\"],[0.1111111111111111,\"#46039f\"],[0.2222222222222222,\"#7201a8\"],[0.3333333333333333,\"#9c179e\"],[0.4444444444444444,\"#bd3786\"],[0.5555555555555556,\"#d8576b\"],[0.6666666666666666,\"#ed7953\"],[0.7777777777777778,\"#fb9f3a\"],[0.8888888888888888,\"#fdca26\"],[1.0,\"#f0f921\"]]}],\"contourcarpet\":[{\"type\":\"contourcarpet\",\"colorbar\":{\"outlinewidth\":0,\"ticks\":\"\"}}],\"contour\":[{\"type\":\"contour\",\"colorbar\":{\"outlinewidth\":0,\"ticks\":\"\"},\"colorscale\":[[0.0,\"#0d0887\"],[0.1111111111111111,\"#46039f\"],[0.2222222222222222,\"#7201a8\"],[0.3333333333333333,\"#9c179e\"],[0.4444444444444444,\"#bd3786\"],[0.5555555555555556,\"#d8576b\"],[0.6666666666666666,\"#ed7953\"],[0.7777777777777778,\"#fb9f3a\"],[0.8888888888888888,\"#fdca26\"],[1.0,\"#f0f921\"]]}],\"surface\":[{\"type\":\"surface\",\"colorbar\":{\"outlinewidth\":0,\"ticks\":\"\"},\"colorscale\":[[0.0,\"#0d0887\"],[0.1111111111111111,\"#46039f\"],[0.2222222222222222,\"#7201a8\"],[0.3333333333333333,\"#9c179e\"],[0.4444444444444444,\"#bd3786\"],[0.5555555555555556,\"#d8576b\"],[0.6666666666666666,\"#ed7953\"],[0.7777777777777778,\"#fb9f3a\"],[0.8888888888888888,\"#fdca26\"],[1.0,\"#f0f921\"]]}],\"mesh3d\":[{\"type\":\"mesh3d\",\"colorbar\":{\"outlinewidth\":0,\"ticks\":\"\"}}],\"scatter\":[{\"fillpattern\":{\"fillmode\":\"overlay\",\"size\":10,\"solidity\":0.2},\"type\":\"scatter\"}],\"parcoords\":[{\"type\":\"parcoords\",\"line\":{\"colorbar\":{\"outlinewidth\":0,\"ticks\":\"\"}}}],\"scatterpolargl\":[{\"type\":\"scatterpolargl\",\"marker\":{\"colorbar\":{\"outlinewidth\":0,\"ticks\":\"\"}}}],\"bar\":[{\"error_x\":{\"color\":\"#2a3f5f\"},\"error_y\":{\"color\":\"#2a3f5f\"},\"marker\":{\"line\":{\"color\":\"#E5ECF6\",\"width\":0.5},\"pattern\":{\"fillmode\":\"overlay\",\"size\":10,\"solidity\":0.2}},\"type\":\"bar\"}],\"scattergeo\":[{\"type\":\"scattergeo\",\"marker\":{\"colorbar\":{\"outlinewidth\":0,\"ticks\":\"\"}}}],\"scatterpolar\":[{\"type\":\"scatterpolar\",\"marker\":{\"colorbar\":{\"outlinewidth\":0,\"ticks\":\"\"}}}],\"histogram\":[{\"marker\":{\"pattern\":{\"fillmode\":\"overlay\",\"size\":10,\"solidity\":0.2}},\"type\":\"histogram\"}],\"scattergl\":[{\"type\":\"scattergl\",\"marker\":{\"colorbar\":{\"outlinewidth\":0,\"ticks\":\"\"}}}],\"scatter3d\":[{\"type\":\"scatter3d\",\"line\":{\"colorbar\":{\"outlinewidth\":0,\"ticks\":\"\"}},\"marker\":{\"colorbar\":{\"outlinewidth\":0,\"ticks\":\"\"}}}],\"scattermapbox\":[{\"type\":\"scattermapbox\",\"marker\":{\"colorbar\":{\"outlinewidth\":0,\"ticks\":\"\"}}}],\"scatterternary\":[{\"type\":\"scatterternary\",\"marker\":{\"colorbar\":{\"outlinewidth\":0,\"ticks\":\"\"}}}],\"scattercarpet\":[{\"type\":\"scattercarpet\",\"marker\":{\"colorbar\":{\"outlinewidth\":0,\"ticks\":\"\"}}}],\"carpet\":[{\"aaxis\":{\"endlinecolor\":\"#2a3f5f\",\"gridcolor\":\"white\",\"linecolor\":\"white\",\"minorgridcolor\":\"white\",\"startlinecolor\":\"#2a3f5f\"},\"baxis\":{\"endlinecolor\":\"#2a3f5f\",\"gridcolor\":\"white\",\"linecolor\":\"white\",\"minorgridcolor\":\"white\",\"startlinecolor\":\"#2a3f5f\"},\"type\":\"carpet\"}],\"table\":[{\"cells\":{\"fill\":{\"color\":\"#EBF0F8\"},\"line\":{\"color\":\"white\"}},\"header\":{\"fill\":{\"color\":\"#C8D4E3\"},\"line\":{\"color\":\"white\"}},\"type\":\"table\"}],\"barpolar\":[{\"marker\":{\"line\":{\"color\":\"#E5ECF6\",\"width\":0.5},\"pattern\":{\"fillmode\":\"overlay\",\"size\":10,\"solidity\":0.2}},\"type\":\"barpolar\"}],\"pie\":[{\"automargin\":true,\"type\":\"pie\"}]},\"layout\":{\"autotypenumbers\":\"strict\",\"colorway\":[\"#636efa\",\"#EF553B\",\"#00cc96\",\"#ab63fa\",\"#FFA15A\",\"#19d3f3\",\"#FF6692\",\"#B6E880\",\"#FF97FF\",\"#FECB52\"],\"font\":{\"color\":\"#2a3f5f\"},\"hovermode\":\"closest\",\"hoverlabel\":{\"align\":\"left\"},\"paper_bgcolor\":\"white\",\"plot_bgcolor\":\"#E5ECF6\",\"polar\":{\"bgcolor\":\"#E5ECF6\",\"angularaxis\":{\"gridcolor\":\"white\",\"linecolor\":\"white\",\"ticks\":\"\"},\"radialaxis\":{\"gridcolor\":\"white\",\"linecolor\":\"white\",\"ticks\":\"\"}},\"ternary\":{\"bgcolor\":\"#E5ECF6\",\"aaxis\":{\"gridcolor\":\"white\",\"linecolor\":\"white\",\"ticks\":\"\"},\"baxis\":{\"gridcolor\":\"white\",\"linecolor\":\"white\",\"ticks\":\"\"},\"caxis\":{\"gridcolor\":\"white\",\"linecolor\":\"white\",\"ticks\":\"\"}},\"coloraxis\":{\"colorbar\":{\"outlinewidth\":0,\"ticks\":\"\"}},\"colorscale\":{\"sequential\":[[0.0,\"#0d0887\"],[0.1111111111111111,\"#46039f\"],[0.2222222222222222,\"#7201a8\"],[0.3333333333333333,\"#9c179e\"],[0.4444444444444444,\"#bd3786\"],[0.5555555555555556,\"#d8576b\"],[0.6666666666666666,\"#ed7953\"],[0.7777777777777778,\"#fb9f3a\"],[0.8888888888888888,\"#fdca26\"],[1.0,\"#f0f921\"]],\"sequentialminus\":[[0.0,\"#0d0887\"],[0.1111111111111111,\"#46039f\"],[0.2222222222222222,\"#7201a8\"],[0.3333333333333333,\"#9c179e\"],[0.4444444444444444,\"#bd3786\"],[0.5555555555555556,\"#d8576b\"],[0.6666666666666666,\"#ed7953\"],[0.7777777777777778,\"#fb9f3a\"],[0.8888888888888888,\"#fdca26\"],[1.0,\"#f0f921\"]],\"diverging\":[[0,\"#8e0152\"],[0.1,\"#c51b7d\"],[0.2,\"#de77ae\"],[0.3,\"#f1b6da\"],[0.4,\"#fde0ef\"],[0.5,\"#f7f7f7\"],[0.6,\"#e6f5d0\"],[0.7,\"#b8e186\"],[0.8,\"#7fbc41\"],[0.9,\"#4d9221\"],[1,\"#276419\"]]},\"xaxis\":{\"gridcolor\":\"white\",\"linecolor\":\"white\",\"ticks\":\"\",\"title\":{\"standoff\":15},\"zerolinecolor\":\"white\",\"automargin\":true,\"zerolinewidth\":2},\"yaxis\":{\"gridcolor\":\"white\",\"linecolor\":\"white\",\"ticks\":\"\",\"title\":{\"standoff\":15},\"zerolinecolor\":\"white\",\"automargin\":true,\"zerolinewidth\":2},\"scene\":{\"xaxis\":{\"backgroundcolor\":\"#E5ECF6\",\"gridcolor\":\"white\",\"linecolor\":\"white\",\"showbackground\":true,\"ticks\":\"\",\"zerolinecolor\":\"white\",\"gridwidth\":2},\"yaxis\":{\"backgroundcolor\":\"#E5ECF6\",\"gridcolor\":\"white\",\"linecolor\":\"white\",\"showbackground\":true,\"ticks\":\"\",\"zerolinecolor\":\"white\",\"gridwidth\":2},\"zaxis\":{\"backgroundcolor\":\"#E5ECF6\",\"gridcolor\":\"white\",\"linecolor\":\"white\",\"showbackground\":true,\"ticks\":\"\",\"zerolinecolor\":\"white\",\"gridwidth\":2}},\"shapedefaults\":{\"line\":{\"color\":\"#2a3f5f\"}},\"annotationdefaults\":{\"arrowcolor\":\"#2a3f5f\",\"arrowhead\":0,\"arrowwidth\":1},\"geo\":{\"bgcolor\":\"white\",\"landcolor\":\"#E5ECF6\",\"subunitcolor\":\"white\",\"showland\":true,\"showlakes\":true,\"lakecolor\":\"white\"},\"title\":{\"x\":0.05},\"mapbox\":{\"style\":\"light\"}}},\"xaxis\":{\"anchor\":\"y\",\"domain\":[0.0,1.0],\"title\":{\"text\":\"Duration\"}},\"yaxis\":{\"anchor\":\"x\",\"domain\":[0.0,1.0],\"title\":{\"text\":\"probability density\"}},\"legend\":{\"tracegroupgap\":0},\"margin\":{\"t\":60},\"barmode\":\"relative\",\"title\":{\"text\":\"Distribution of Duration\"}},                        {\"responsive\": true}                    ).then(function(){\n",
       "                            \n",
       "var gd = document.getElementById('c3bd62ad-dbcd-4f6e-8eaf-6903e862ceaa');\n",
       "var x = new MutationObserver(function (mutations, observer) {{\n",
       "        var display = window.getComputedStyle(gd).display;\n",
       "        if (!display || display === 'none') {{\n",
       "            console.log([gd, 'removed!']);\n",
       "            Plotly.purge(gd);\n",
       "            observer.disconnect();\n",
       "        }}\n",
       "}});\n",
       "\n",
       "// Listen for the removal of the full notebook cells\n",
       "var notebookContainer = gd.closest('#notebook-container');\n",
       "if (notebookContainer) {{\n",
       "    x.observe(notebookContainer, {childList: true});\n",
       "}}\n",
       "\n",
       "// Listen for the clearing of the current output cell\n",
       "var outputEl = gd.closest('.output');\n",
       "if (outputEl) {{\n",
       "    x.observe(outputEl, {childList: true});\n",
       "}}\n",
       "\n",
       "                        })                };                });            </script>        </div>"
      ]
     },
     "metadata": {},
     "output_type": "display_data"
    }
   ],
   "source": [
    "fig_duration = px.histogram(df, x = 'Duration', histnorm='probability density', nbins = 40)\n",
    "fig_duration.update_layout(title='Distribution of Duration')\n",
    "fig_duration.show()"
   ]
  },
  {
   "cell_type": "code",
   "execution_count": 77,
   "id": "37e7cd52",
   "metadata": {},
   "outputs": [
    {
     "data": {
      "application/vnd.plotly.v1+json": {
       "config": {
        "plotlyServerURL": "https://plot.ly"
       },
       "data": [
        {
         "alignmentgroup": "True",
         "bingroup": "x",
         "histnorm": "probability density",
         "hovertemplate": "Rating=%{x}<br>probability density=%{y}<extra></extra>",
         "legendgroup": "",
         "marker": {
          "color": "#636efa",
          "pattern": {
           "shape": ""
          }
         },
         "name": "",
         "nbinsx": 40,
         "offsetgroup": "",
         "orientation": "v",
         "showlegend": false,
         "type": "histogram",
         "x": [
          7,
          6.2,
          5.9,
          7.1,
          5.6,
          4.5,
          4,
          5.5,
          6.1,
          6.1,
          6.9,
          6.9,
          6.9,
          5.6,
          5.6,
          6.3,
          5.7,
          4.2,
          6.2,
          5,
          6.2,
          5.3,
          8.1,
          6.3,
          7.3,
          6,
          3.1,
          7.9,
          8,
          2.7,
          6.8,
          2.4,
          7.4,
          5.1,
          7.6,
          6.4,
          6.7,
          7.6,
          4.2,
          4.1,
          5.3,
          4.8,
          5,
          3.1,
          5.5,
          3.1,
          3.3,
          4.4,
          6.9,
          2.8,
          5.4,
          3,
          6.4,
          5.6,
          6.1,
          6.6,
          4.2,
          6.1,
          6.1,
          6.7,
          7.1,
          5.5,
          7.3,
          6.1,
          5.5,
          4.5,
          6.4,
          5.1,
          6.6,
          7.6,
          4,
          7,
          5.8,
          4.7,
          5,
          5.5,
          6.6,
          4.7,
          3.1,
          7.8,
          3.6,
          4.6,
          5.9,
          6.6,
          5.8,
          6.9,
          6.6,
          5.5,
          7,
          5.6,
          6.9,
          6.8,
          5.5,
          5.9,
          6.5,
          6.3,
          7.9,
          4.3,
          3.7,
          6.6,
          6.1,
          6.5,
          4.2,
          4.4,
          4.9,
          6.2,
          7.3,
          5.9,
          5,
          5.6,
          3.9,
          5.5,
          8,
          7,
          4.9,
          7.1,
          6.3,
          7.4,
          6.3,
          6.6,
          5.5,
          7.1,
          4.4,
          6.6,
          5.7,
          6.8,
          7.3,
          7.5,
          6.5,
          6.9,
          3.7,
          4.8,
          9.3,
          4.3,
          7.3,
          7.3,
          8.8,
          4.3,
          5.6,
          5.9,
          6.4,
          3.8,
          4.2,
          4.2,
          4.8,
          6.4,
          6.5,
          7.2,
          5.9,
          8.7,
          3.6,
          5.1,
          6.2,
          7.6,
          7.1,
          8.8,
          6.1,
          7.3,
          7,
          6.2,
          6.1,
          6.4,
          8.2,
          3.3,
          6,
          6.9,
          6.7,
          4.7,
          2.5,
          7.1,
          6.6,
          5.9,
          7.7,
          5.5,
          4.7,
          5.7,
          7.1,
          8.8,
          6,
          6.3,
          6.8,
          9.3,
          7.7,
          4.2,
          2.3,
          6.1,
          7.3,
          8.1,
          7.5,
          5.6,
          3.6,
          7.2,
          6.1,
          7.9,
          3.7,
          6,
          4.9,
          2.8,
          6,
          7,
          4.8,
          5.6,
          5.6,
          5.9,
          5.8,
          4.9,
          6.3,
          5.2,
          3.6,
          2.5,
          4.6,
          8.7,
          4.4,
          3.8,
          5.8,
          4.6,
          6.2,
          5.5,
          5.1,
          6.8,
          6.8,
          4.3,
          3.4,
          4.9,
          6.4,
          6.2,
          5.9,
          7,
          4,
          7.1,
          7.2,
          7.8,
          6.7,
          7.4,
          7,
          6.4,
          4.4,
          6.9,
          6,
          4.5,
          3.9,
          7.6,
          5.9,
          6.2,
          7.1,
          4.1,
          6.9,
          8.2,
          8.6,
          6.5,
          6.5,
          7.9,
          6,
          4.8,
          6.1,
          6.7,
          2.9,
          6.4,
          7.5,
          6.9,
          7.6,
          7.3,
          2.6,
          6.8,
          7.8,
          6,
          4.8,
          4.5,
          4.2,
          5.6,
          7,
          7.9,
          7.8,
          3.5,
          7.7,
          4.5,
          8.6,
          4.7,
          6.8,
          4.2,
          3.8,
          4.9,
          8.6,
          6.5,
          5.9,
          7,
          6.8,
          6.7,
          4.7,
          4.8,
          4.6,
          6.7,
          6.3,
          6.6,
          6.9,
          4.1,
          8.3,
          6.9,
          8.1,
          8,
          4.5,
          5.9,
          6.8,
          6.5,
          6.4,
          5.8,
          3.8,
          7.5,
          6.3,
          6.2,
          5.5,
          3.7,
          6.6,
          5.3,
          7.2,
          6.8,
          4.6,
          6.8,
          6.5,
          5.8,
          7.4,
          4.7,
          7.1,
          3.1,
          6.1,
          5.3,
          4.9,
          6.7,
          7.3,
          5.9,
          5.6,
          6.5,
          6.2,
          6.5,
          7.7,
          6.8,
          5.3,
          6.9,
          6.5,
          3.9,
          7.1,
          7.7,
          7.4,
          6.3,
          3.8,
          7,
          6.7,
          3.7,
          7.5,
          7,
          5.2,
          5.1,
          6.5,
          5.6,
          7.2,
          6.3,
          5.4,
          7.4,
          6.7,
          7.2,
          8.1,
          7.3,
          7.8,
          7.5,
          6.4,
          6.1,
          5.9,
          6.1,
          5.9,
          4.9,
          5.5,
          4,
          6.4,
          4.2,
          7.8,
          5.2,
          5.5,
          6.5,
          4.4,
          6.3,
          7.3,
          6.5,
          7,
          6.7,
          7.2,
          5.7,
          4.5,
          7.2,
          3.6,
          7,
          6.1,
          5.3,
          5,
          5,
          5,
          6.7,
          7.2,
          2.5,
          6.9,
          8.4,
          5.3,
          6.1,
          5.4,
          3.8,
          6.3,
          3.3,
          6.4,
          7.1,
          6.5,
          4,
          7.7,
          6,
          7.9,
          3.3,
          4.2,
          8.2,
          7,
          3.8,
          1.9,
          5.3,
          5.2,
          7.1,
          4.6,
          5,
          5.2,
          6.6,
          6.9,
          6.5,
          4.6,
          5.7,
          4,
          7.1,
          4.3,
          7.8,
          7.7,
          5.7,
          6.7,
          6.7,
          6.3,
          8.5,
          7.1,
          2.9,
          6.6,
          3.8,
          3.9,
          7.1,
          6.4,
          7.2,
          2.5,
          3.4,
          6.9,
          6.1,
          6.9,
          6.8,
          5.7,
          6.9,
          6.9,
          4.4,
          6.9,
          5.7,
          6,
          5.8,
          6.2,
          7.1,
          4.9,
          4.3,
          5.4,
          5.1,
          7.3,
          6.9,
          6.8,
          4.4,
          4.8,
          6,
          6,
          6.3,
          6.4,
          7.5,
          4.7,
          6.8,
          7.1,
          6.5,
          3.1,
          6.2,
          8.3,
          4.8,
          7.2,
          3.5,
          7.3,
          7.1,
          7.1,
          5.8,
          4.6,
          5.2,
          6.4,
          5.7,
          6.7,
          5.3,
          4.5,
          7.3,
          8.1,
          7.3,
          7,
          8.8,
          5.6,
          5.9,
          6,
          6.7,
          7.1,
          5.5,
          6,
          5.9,
          6.6,
          4.6,
          5.5,
          4.9,
          6.8,
          3.2,
          2.1,
          5.6,
          9.3,
          7,
          7.1,
          6.9,
          7.4,
          6.1,
          5.7,
          4.7,
          6.7,
          5.4,
          7.5,
          5.6,
          4.9,
          4.2,
          4.1,
          6.8,
          6.6,
          5.8,
          5.7,
          6.2,
          4.3,
          4.9,
          8.4,
          6.1,
          2.5,
          6.4,
          6.7,
          7.8,
          7.8,
          5.7,
          7.6,
          7.4,
          4.5,
          4.4,
          6.4,
          7.9,
          7.5,
          4.4,
          4.7,
          7.9,
          5.6,
          4.1,
          6.7,
          6.2,
          6.5,
          7.1,
          7.9,
          3.4,
          5.6,
          5.6,
          5.3,
          5.1,
          6.3,
          5.4,
          5.3,
          5.9,
          6.6,
          3.5,
          4.2,
          5.1,
          5.8,
          5.5,
          5.8,
          6.4,
          6.4,
          5.7,
          7.1,
          6.2,
          6.5,
          6,
          5.8,
          4.6,
          5.9,
          1.7,
          6.9,
          5.3,
          6.8,
          5.2,
          6.8,
          6.5,
          8.6,
          7.3,
          6,
          3.5,
          6.5,
          9.2,
          7.4,
          5.9,
          7,
          7.3,
          7.4,
          4.6,
          6.8,
          6.8,
          5.8,
          5,
          2.6,
          4,
          3.1,
          5.7,
          4.8,
          6.7,
          6.8,
          4.3,
          5.3,
          6.9,
          5.6,
          5.9,
          4.7,
          6.6,
          4.6,
          4.8,
          6.5,
          5.6,
          8.1,
          6.6,
          6.1,
          7.8,
          7.2,
          5.3,
          5,
          6.2,
          6.7,
          5.7,
          7,
          2.7,
          5.9,
          2.8,
          5.8,
          6,
          5.6,
          4.6,
          5,
          4.2,
          5.4,
          4.8,
          6.7,
          5.9,
          5.9,
          4.8,
          3.8,
          6.2,
          7.3,
          7.2,
          7.1,
          4.7,
          6.6,
          4.4,
          4.9,
          6.4,
          3.4,
          8.6,
          6.1,
          6.8,
          9,
          6.6,
          6.2,
          3.7,
          9.4,
          5.1,
          6.2,
          3.1,
          7.9,
          8,
          5.9,
          6.5,
          3.9,
          8,
          8.9,
          5,
          2.7,
          6.4,
          7.3,
          4.8,
          5.4,
          6.6,
          7.8,
          6.6,
          6.8,
          8.1,
          5.8,
          6.9,
          7.5,
          5.4,
          6.6,
          6.7,
          6.2,
          6.2,
          8,
          6.7,
          7.2,
          5.2,
          7.1,
          7.2,
          5.1,
          8.2,
          5.8,
          6.3,
          4,
          4.2,
          4.8,
          4.4,
          6.6,
          7,
          5.6,
          5.6,
          5.1,
          5.7,
          5.9,
          5.6,
          6.3,
          7.7,
          7.2,
          5.8,
          5.1,
          8.1,
          4.1,
          2.7,
          5.6,
          4.1,
          5.5,
          2.8,
          4.7,
          7.5,
          8.1,
          5.8,
          5.8,
          4.1,
          4.6,
          7.8,
          5.6,
          6.3,
          7.4,
          4.6,
          7.1,
          7.4,
          5.8,
          5.5,
          3.5,
          7.4,
          7.3,
          8.6,
          3.8,
          5.8,
          7.8,
          5.7,
          6.6,
          6.7,
          4.3,
          8.5,
          3.8,
          4.3,
          7.5,
          3.7,
          5.1,
          8.5,
          5.7,
          4.3,
          8.9,
          1.9,
          4.9,
          5.8,
          6.4,
          3.6,
          5.9,
          6.5,
          5.4,
          4.7,
          5.7,
          6.2,
          6.5,
          6.3,
          7.4,
          7.3,
          6,
          6.6,
          6.6,
          5.2,
          6.2,
          6.3,
          8.2,
          4.4,
          5.5,
          6.6,
          7.1,
          6.6,
          8.6,
          5.8,
          7.8,
          5.7,
          7.4,
          5.1,
          5.2,
          6,
          4.2,
          6.6,
          7.6,
          7.4,
          5.8,
          5.1,
          7.1,
          7.1,
          5.1,
          4.7,
          6.6,
          6.2,
          7.5,
          5.1,
          7,
          5.7,
          3.7,
          8.6,
          4.5,
          2.3,
          4.6,
          3.2,
          5.1,
          5,
          6.5,
          7.6,
          7.7,
          8,
          6.3,
          9,
          7.2,
          5.8,
          7.3,
          4.2,
          4.7,
          6.8,
          7.8,
          5.1,
          5.4,
          2.8,
          7.7,
          8.1,
          7,
          7.7,
          6.9,
          5.2,
          7.3,
          4.2,
          7.2,
          4.9,
          5.1,
          5.4,
          8.2,
          8.2,
          7.2,
          4.8,
          3.3,
          2.4,
          7.7,
          2.8,
          4.3,
          4.2,
          3.5,
          6.9,
          5.8,
          2.7,
          6.7,
          5.7,
          7.9,
          6.7,
          7.2,
          5.5,
          6.6,
          6.1,
          3.4,
          7.2,
          6.6,
          7.2,
          6.1,
          5.6,
          4.8,
          4.7,
          4.1,
          8.8,
          4.9,
          3.9,
          5.2,
          5.5,
          7.4,
          6.6,
          5,
          3.5,
          6.1,
          7.8,
          5.6,
          7.1,
          5,
          6.2,
          6.6,
          6.2,
          3.9,
          4.1,
          7.3,
          6.1,
          7.5,
          6.3,
          4.5,
          3.2,
          4.3,
          3.8,
          6.8,
          6.9,
          8,
          4.5,
          7.1,
          7.1,
          6.8,
          4.2,
          5.8,
          9,
          4.7,
          7.9,
          5.3,
          5.8,
          6.6,
          7.2,
          3.9,
          6.1,
          7,
          6.9,
          4.8,
          1.6,
          4.8,
          5.9,
          7.7,
          6.6,
          6.4,
          3.2,
          5.8,
          4.8,
          5.7,
          5.5,
          6.7,
          5.5,
          6.2,
          4.6,
          6.4,
          3.1,
          6.9,
          8,
          6.5,
          5.4,
          4.1,
          5.8,
          4.4,
          5.8,
          4.8,
          6.7,
          7.1,
          7.4,
          7.5,
          7.3,
          7.4,
          8.2,
          8.6,
          6.8,
          7,
          6.5,
          3.8,
          6.2,
          5.4,
          5.6,
          6.6,
          6.6,
          7.1,
          5.8,
          4.4,
          5.4,
          7.8,
          6.8,
          6.1,
          7.4,
          5.4,
          3.2,
          2.7,
          7.7,
          9.1,
          5.5,
          5.9,
          9.1,
          5.4,
          4.9,
          5.8,
          5.7,
          5.1,
          6.2,
          6.6,
          5.1,
          8.2,
          5.4,
          6.3,
          4.2,
          7.1,
          6.7,
          5.6,
          7,
          6.2,
          6.6,
          8.5,
          4.8,
          6.5,
          5.2,
          5.4,
          3.8,
          7.6,
          6.7,
          7.1,
          7.1,
          2.4,
          7.2,
          6.7,
          6.3,
          6.5,
          6.5,
          6.5,
          5.9,
          8.6,
          7.3,
          3.7,
          4.6,
          5.5,
          6,
          6.7,
          7.6,
          6.4,
          8.1,
          7.2,
          6.6,
          7.2,
          4.1,
          4.6,
          4,
          4.3,
          3.8,
          4.6,
          8,
          7,
          5.6,
          4.4,
          5.5,
          6,
          7.2,
          6.2,
          6.1,
          5.4,
          2.7,
          6.5,
          4.4,
          7.6,
          5.4,
          6.2,
          8,
          7.9,
          8.4,
          8.7,
          5.9,
          6.2,
          5.4,
          3.4,
          4.1,
          5.2,
          5.4,
          6.9,
          4.9,
          6.8,
          5.5,
          5.5,
          6.5,
          6.7,
          7.7,
          3.5,
          7.7,
          5.8,
          5.7,
          6.2,
          6.4,
          6.6,
          6.5,
          5.2,
          5.9,
          6.1,
          3.6,
          5.9,
          5.3,
          6.9,
          6.3,
          6.1,
          4.4,
          5,
          4,
          5.2,
          3.1,
          7.4,
          6.3,
          7.1,
          4.8,
          7.3,
          7.9,
          3.6,
          3.8,
          5.6,
          6.8,
          7,
          5.8,
          5.4,
          6.1,
          4.3,
          6,
          6.3,
          3.3,
          3.1,
          3.1,
          2.9,
          4.7,
          7.6,
          6.5,
          6.7,
          6.6,
          3.7,
          8,
          5.8,
          6,
          5.4,
          6.8,
          6.9,
          3.6,
          7.3,
          7.1,
          2.3,
          7.2,
          3.5,
          9,
          3.9,
          9.3,
          5.5,
          5.9,
          3.2,
          7.7,
          4.5,
          4.9,
          7,
          8.4,
          5.1,
          8.5,
          6.7,
          7.6,
          7,
          6.7,
          6.4,
          8.7,
          6.1,
          7.8,
          6.9,
          3.9,
          3.5,
          6.8,
          7.2,
          7.7,
          5.7,
          6.8,
          7.2,
          4.9,
          5.8,
          8.2,
          5.6,
          5.7,
          7.1,
          5.1,
          6.7,
          4.4,
          6.9,
          6.8,
          2.9,
          5.8,
          7.2,
          6.1,
          6.4,
          4.7,
          4.1,
          6.4,
          3.6,
          5.6,
          7.3,
          6.2,
          7.5,
          5.4,
          6.7,
          6.9,
          7.3,
          6.7,
          6.8,
          7.2,
          7.2,
          6.8,
          6.4,
          6.6,
          6.2,
          7.5,
          7,
          5.3,
          6.7,
          5.9,
          8.2,
          3.8,
          3.8,
          4.7,
          6,
          6.2,
          5.5,
          7,
          2.5,
          5.3,
          6.5,
          7.5,
          6.8,
          6.9,
          5.3,
          5.2,
          5.1,
          6.9,
          3.5,
          4.9,
          7.4,
          7.4,
          7.1,
          4.3,
          4.8,
          6.7,
          6.8,
          6.5,
          5.8,
          6.8,
          4.9,
          7.2,
          7.4,
          7.2,
          3.9,
          6.5,
          4.2,
          4,
          5.1,
          7,
          4.9,
          8.1,
          4.2,
          5.2,
          6.8,
          5,
          7.2,
          6.6,
          5.7,
          6.5,
          7.2,
          4.5,
          6.4,
          7.2,
          6.6,
          7.5,
          7.3,
          2.9,
          6.2,
          4,
          3.4,
          5.8,
          5.5,
          6.9,
          5.3,
          6.9,
          6,
          2.8,
          9.1,
          5.6,
          5.8,
          6.1,
          5.9,
          6.3,
          6.5,
          5.4,
          7.2,
          6.1,
          6.9,
          6.6,
          4.5,
          8.6,
          6.5,
          6.8,
          5.9,
          8,
          5.9,
          7.3,
          8.2,
          6.9,
          6.7,
          6.7,
          8.7,
          4.4,
          4.7,
          5.6,
          6.1,
          6.7,
          6.8,
          5.1,
          8.7,
          6,
          7.3,
          5.5,
          6.9,
          7.6,
          8.1,
          3.8,
          3.8,
          7.4,
          6.8,
          6.4,
          7.5,
          5.9,
          6.3,
          5.4,
          4.9,
          4,
          5.1,
          2.4,
          5.9,
          6.1,
          7,
          6.7,
          5,
          6.2,
          4.7,
          6.8,
          4.2,
          7.3,
          5.7,
          5.9,
          7.7,
          6.4,
          5.9,
          2.4,
          3.6,
          6,
          5.1,
          6.2,
          5.4,
          9.2,
          6.1,
          6.2,
          3.5,
          7.2,
          6.8,
          6.8,
          7.2,
          6.4,
          6,
          6.6,
          6.1,
          7.9,
          5.9,
          7,
          6.4,
          5.3,
          5.7,
          6.8,
          8.6,
          9.4,
          2.9,
          6.9,
          4.9,
          6.7,
          7.3,
          5.9,
          7.1,
          7.3,
          4.6,
          5.2,
          4.4,
          5.9,
          6.4,
          6.6,
          5.9,
          4.8,
          6.4,
          7.3,
          7.9,
          4.1,
          5.4,
          6.3,
          7.9,
          3.4,
          5.7,
          5.4,
          7.6,
          6.5,
          7,
          5.1,
          7.3,
          7.3,
          8,
          6.4,
          6,
          3.9,
          6.1,
          8.1,
          5,
          6.9,
          4.8,
          6.8,
          5.8,
          6.6,
          3.5,
          6.9,
          6.5,
          6.6,
          8.2,
          5.8,
          7.3,
          7.8,
          7.2,
          6.7,
          6.9,
          5.2,
          5.6,
          4.8,
          7,
          4.7,
          8.2,
          7.4,
          5.1,
          6.5,
          3.2,
          5.8,
          5,
          6,
          5.2,
          5.2,
          6.5,
          7.1,
          7.2,
          7.3,
          6.2,
          5.6,
          8.9,
          4.3,
          5.3,
          6.7,
          5.4,
          6.7,
          6.6,
          7.7,
          4.8,
          4.9,
          7.9,
          7.3,
          5.4,
          6.5,
          4.9,
          5.5,
          6.8,
          4.5,
          4.8,
          4.6,
          7.1,
          6.4,
          3.3,
          8.1,
          2.7,
          5.7,
          5.4,
          5.6,
          7,
          6,
          6.6,
          5.1,
          6.7,
          5.4,
          6.1,
          6.4,
          4.6,
          7.6,
          6.6,
          3.3,
          5.2,
          4.4,
          6.1,
          3.4,
          8.6,
          4.8,
          5.9,
          7,
          7.9,
          5,
          3.3,
          6.3,
          6.4,
          6.4,
          5.3,
          3.9,
          7.1,
          6,
          3.7,
          4.4,
          6,
          5.7,
          5.7,
          6.1
         ],
         "xaxis": "x",
         "yaxis": "y"
        }
       ],
       "layout": {
        "barmode": "relative",
        "legend": {
         "tracegroupgap": 0
        },
        "margin": {
         "t": 60
        },
        "template": {
         "data": {
          "bar": [
           {
            "error_x": {
             "color": "#2a3f5f"
            },
            "error_y": {
             "color": "#2a3f5f"
            },
            "marker": {
             "line": {
              "color": "#E5ECF6",
              "width": 0.5
             },
             "pattern": {
              "fillmode": "overlay",
              "size": 10,
              "solidity": 0.2
             }
            },
            "type": "bar"
           }
          ],
          "barpolar": [
           {
            "marker": {
             "line": {
              "color": "#E5ECF6",
              "width": 0.5
             },
             "pattern": {
              "fillmode": "overlay",
              "size": 10,
              "solidity": 0.2
             }
            },
            "type": "barpolar"
           }
          ],
          "carpet": [
           {
            "aaxis": {
             "endlinecolor": "#2a3f5f",
             "gridcolor": "white",
             "linecolor": "white",
             "minorgridcolor": "white",
             "startlinecolor": "#2a3f5f"
            },
            "baxis": {
             "endlinecolor": "#2a3f5f",
             "gridcolor": "white",
             "linecolor": "white",
             "minorgridcolor": "white",
             "startlinecolor": "#2a3f5f"
            },
            "type": "carpet"
           }
          ],
          "choropleth": [
           {
            "colorbar": {
             "outlinewidth": 0,
             "ticks": ""
            },
            "type": "choropleth"
           }
          ],
          "contour": [
           {
            "colorbar": {
             "outlinewidth": 0,
             "ticks": ""
            },
            "colorscale": [
             [
              0,
              "#0d0887"
             ],
             [
              0.1111111111111111,
              "#46039f"
             ],
             [
              0.2222222222222222,
              "#7201a8"
             ],
             [
              0.3333333333333333,
              "#9c179e"
             ],
             [
              0.4444444444444444,
              "#bd3786"
             ],
             [
              0.5555555555555556,
              "#d8576b"
             ],
             [
              0.6666666666666666,
              "#ed7953"
             ],
             [
              0.7777777777777778,
              "#fb9f3a"
             ],
             [
              0.8888888888888888,
              "#fdca26"
             ],
             [
              1,
              "#f0f921"
             ]
            ],
            "type": "contour"
           }
          ],
          "contourcarpet": [
           {
            "colorbar": {
             "outlinewidth": 0,
             "ticks": ""
            },
            "type": "contourcarpet"
           }
          ],
          "heatmap": [
           {
            "colorbar": {
             "outlinewidth": 0,
             "ticks": ""
            },
            "colorscale": [
             [
              0,
              "#0d0887"
             ],
             [
              0.1111111111111111,
              "#46039f"
             ],
             [
              0.2222222222222222,
              "#7201a8"
             ],
             [
              0.3333333333333333,
              "#9c179e"
             ],
             [
              0.4444444444444444,
              "#bd3786"
             ],
             [
              0.5555555555555556,
              "#d8576b"
             ],
             [
              0.6666666666666666,
              "#ed7953"
             ],
             [
              0.7777777777777778,
              "#fb9f3a"
             ],
             [
              0.8888888888888888,
              "#fdca26"
             ],
             [
              1,
              "#f0f921"
             ]
            ],
            "type": "heatmap"
           }
          ],
          "heatmapgl": [
           {
            "colorbar": {
             "outlinewidth": 0,
             "ticks": ""
            },
            "colorscale": [
             [
              0,
              "#0d0887"
             ],
             [
              0.1111111111111111,
              "#46039f"
             ],
             [
              0.2222222222222222,
              "#7201a8"
             ],
             [
              0.3333333333333333,
              "#9c179e"
             ],
             [
              0.4444444444444444,
              "#bd3786"
             ],
             [
              0.5555555555555556,
              "#d8576b"
             ],
             [
              0.6666666666666666,
              "#ed7953"
             ],
             [
              0.7777777777777778,
              "#fb9f3a"
             ],
             [
              0.8888888888888888,
              "#fdca26"
             ],
             [
              1,
              "#f0f921"
             ]
            ],
            "type": "heatmapgl"
           }
          ],
          "histogram": [
           {
            "marker": {
             "pattern": {
              "fillmode": "overlay",
              "size": 10,
              "solidity": 0.2
             }
            },
            "type": "histogram"
           }
          ],
          "histogram2d": [
           {
            "colorbar": {
             "outlinewidth": 0,
             "ticks": ""
            },
            "colorscale": [
             [
              0,
              "#0d0887"
             ],
             [
              0.1111111111111111,
              "#46039f"
             ],
             [
              0.2222222222222222,
              "#7201a8"
             ],
             [
              0.3333333333333333,
              "#9c179e"
             ],
             [
              0.4444444444444444,
              "#bd3786"
             ],
             [
              0.5555555555555556,
              "#d8576b"
             ],
             [
              0.6666666666666666,
              "#ed7953"
             ],
             [
              0.7777777777777778,
              "#fb9f3a"
             ],
             [
              0.8888888888888888,
              "#fdca26"
             ],
             [
              1,
              "#f0f921"
             ]
            ],
            "type": "histogram2d"
           }
          ],
          "histogram2dcontour": [
           {
            "colorbar": {
             "outlinewidth": 0,
             "ticks": ""
            },
            "colorscale": [
             [
              0,
              "#0d0887"
             ],
             [
              0.1111111111111111,
              "#46039f"
             ],
             [
              0.2222222222222222,
              "#7201a8"
             ],
             [
              0.3333333333333333,
              "#9c179e"
             ],
             [
              0.4444444444444444,
              "#bd3786"
             ],
             [
              0.5555555555555556,
              "#d8576b"
             ],
             [
              0.6666666666666666,
              "#ed7953"
             ],
             [
              0.7777777777777778,
              "#fb9f3a"
             ],
             [
              0.8888888888888888,
              "#fdca26"
             ],
             [
              1,
              "#f0f921"
             ]
            ],
            "type": "histogram2dcontour"
           }
          ],
          "mesh3d": [
           {
            "colorbar": {
             "outlinewidth": 0,
             "ticks": ""
            },
            "type": "mesh3d"
           }
          ],
          "parcoords": [
           {
            "line": {
             "colorbar": {
              "outlinewidth": 0,
              "ticks": ""
             }
            },
            "type": "parcoords"
           }
          ],
          "pie": [
           {
            "automargin": true,
            "type": "pie"
           }
          ],
          "scatter": [
           {
            "fillpattern": {
             "fillmode": "overlay",
             "size": 10,
             "solidity": 0.2
            },
            "type": "scatter"
           }
          ],
          "scatter3d": [
           {
            "line": {
             "colorbar": {
              "outlinewidth": 0,
              "ticks": ""
             }
            },
            "marker": {
             "colorbar": {
              "outlinewidth": 0,
              "ticks": ""
             }
            },
            "type": "scatter3d"
           }
          ],
          "scattercarpet": [
           {
            "marker": {
             "colorbar": {
              "outlinewidth": 0,
              "ticks": ""
             }
            },
            "type": "scattercarpet"
           }
          ],
          "scattergeo": [
           {
            "marker": {
             "colorbar": {
              "outlinewidth": 0,
              "ticks": ""
             }
            },
            "type": "scattergeo"
           }
          ],
          "scattergl": [
           {
            "marker": {
             "colorbar": {
              "outlinewidth": 0,
              "ticks": ""
             }
            },
            "type": "scattergl"
           }
          ],
          "scattermapbox": [
           {
            "marker": {
             "colorbar": {
              "outlinewidth": 0,
              "ticks": ""
             }
            },
            "type": "scattermapbox"
           }
          ],
          "scatterpolar": [
           {
            "marker": {
             "colorbar": {
              "outlinewidth": 0,
              "ticks": ""
             }
            },
            "type": "scatterpolar"
           }
          ],
          "scatterpolargl": [
           {
            "marker": {
             "colorbar": {
              "outlinewidth": 0,
              "ticks": ""
             }
            },
            "type": "scatterpolargl"
           }
          ],
          "scatterternary": [
           {
            "marker": {
             "colorbar": {
              "outlinewidth": 0,
              "ticks": ""
             }
            },
            "type": "scatterternary"
           }
          ],
          "surface": [
           {
            "colorbar": {
             "outlinewidth": 0,
             "ticks": ""
            },
            "colorscale": [
             [
              0,
              "#0d0887"
             ],
             [
              0.1111111111111111,
              "#46039f"
             ],
             [
              0.2222222222222222,
              "#7201a8"
             ],
             [
              0.3333333333333333,
              "#9c179e"
             ],
             [
              0.4444444444444444,
              "#bd3786"
             ],
             [
              0.5555555555555556,
              "#d8576b"
             ],
             [
              0.6666666666666666,
              "#ed7953"
             ],
             [
              0.7777777777777778,
              "#fb9f3a"
             ],
             [
              0.8888888888888888,
              "#fdca26"
             ],
             [
              1,
              "#f0f921"
             ]
            ],
            "type": "surface"
           }
          ],
          "table": [
           {
            "cells": {
             "fill": {
              "color": "#EBF0F8"
             },
             "line": {
              "color": "white"
             }
            },
            "header": {
             "fill": {
              "color": "#C8D4E3"
             },
             "line": {
              "color": "white"
             }
            },
            "type": "table"
           }
          ]
         },
         "layout": {
          "annotationdefaults": {
           "arrowcolor": "#2a3f5f",
           "arrowhead": 0,
           "arrowwidth": 1
          },
          "autotypenumbers": "strict",
          "coloraxis": {
           "colorbar": {
            "outlinewidth": 0,
            "ticks": ""
           }
          },
          "colorscale": {
           "diverging": [
            [
             0,
             "#8e0152"
            ],
            [
             0.1,
             "#c51b7d"
            ],
            [
             0.2,
             "#de77ae"
            ],
            [
             0.3,
             "#f1b6da"
            ],
            [
             0.4,
             "#fde0ef"
            ],
            [
             0.5,
             "#f7f7f7"
            ],
            [
             0.6,
             "#e6f5d0"
            ],
            [
             0.7,
             "#b8e186"
            ],
            [
             0.8,
             "#7fbc41"
            ],
            [
             0.9,
             "#4d9221"
            ],
            [
             1,
             "#276419"
            ]
           ],
           "sequential": [
            [
             0,
             "#0d0887"
            ],
            [
             0.1111111111111111,
             "#46039f"
            ],
            [
             0.2222222222222222,
             "#7201a8"
            ],
            [
             0.3333333333333333,
             "#9c179e"
            ],
            [
             0.4444444444444444,
             "#bd3786"
            ],
            [
             0.5555555555555556,
             "#d8576b"
            ],
            [
             0.6666666666666666,
             "#ed7953"
            ],
            [
             0.7777777777777778,
             "#fb9f3a"
            ],
            [
             0.8888888888888888,
             "#fdca26"
            ],
            [
             1,
             "#f0f921"
            ]
           ],
           "sequentialminus": [
            [
             0,
             "#0d0887"
            ],
            [
             0.1111111111111111,
             "#46039f"
            ],
            [
             0.2222222222222222,
             "#7201a8"
            ],
            [
             0.3333333333333333,
             "#9c179e"
            ],
            [
             0.4444444444444444,
             "#bd3786"
            ],
            [
             0.5555555555555556,
             "#d8576b"
            ],
            [
             0.6666666666666666,
             "#ed7953"
            ],
            [
             0.7777777777777778,
             "#fb9f3a"
            ],
            [
             0.8888888888888888,
             "#fdca26"
            ],
            [
             1,
             "#f0f921"
            ]
           ]
          },
          "colorway": [
           "#636efa",
           "#EF553B",
           "#00cc96",
           "#ab63fa",
           "#FFA15A",
           "#19d3f3",
           "#FF6692",
           "#B6E880",
           "#FF97FF",
           "#FECB52"
          ],
          "font": {
           "color": "#2a3f5f"
          },
          "geo": {
           "bgcolor": "white",
           "lakecolor": "white",
           "landcolor": "#E5ECF6",
           "showlakes": true,
           "showland": true,
           "subunitcolor": "white"
          },
          "hoverlabel": {
           "align": "left"
          },
          "hovermode": "closest",
          "mapbox": {
           "style": "light"
          },
          "paper_bgcolor": "white",
          "plot_bgcolor": "#E5ECF6",
          "polar": {
           "angularaxis": {
            "gridcolor": "white",
            "linecolor": "white",
            "ticks": ""
           },
           "bgcolor": "#E5ECF6",
           "radialaxis": {
            "gridcolor": "white",
            "linecolor": "white",
            "ticks": ""
           }
          },
          "scene": {
           "xaxis": {
            "backgroundcolor": "#E5ECF6",
            "gridcolor": "white",
            "gridwidth": 2,
            "linecolor": "white",
            "showbackground": true,
            "ticks": "",
            "zerolinecolor": "white"
           },
           "yaxis": {
            "backgroundcolor": "#E5ECF6",
            "gridcolor": "white",
            "gridwidth": 2,
            "linecolor": "white",
            "showbackground": true,
            "ticks": "",
            "zerolinecolor": "white"
           },
           "zaxis": {
            "backgroundcolor": "#E5ECF6",
            "gridcolor": "white",
            "gridwidth": 2,
            "linecolor": "white",
            "showbackground": true,
            "ticks": "",
            "zerolinecolor": "white"
           }
          },
          "shapedefaults": {
           "line": {
            "color": "#2a3f5f"
           }
          },
          "ternary": {
           "aaxis": {
            "gridcolor": "white",
            "linecolor": "white",
            "ticks": ""
           },
           "baxis": {
            "gridcolor": "white",
            "linecolor": "white",
            "ticks": ""
           },
           "bgcolor": "#E5ECF6",
           "caxis": {
            "gridcolor": "white",
            "linecolor": "white",
            "ticks": ""
           }
          },
          "title": {
           "x": 0.05
          },
          "xaxis": {
           "automargin": true,
           "gridcolor": "white",
           "linecolor": "white",
           "ticks": "",
           "title": {
            "standoff": 15
           },
           "zerolinecolor": "white",
           "zerolinewidth": 2
          },
          "yaxis": {
           "automargin": true,
           "gridcolor": "white",
           "linecolor": "white",
           "ticks": "",
           "title": {
            "standoff": 15
           },
           "zerolinecolor": "white",
           "zerolinewidth": 2
          }
         }
        },
        "title": {
         "font": {
          "size": 20
         },
         "pad": {
          "t": 20
         },
         "text": "Distribution of Rating",
         "x": 0.5
        },
        "xaxis": {
         "anchor": "y",
         "domain": [
          0,
          1
         ],
         "title": {
          "text": "Rating"
         }
        },
        "yaxis": {
         "anchor": "x",
         "domain": [
          0,
          1
         ],
         "title": {
          "text": "Probability Density"
         }
        }
       }
      },
      "text/html": [
       "<div>                            <div id=\"32ce3535-4471-47f4-aa57-caeb5ee28d62\" class=\"plotly-graph-div\" style=\"height:525px; width:100%;\"></div>            <script type=\"text/javascript\">                require([\"plotly\"], function(Plotly) {                    window.PLOTLYENV=window.PLOTLYENV || {};                                    if (document.getElementById(\"32ce3535-4471-47f4-aa57-caeb5ee28d62\")) {                    Plotly.newPlot(                        \"32ce3535-4471-47f4-aa57-caeb5ee28d62\",                        [{\"alignmentgroup\":\"True\",\"bingroup\":\"x\",\"histnorm\":\"probability density\",\"hovertemplate\":\"Rating=%{x}<br>probability density=%{y}<extra></extra>\",\"legendgroup\":\"\",\"marker\":{\"color\":\"#636efa\",\"pattern\":{\"shape\":\"\"}},\"name\":\"\",\"nbinsx\":40,\"offsetgroup\":\"\",\"orientation\":\"v\",\"showlegend\":false,\"x\":[7.0,6.2,5.9,7.1,5.6,4.5,4.0,5.5,6.1,6.1,6.9,6.9,6.9,5.6,5.6,6.3,5.7,4.2,6.2,5.0,6.2,5.3,8.1,6.3,7.3,6.0,3.1,7.9,8.0,2.7,6.8,2.4,7.4,5.1,7.6,6.4,6.7,7.6,4.2,4.1,5.3,4.8,5.0,3.1,5.5,3.1,3.3,4.4,6.9,2.8,5.4,3.0,6.4,5.6,6.1,6.6,4.2,6.1,6.1,6.7,7.1,5.5,7.3,6.1,5.5,4.5,6.4,5.1,6.6,7.6,4.0,7.0,5.8,4.7,5.0,5.5,6.6,4.7,3.1,7.8,3.6,4.6,5.9,6.6,5.8,6.9,6.6,5.5,7.0,5.6,6.9,6.8,5.5,5.9,6.5,6.3,7.9,4.3,3.7,6.6,6.1,6.5,4.2,4.4,4.9,6.2,7.3,5.9,5.0,5.6,3.9,5.5,8.0,7.0,4.9,7.1,6.3,7.4,6.3,6.6,5.5,7.1,4.4,6.6,5.7,6.8,7.3,7.5,6.5,6.9,3.7,4.8,9.3,4.3,7.3,7.3,8.8,4.3,5.6,5.9,6.4,3.8,4.2,4.2,4.8,6.4,6.5,7.2,5.9,8.7,3.6,5.1,6.2,7.6,7.1,8.8,6.1,7.3,7.0,6.2,6.1,6.4,8.2,3.3,6.0,6.9,6.7,4.7,2.5,7.1,6.6,5.9,7.7,5.5,4.7,5.7,7.1,8.8,6.0,6.3,6.8,9.3,7.7,4.2,2.3,6.1,7.3,8.1,7.5,5.6,3.6,7.2,6.1,7.9,3.7,6.0,4.9,2.8,6.0,7.0,4.8,5.6,5.6,5.9,5.8,4.9,6.3,5.2,3.6,2.5,4.6,8.7,4.4,3.8,5.8,4.6,6.2,5.5,5.1,6.8,6.8,4.3,3.4,4.9,6.4,6.2,5.9,7.0,4.0,7.1,7.2,7.8,6.7,7.4,7.0,6.4,4.4,6.9,6.0,4.5,3.9,7.6,5.9,6.2,7.1,4.1,6.9,8.2,8.6,6.5,6.5,7.9,6.0,4.8,6.1,6.7,2.9,6.4,7.5,6.9,7.6,7.3,2.6,6.8,7.8,6.0,4.8,4.5,4.2,5.6,7.0,7.9,7.8,3.5,7.7,4.5,8.6,4.7,6.8,4.2,3.8,4.9,8.6,6.5,5.9,7.0,6.8,6.7,4.7,4.8,4.6,6.7,6.3,6.6,6.9,4.1,8.3,6.9,8.1,8.0,4.5,5.9,6.8,6.5,6.4,5.8,3.8,7.5,6.3,6.2,5.5,3.7,6.6,5.3,7.2,6.8,4.6,6.8,6.5,5.8,7.4,4.7,7.1,3.1,6.1,5.3,4.9,6.7,7.3,5.9,5.6,6.5,6.2,6.5,7.7,6.8,5.3,6.9,6.5,3.9,7.1,7.7,7.4,6.3,3.8,7.0,6.7,3.7,7.5,7.0,5.2,5.1,6.5,5.6,7.2,6.3,5.4,7.4,6.7,7.2,8.1,7.3,7.8,7.5,6.4,6.1,5.9,6.1,5.9,4.9,5.5,4.0,6.4,4.2,7.8,5.2,5.5,6.5,4.4,6.3,7.3,6.5,7.0,6.7,7.2,5.7,4.5,7.2,3.6,7.0,6.1,5.3,5.0,5.0,5.0,6.7,7.2,2.5,6.9,8.4,5.3,6.1,5.4,3.8,6.3,3.3,6.4,7.1,6.5,4.0,7.7,6.0,7.9,3.3,4.2,8.2,7.0,3.8,1.9,5.3,5.2,7.1,4.6,5.0,5.2,6.6,6.9,6.5,4.6,5.7,4.0,7.1,4.3,7.8,7.7,5.7,6.7,6.7,6.3,8.5,7.1,2.9,6.6,3.8,3.9,7.1,6.4,7.2,2.5,3.4,6.9,6.1,6.9,6.8,5.7,6.9,6.9,4.4,6.9,5.7,6.0,5.8,6.2,7.1,4.9,4.3,5.4,5.1,7.3,6.9,6.8,4.4,4.8,6.0,6.0,6.3,6.4,7.5,4.7,6.8,7.1,6.5,3.1,6.2,8.3,4.8,7.2,3.5,7.3,7.1,7.1,5.8,4.6,5.2,6.4,5.7,6.7,5.3,4.5,7.3,8.1,7.3,7.0,8.8,5.6,5.9,6.0,6.7,7.1,5.5,6.0,5.9,6.6,4.6,5.5,4.9,6.8,3.2,2.1,5.6,9.3,7.0,7.1,6.9,7.4,6.1,5.7,4.7,6.7,5.4,7.5,5.6,4.9,4.2,4.1,6.8,6.6,5.8,5.7,6.2,4.3,4.9,8.4,6.1,2.5,6.4,6.7,7.8,7.8,5.7,7.6,7.4,4.5,4.4,6.4,7.9,7.5,4.4,4.7,7.9,5.6,4.1,6.7,6.2,6.5,7.1,7.9,3.4,5.6,5.6,5.3,5.1,6.3,5.4,5.3,5.9,6.6,3.5,4.2,5.1,5.8,5.5,5.8,6.4,6.4,5.7,7.1,6.2,6.5,6.0,5.8,4.6,5.9,1.7,6.9,5.3,6.8,5.2,6.8,6.5,8.6,7.3,6.0,3.5,6.5,9.2,7.4,5.9,7.0,7.3,7.4,4.6,6.8,6.8,5.8,5.0,2.6,4.0,3.1,5.7,4.8,6.7,6.8,4.3,5.3,6.9,5.6,5.9,4.7,6.6,4.6,4.8,6.5,5.6,8.1,6.6,6.1,7.8,7.2,5.3,5.0,6.2,6.7,5.7,7.0,2.7,5.9,2.8,5.8,6.0,5.6,4.6,5.0,4.2,5.4,4.8,6.7,5.9,5.9,4.8,3.8,6.2,7.3,7.2,7.1,4.7,6.6,4.4,4.9,6.4,3.4,8.6,6.1,6.8,9.0,6.6,6.2,3.7,9.4,5.1,6.2,3.1,7.9,8.0,5.9,6.5,3.9,8.0,8.9,5.0,2.7,6.4,7.3,4.8,5.4,6.6,7.8,6.6,6.8,8.1,5.8,6.9,7.5,5.4,6.6,6.7,6.2,6.2,8.0,6.7,7.2,5.2,7.1,7.2,5.1,8.2,5.8,6.3,4.0,4.2,4.8,4.4,6.6,7.0,5.6,5.6,5.1,5.7,5.9,5.6,6.3,7.7,7.2,5.8,5.1,8.1,4.1,2.7,5.6,4.1,5.5,2.8,4.7,7.5,8.1,5.8,5.8,4.1,4.6,7.8,5.6,6.3,7.4,4.6,7.1,7.4,5.8,5.5,3.5,7.4,7.3,8.6,3.8,5.8,7.8,5.7,6.6,6.7,4.3,8.5,3.8,4.3,7.5,3.7,5.1,8.5,5.7,4.3,8.9,1.9,4.9,5.8,6.4,3.6,5.9,6.5,5.4,4.7,5.7,6.2,6.5,6.3,7.4,7.3,6.0,6.6,6.6,5.2,6.2,6.3,8.2,4.4,5.5,6.6,7.1,6.6,8.6,5.8,7.8,5.7,7.4,5.1,5.2,6.0,4.2,6.6,7.6,7.4,5.8,5.1,7.1,7.1,5.1,4.7,6.6,6.2,7.5,5.1,7.0,5.7,3.7,8.6,4.5,2.3,4.6,3.2,5.1,5.0,6.5,7.6,7.7,8.0,6.3,9.0,7.2,5.8,7.3,4.2,4.7,6.8,7.8,5.1,5.4,2.8,7.7,8.1,7.0,7.7,6.9,5.2,7.3,4.2,7.2,4.9,5.1,5.4,8.2,8.2,7.2,4.8,3.3,2.4,7.7,2.8,4.3,4.2,3.5,6.9,5.8,2.7,6.7,5.7,7.9,6.7,7.2,5.5,6.6,6.1,3.4,7.2,6.6,7.2,6.1,5.6,4.8,4.7,4.1,8.8,4.9,3.9,5.2,5.5,7.4,6.6,5.0,3.5,6.1,7.8,5.6,7.1,5.0,6.2,6.6,6.2,3.9,4.1,7.3,6.1,7.5,6.3,4.5,3.2,4.3,3.8,6.8,6.9,8.0,4.5,7.1,7.1,6.8,4.2,5.8,9.0,4.7,7.9,5.3,5.8,6.6,7.2,3.9,6.1,7.0,6.9,4.8,1.6,4.8,5.9,7.7,6.6,6.4,3.2,5.8,4.8,5.7,5.5,6.7,5.5,6.2,4.6,6.4,3.1,6.9,8.0,6.5,5.4,4.1,5.8,4.4,5.8,4.8,6.7,7.1,7.4,7.5,7.3,7.4,8.2,8.6,6.8,7.0,6.5,3.8,6.2,5.4,5.6,6.6,6.6,7.1,5.8,4.4,5.4,7.8,6.8,6.1,7.4,5.4,3.2,2.7,7.7,9.1,5.5,5.9,9.1,5.4,4.9,5.8,5.7,5.1,6.2,6.6,5.1,8.2,5.4,6.3,4.2,7.1,6.7,5.6,7.0,6.2,6.6,8.5,4.8,6.5,5.2,5.4,3.8,7.6,6.7,7.1,7.1,2.4,7.2,6.7,6.3,6.5,6.5,6.5,5.9,8.6,7.3,3.7,4.6,5.5,6.0,6.7,7.6,6.4,8.1,7.2,6.6,7.2,4.1,4.6,4.0,4.3,3.8,4.6,8.0,7.0,5.6,4.4,5.5,6.0,7.2,6.2,6.1,5.4,2.7,6.5,4.4,7.6,5.4,6.2,8.0,7.9,8.4,8.7,5.9,6.2,5.4,3.4,4.1,5.2,5.4,6.9,4.9,6.8,5.5,5.5,6.5,6.7,7.7,3.5,7.7,5.8,5.7,6.2,6.4,6.6,6.5,5.2,5.9,6.1,3.6,5.9,5.3,6.9,6.3,6.1,4.4,5.0,4.0,5.2,3.1,7.4,6.3,7.1,4.8,7.3,7.9,3.6,3.8,5.6,6.8,7.0,5.8,5.4,6.1,4.3,6.0,6.3,3.3,3.1,3.1,2.9,4.7,7.6,6.5,6.7,6.6,3.7,8.0,5.8,6.0,5.4,6.8,6.9,3.6,7.3,7.1,2.3,7.2,3.5,9.0,3.9,9.3,5.5,5.9,3.2,7.7,4.5,4.9,7.0,8.4,5.1,8.5,6.7,7.6,7.0,6.7,6.4,8.7,6.1,7.8,6.9,3.9,3.5,6.8,7.2,7.7,5.7,6.8,7.2,4.9,5.8,8.2,5.6,5.7,7.1,5.1,6.7,4.4,6.9,6.8,2.9,5.8,7.2,6.1,6.4,4.7,4.1,6.4,3.6,5.6,7.3,6.2,7.5,5.4,6.7,6.9,7.3,6.7,6.8,7.2,7.2,6.8,6.4,6.6,6.2,7.5,7.0,5.3,6.7,5.9,8.2,3.8,3.8,4.7,6.0,6.2,5.5,7.0,2.5,5.3,6.5,7.5,6.8,6.9,5.3,5.2,5.1,6.9,3.5,4.9,7.4,7.4,7.1,4.3,4.8,6.7,6.8,6.5,5.8,6.8,4.9,7.2,7.4,7.2,3.9,6.5,4.2,4.0,5.1,7.0,4.9,8.1,4.2,5.2,6.8,5.0,7.2,6.6,5.7,6.5,7.2,4.5,6.4,7.2,6.6,7.5,7.3,2.9,6.2,4.0,3.4,5.8,5.5,6.9,5.3,6.9,6.0,2.8,9.1,5.6,5.8,6.1,5.9,6.3,6.5,5.4,7.2,6.1,6.9,6.6,4.5,8.6,6.5,6.8,5.9,8.0,5.9,7.3,8.2,6.9,6.7,6.7,8.7,4.4,4.7,5.6,6.1,6.7,6.8,5.1,8.7,6.0,7.3,5.5,6.9,7.6,8.1,3.8,3.8,7.4,6.8,6.4,7.5,5.9,6.3,5.4,4.9,4.0,5.1,2.4,5.9,6.1,7.0,6.7,5.0,6.2,4.7,6.8,4.2,7.3,5.7,5.9,7.7,6.4,5.9,2.4,3.6,6.0,5.1,6.2,5.4,9.2,6.1,6.2,3.5,7.2,6.8,6.8,7.2,6.4,6.0,6.6,6.1,7.9,5.9,7.0,6.4,5.3,5.7,6.8,8.6,9.4,2.9,6.9,4.9,6.7,7.3,5.9,7.1,7.3,4.6,5.2,4.4,5.9,6.4,6.6,5.9,4.8,6.4,7.3,7.9,4.1,5.4,6.3,7.9,3.4,5.7,5.4,7.6,6.5,7.0,5.1,7.3,7.3,8.0,6.4,6.0,3.9,6.1,8.1,5.0,6.9,4.8,6.8,5.8,6.6,3.5,6.9,6.5,6.6,8.2,5.8,7.3,7.8,7.2,6.7,6.9,5.2,5.6,4.8,7.0,4.7,8.2,7.4,5.1,6.5,3.2,5.8,5.0,6.0,5.2,5.2,6.5,7.1,7.2,7.3,6.2,5.6,8.9,4.3,5.3,6.7,5.4,6.7,6.6,7.7,4.8,4.9,7.9,7.3,5.4,6.5,4.9,5.5,6.8,4.5,4.8,4.6,7.1,6.4,3.3,8.1,2.7,5.7,5.4,5.6,7.0,6.0,6.6,5.1,6.7,5.4,6.1,6.4,4.6,7.6,6.6,3.3,5.2,4.4,6.1,3.4,8.6,4.8,5.9,7.0,7.9,5.0,3.3,6.3,6.4,6.4,5.3,3.9,7.1,6.0,3.7,4.4,6.0,5.7,5.7,6.1],\"xaxis\":\"x\",\"yaxis\":\"y\",\"type\":\"histogram\"}],                        {\"template\":{\"data\":{\"histogram2dcontour\":[{\"type\":\"histogram2dcontour\",\"colorbar\":{\"outlinewidth\":0,\"ticks\":\"\"},\"colorscale\":[[0.0,\"#0d0887\"],[0.1111111111111111,\"#46039f\"],[0.2222222222222222,\"#7201a8\"],[0.3333333333333333,\"#9c179e\"],[0.4444444444444444,\"#bd3786\"],[0.5555555555555556,\"#d8576b\"],[0.6666666666666666,\"#ed7953\"],[0.7777777777777778,\"#fb9f3a\"],[0.8888888888888888,\"#fdca26\"],[1.0,\"#f0f921\"]]}],\"choropleth\":[{\"type\":\"choropleth\",\"colorbar\":{\"outlinewidth\":0,\"ticks\":\"\"}}],\"histogram2d\":[{\"type\":\"histogram2d\",\"colorbar\":{\"outlinewidth\":0,\"ticks\":\"\"},\"colorscale\":[[0.0,\"#0d0887\"],[0.1111111111111111,\"#46039f\"],[0.2222222222222222,\"#7201a8\"],[0.3333333333333333,\"#9c179e\"],[0.4444444444444444,\"#bd3786\"],[0.5555555555555556,\"#d8576b\"],[0.6666666666666666,\"#ed7953\"],[0.7777777777777778,\"#fb9f3a\"],[0.8888888888888888,\"#fdca26\"],[1.0,\"#f0f921\"]]}],\"heatmap\":[{\"type\":\"heatmap\",\"colorbar\":{\"outlinewidth\":0,\"ticks\":\"\"},\"colorscale\":[[0.0,\"#0d0887\"],[0.1111111111111111,\"#46039f\"],[0.2222222222222222,\"#7201a8\"],[0.3333333333333333,\"#9c179e\"],[0.4444444444444444,\"#bd3786\"],[0.5555555555555556,\"#d8576b\"],[0.6666666666666666,\"#ed7953\"],[0.7777777777777778,\"#fb9f3a\"],[0.8888888888888888,\"#fdca26\"],[1.0,\"#f0f921\"]]}],\"heatmapgl\":[{\"type\":\"heatmapgl\",\"colorbar\":{\"outlinewidth\":0,\"ticks\":\"\"},\"colorscale\":[[0.0,\"#0d0887\"],[0.1111111111111111,\"#46039f\"],[0.2222222222222222,\"#7201a8\"],[0.3333333333333333,\"#9c179e\"],[0.4444444444444444,\"#bd3786\"],[0.5555555555555556,\"#d8576b\"],[0.6666666666666666,\"#ed7953\"],[0.7777777777777778,\"#fb9f3a\"],[0.8888888888888888,\"#fdca26\"],[1.0,\"#f0f921\"]]}],\"contourcarpet\":[{\"type\":\"contourcarpet\",\"colorbar\":{\"outlinewidth\":0,\"ticks\":\"\"}}],\"contour\":[{\"type\":\"contour\",\"colorbar\":{\"outlinewidth\":0,\"ticks\":\"\"},\"colorscale\":[[0.0,\"#0d0887\"],[0.1111111111111111,\"#46039f\"],[0.2222222222222222,\"#7201a8\"],[0.3333333333333333,\"#9c179e\"],[0.4444444444444444,\"#bd3786\"],[0.5555555555555556,\"#d8576b\"],[0.6666666666666666,\"#ed7953\"],[0.7777777777777778,\"#fb9f3a\"],[0.8888888888888888,\"#fdca26\"],[1.0,\"#f0f921\"]]}],\"surface\":[{\"type\":\"surface\",\"colorbar\":{\"outlinewidth\":0,\"ticks\":\"\"},\"colorscale\":[[0.0,\"#0d0887\"],[0.1111111111111111,\"#46039f\"],[0.2222222222222222,\"#7201a8\"],[0.3333333333333333,\"#9c179e\"],[0.4444444444444444,\"#bd3786\"],[0.5555555555555556,\"#d8576b\"],[0.6666666666666666,\"#ed7953\"],[0.7777777777777778,\"#fb9f3a\"],[0.8888888888888888,\"#fdca26\"],[1.0,\"#f0f921\"]]}],\"mesh3d\":[{\"type\":\"mesh3d\",\"colorbar\":{\"outlinewidth\":0,\"ticks\":\"\"}}],\"scatter\":[{\"fillpattern\":{\"fillmode\":\"overlay\",\"size\":10,\"solidity\":0.2},\"type\":\"scatter\"}],\"parcoords\":[{\"type\":\"parcoords\",\"line\":{\"colorbar\":{\"outlinewidth\":0,\"ticks\":\"\"}}}],\"scatterpolargl\":[{\"type\":\"scatterpolargl\",\"marker\":{\"colorbar\":{\"outlinewidth\":0,\"ticks\":\"\"}}}],\"bar\":[{\"error_x\":{\"color\":\"#2a3f5f\"},\"error_y\":{\"color\":\"#2a3f5f\"},\"marker\":{\"line\":{\"color\":\"#E5ECF6\",\"width\":0.5},\"pattern\":{\"fillmode\":\"overlay\",\"size\":10,\"solidity\":0.2}},\"type\":\"bar\"}],\"scattergeo\":[{\"type\":\"scattergeo\",\"marker\":{\"colorbar\":{\"outlinewidth\":0,\"ticks\":\"\"}}}],\"scatterpolar\":[{\"type\":\"scatterpolar\",\"marker\":{\"colorbar\":{\"outlinewidth\":0,\"ticks\":\"\"}}}],\"histogram\":[{\"marker\":{\"pattern\":{\"fillmode\":\"overlay\",\"size\":10,\"solidity\":0.2}},\"type\":\"histogram\"}],\"scattergl\":[{\"type\":\"scattergl\",\"marker\":{\"colorbar\":{\"outlinewidth\":0,\"ticks\":\"\"}}}],\"scatter3d\":[{\"type\":\"scatter3d\",\"line\":{\"colorbar\":{\"outlinewidth\":0,\"ticks\":\"\"}},\"marker\":{\"colorbar\":{\"outlinewidth\":0,\"ticks\":\"\"}}}],\"scattermapbox\":[{\"type\":\"scattermapbox\",\"marker\":{\"colorbar\":{\"outlinewidth\":0,\"ticks\":\"\"}}}],\"scatterternary\":[{\"type\":\"scatterternary\",\"marker\":{\"colorbar\":{\"outlinewidth\":0,\"ticks\":\"\"}}}],\"scattercarpet\":[{\"type\":\"scattercarpet\",\"marker\":{\"colorbar\":{\"outlinewidth\":0,\"ticks\":\"\"}}}],\"carpet\":[{\"aaxis\":{\"endlinecolor\":\"#2a3f5f\",\"gridcolor\":\"white\",\"linecolor\":\"white\",\"minorgridcolor\":\"white\",\"startlinecolor\":\"#2a3f5f\"},\"baxis\":{\"endlinecolor\":\"#2a3f5f\",\"gridcolor\":\"white\",\"linecolor\":\"white\",\"minorgridcolor\":\"white\",\"startlinecolor\":\"#2a3f5f\"},\"type\":\"carpet\"}],\"table\":[{\"cells\":{\"fill\":{\"color\":\"#EBF0F8\"},\"line\":{\"color\":\"white\"}},\"header\":{\"fill\":{\"color\":\"#C8D4E3\"},\"line\":{\"color\":\"white\"}},\"type\":\"table\"}],\"barpolar\":[{\"marker\":{\"line\":{\"color\":\"#E5ECF6\",\"width\":0.5},\"pattern\":{\"fillmode\":\"overlay\",\"size\":10,\"solidity\":0.2}},\"type\":\"barpolar\"}],\"pie\":[{\"automargin\":true,\"type\":\"pie\"}]},\"layout\":{\"autotypenumbers\":\"strict\",\"colorway\":[\"#636efa\",\"#EF553B\",\"#00cc96\",\"#ab63fa\",\"#FFA15A\",\"#19d3f3\",\"#FF6692\",\"#B6E880\",\"#FF97FF\",\"#FECB52\"],\"font\":{\"color\":\"#2a3f5f\"},\"hovermode\":\"closest\",\"hoverlabel\":{\"align\":\"left\"},\"paper_bgcolor\":\"white\",\"plot_bgcolor\":\"#E5ECF6\",\"polar\":{\"bgcolor\":\"#E5ECF6\",\"angularaxis\":{\"gridcolor\":\"white\",\"linecolor\":\"white\",\"ticks\":\"\"},\"radialaxis\":{\"gridcolor\":\"white\",\"linecolor\":\"white\",\"ticks\":\"\"}},\"ternary\":{\"bgcolor\":\"#E5ECF6\",\"aaxis\":{\"gridcolor\":\"white\",\"linecolor\":\"white\",\"ticks\":\"\"},\"baxis\":{\"gridcolor\":\"white\",\"linecolor\":\"white\",\"ticks\":\"\"},\"caxis\":{\"gridcolor\":\"white\",\"linecolor\":\"white\",\"ticks\":\"\"}},\"coloraxis\":{\"colorbar\":{\"outlinewidth\":0,\"ticks\":\"\"}},\"colorscale\":{\"sequential\":[[0.0,\"#0d0887\"],[0.1111111111111111,\"#46039f\"],[0.2222222222222222,\"#7201a8\"],[0.3333333333333333,\"#9c179e\"],[0.4444444444444444,\"#bd3786\"],[0.5555555555555556,\"#d8576b\"],[0.6666666666666666,\"#ed7953\"],[0.7777777777777778,\"#fb9f3a\"],[0.8888888888888888,\"#fdca26\"],[1.0,\"#f0f921\"]],\"sequentialminus\":[[0.0,\"#0d0887\"],[0.1111111111111111,\"#46039f\"],[0.2222222222222222,\"#7201a8\"],[0.3333333333333333,\"#9c179e\"],[0.4444444444444444,\"#bd3786\"],[0.5555555555555556,\"#d8576b\"],[0.6666666666666666,\"#ed7953\"],[0.7777777777777778,\"#fb9f3a\"],[0.8888888888888888,\"#fdca26\"],[1.0,\"#f0f921\"]],\"diverging\":[[0,\"#8e0152\"],[0.1,\"#c51b7d\"],[0.2,\"#de77ae\"],[0.3,\"#f1b6da\"],[0.4,\"#fde0ef\"],[0.5,\"#f7f7f7\"],[0.6,\"#e6f5d0\"],[0.7,\"#b8e186\"],[0.8,\"#7fbc41\"],[0.9,\"#4d9221\"],[1,\"#276419\"]]},\"xaxis\":{\"gridcolor\":\"white\",\"linecolor\":\"white\",\"ticks\":\"\",\"title\":{\"standoff\":15},\"zerolinecolor\":\"white\",\"automargin\":true,\"zerolinewidth\":2},\"yaxis\":{\"gridcolor\":\"white\",\"linecolor\":\"white\",\"ticks\":\"\",\"title\":{\"standoff\":15},\"zerolinecolor\":\"white\",\"automargin\":true,\"zerolinewidth\":2},\"scene\":{\"xaxis\":{\"backgroundcolor\":\"#E5ECF6\",\"gridcolor\":\"white\",\"linecolor\":\"white\",\"showbackground\":true,\"ticks\":\"\",\"zerolinecolor\":\"white\",\"gridwidth\":2},\"yaxis\":{\"backgroundcolor\":\"#E5ECF6\",\"gridcolor\":\"white\",\"linecolor\":\"white\",\"showbackground\":true,\"ticks\":\"\",\"zerolinecolor\":\"white\",\"gridwidth\":2},\"zaxis\":{\"backgroundcolor\":\"#E5ECF6\",\"gridcolor\":\"white\",\"linecolor\":\"white\",\"showbackground\":true,\"ticks\":\"\",\"zerolinecolor\":\"white\",\"gridwidth\":2}},\"shapedefaults\":{\"line\":{\"color\":\"#2a3f5f\"}},\"annotationdefaults\":{\"arrowcolor\":\"#2a3f5f\",\"arrowhead\":0,\"arrowwidth\":1},\"geo\":{\"bgcolor\":\"white\",\"landcolor\":\"#E5ECF6\",\"subunitcolor\":\"white\",\"showland\":true,\"showlakes\":true,\"lakecolor\":\"white\"},\"title\":{\"x\":0.05},\"mapbox\":{\"style\":\"light\"}}},\"xaxis\":{\"anchor\":\"y\",\"domain\":[0.0,1.0],\"title\":{\"text\":\"Rating\"}},\"yaxis\":{\"anchor\":\"x\",\"domain\":[0.0,1.0],\"title\":{\"text\":\"Probability Density\"}},\"legend\":{\"tracegroupgap\":0},\"margin\":{\"t\":60},\"barmode\":\"relative\",\"title\":{\"text\":\"Distribution of Rating\",\"x\":0.5,\"pad\":{\"t\":20},\"font\":{\"size\":20}}},                        {\"responsive\": true}                    ).then(function(){\n",
       "                            \n",
       "var gd = document.getElementById('32ce3535-4471-47f4-aa57-caeb5ee28d62');\n",
       "var x = new MutationObserver(function (mutations, observer) {{\n",
       "        var display = window.getComputedStyle(gd).display;\n",
       "        if (!display || display === 'none') {{\n",
       "            console.log([gd, 'removed!']);\n",
       "            Plotly.purge(gd);\n",
       "            observer.disconnect();\n",
       "        }}\n",
       "}});\n",
       "\n",
       "// Listen for the removal of the full notebook cells\n",
       "var notebookContainer = gd.closest('#notebook-container');\n",
       "if (notebookContainer) {{\n",
       "    x.observe(notebookContainer, {childList: true});\n",
       "}}\n",
       "\n",
       "// Listen for the clearing of the current output cell\n",
       "var outputEl = gd.closest('.output');\n",
       "if (outputEl) {{\n",
       "    x.observe(outputEl, {childList: true});\n",
       "}}\n",
       "\n",
       "                        })                };                });            </script>        </div>"
      ]
     },
     "metadata": {},
     "output_type": "display_data"
    }
   ],
   "source": [
    "fig_rating = px.histogram(df, x = 'Rating', histnorm='probability density', nbins = 40)\n",
    "fig_rating.update_layout(title='Distribution of Rating', title_x=0.5, title_pad=dict(t=20), title_font=dict(size=20), xaxis_title='Rating', yaxis_title='Probability Density')\n",
    "fig_rating.show()"
   ]
  },
  {
   "cell_type": "code",
   "execution_count": 76,
   "id": "0e7464fd",
   "metadata": {},
   "outputs": [
    {
     "data": {
      "application/vnd.plotly.v1+json": {
       "config": {
        "plotlyServerURL": "https://plot.ly"
       },
       "data": [
        {
         "alignmentgroup": "True",
         "hovertemplate": "Votes=%{x}<extra></extra>",
         "legendgroup": "",
         "marker": {
          "color": "#636efa"
         },
         "name": "",
         "notched": false,
         "offsetgroup": "",
         "orientation": "h",
         "showlegend": false,
         "type": "box",
         "x": [
          8,
          17,
          59,
          1002,
          15,
          16,
          20,
          106,
          94,
          361,
          194,
          35,
          358,
          93,
          80,
          6,
          75,
          171,
          31,
          7,
          10,
          9,
          412,
          10,
          17,
          80,
          142,
          24,
          249,
          339,
          16,
          264,
          150,
          18,
          69,
          19,
          66,
          62,
          266,
          13,
          93,
          21,
          52,
          7,
          281,
          15,
          15,
          30,
          122,
          17,
          26,
          922,
          37,
          102,
          49,
          15,
          160,
          44,
          230,
          13,
          1259,
          85,
          203,
          10,
          6,
          88,
          172,
          7,
          85,
          80,
          6,
          64,
          109,
          11,
          8,
          76,
          12,
          7,
          14,
          33,
          53,
          24,
          53,
          52,
          52,
          973,
          32,
          10,
          4780,
          11,
          7,
          8,
          349,
          37,
          137,
          11,
          384,
          7,
          1622,
          23,
          17,
          14,
          41,
          16,
          47,
          11,
          856,
          1636,
          636,
          48,
          71,
          46,
          1185,
          5,
          43,
          29,
          13,
          94,
          19,
          9,
          109,
          7,
          124,
          115,
          6,
          25,
          6,
          68,
          50,
          137,
          12,
          8,
          7,
          38,
          645,
          33,
          5,
          204,
          1807,
          7,
          5383,
          36,
          36,
          16,
          44,
          223,
          64,
          571,
          150,
          21,
          5,
          34,
          40,
          432,
          11,
          5,
          10,
          16,
          20,
          356,
          271,
          165,
          9,
          6,
          66,
          7,
          7,
          123,
          25,
          805,
          10,
          14,
          72,
          6,
          63,
          18,
          54,
          23,
          10,
          16,
          42,
          29,
          85,
          13,
          9,
          7,
          12370,
          24,
          17,
          8,
          50,
          1533,
          21,
          7,
          7,
          6,
          9,
          101,
          4685,
          288,
          15,
          10,
          1873,
          14,
          10,
          75,
          30,
          35,
          18,
          26,
          18,
          10,
          68,
          24,
          15,
          29,
          11,
          15,
          34,
          58,
          132,
          6,
          8,
          24,
          18,
          9,
          74,
          1257,
          9,
          367,
          1968,
          147,
          403,
          585,
          23,
          22,
          34,
          26,
          17,
          22,
          8,
          882,
          33,
          51,
          27,
          365,
          45,
          33782,
          38,
          201,
          112,
          20,
          257,
          12,
          115,
          5124,
          7,
          10,
          13,
          19,
          17,
          456,
          356,
          323,
          25,
          982,
          41,
          6,
          862,
          36,
          13,
          31,
          162,
          122,
          26,
          8,
          656,
          24,
          141,
          28,
          101,
          45,
          336,
          676,
          185,
          2108,
          13,
          35,
          54,
          16,
          9,
          43,
          10,
          5,
          39,
          11,
          39,
          70,
          60,
          44,
          159,
          7,
          15,
          299,
          82,
          22,
          140,
          86,
          954,
          142,
          117,
          11,
          35,
          30,
          15,
          62,
          189,
          5,
          941,
          4826,
          7,
          22,
          16,
          102,
          7,
          22,
          10,
          9,
          433,
          101,
          58,
          15,
          191,
          1957,
          4338,
          179,
          105,
          54,
          32,
          75,
          22,
          40,
          285,
          15,
          5,
          52,
          127,
          24,
          727,
          64,
          8,
          191,
          8,
          329,
          62,
          3207,
          1962,
          57,
          19,
          6,
          15,
          252,
          10,
          22,
          66,
          284,
          24,
          7256,
          48,
          50,
          11,
          126,
          15,
          31,
          15,
          16,
          13,
          57,
          16,
          2118,
          87,
          388,
          12695,
          158,
          242,
          7,
          19,
          78,
          88,
          170,
          20,
          103,
          213,
          21,
          22,
          10,
          58,
          575,
          421,
          1857,
          20,
          88,
          5,
          24,
          9,
          6,
          24,
          29,
          6,
          7,
          47,
          33,
          5785,
          46,
          44,
          37,
          62,
          18,
          128,
          6,
          15,
          84,
          850,
          7,
          13,
          2610,
          31,
          50,
          17,
          1556,
          652,
          200,
          27,
          10,
          10,
          16,
          46,
          13,
          30,
          6,
          124,
          554,
          14,
          5,
          78,
          257,
          14,
          78,
          104,
          186,
          17,
          10,
          43,
          30,
          15,
          8,
          18,
          15,
          52,
          394,
          502,
          21,
          12,
          472,
          8,
          37,
          77,
          62,
          3371,
          9,
          26,
          261,
          47,
          11,
          13,
          365,
          23,
          57,
          52,
          48,
          191,
          4890,
          72,
          97,
          47,
          9,
          454,
          77,
          106,
          181,
          89,
          8,
          56,
          6,
          17,
          7,
          11,
          106,
          30,
          15,
          689,
          398,
          64,
          85,
          36,
          56,
          45,
          113,
          42,
          75,
          360,
          65,
          13,
          640,
          2708,
          51,
          64,
          344,
          23,
          184,
          46,
          58,
          37,
          15644,
          38,
          27,
          47,
          672,
          49,
          1770,
          209,
          7,
          14,
          345,
          40,
          41,
          9,
          5,
          14,
          11,
          1208,
          25,
          52,
          18,
          8,
          28,
          10,
          43,
          1055,
          23,
          796,
          11,
          1251,
          25,
          8,
          3781,
          45,
          92,
          35,
          50,
          31,
          17,
          31,
          101,
          11,
          274,
          4744,
          9,
          1042,
          3167,
          33,
          4132,
          166,
          303,
          7,
          14,
          18,
          11,
          1747,
          15,
          10,
          1486,
          36,
          37,
          442,
          286,
          28,
          10,
          15,
          47,
          19,
          42,
          10,
          27,
          51,
          9,
          118,
          27,
          948,
          897,
          17,
          700,
          25,
          20,
          117,
          36,
          27,
          7,
          218,
          57,
          38,
          52,
          131,
          32,
          5,
          38,
          143,
          96,
          151,
          10,
          151,
          315,
          503,
          9,
          18,
          8,
          48,
          7,
          43,
          5,
          68,
          38,
          40,
          14,
          17,
          31,
          23,
          8,
          5,
          19,
          87,
          1242,
          454,
          15,
          33,
          11,
          9,
          8,
          3336,
          5,
          37,
          8,
          7,
          26,
          99,
          17,
          18,
          22,
          55,
          22,
          9,
          12,
          6,
          672,
          15,
          330,
          129,
          167,
          301,
          32,
          263,
          47,
          188,
          49,
          12,
          21,
          137,
          22,
          18,
          8,
          6,
          8,
          30,
          24,
          31,
          29,
          136,
          2136,
          203,
          7,
          9,
          13,
          85,
          17,
          259,
          76,
          317,
          76,
          5,
          985,
          48,
          7,
          24,
          104,
          131,
          18,
          65,
          95,
          6,
          39,
          13,
          17,
          55,
          212,
          12,
          8,
          39,
          1098,
          23,
          64,
          30,
          16,
          29,
          49,
          10,
          24,
          46,
          216,
          23,
          221,
          12,
          52,
          242,
          16,
          49,
          27,
          7,
          21,
          21,
          39,
          41,
          8,
          7,
          77,
          27,
          293,
          17,
          320,
          7,
          8,
          12,
          12,
          93,
          20,
          128,
          197,
          102,
          26,
          514,
          51,
          15,
          1523,
          20,
          6,
          28,
          31,
          23,
          302,
          126,
          41,
          15,
          18,
          820,
          70,
          46,
          6,
          7,
          171,
          10,
          4165,
          3748,
          56,
          7,
          20,
          16,
          55,
          129,
          37,
          14,
          16,
          117,
          9,
          8,
          278,
          77,
          7,
          32,
          9,
          18,
          116,
          37,
          47,
          16,
          36,
          29,
          588,
          1417,
          102,
          8,
          3677,
          26,
          126,
          47,
          10,
          40,
          13,
          60,
          1570,
          12,
          42,
          9678,
          23,
          75,
          31,
          3690,
          8,
          22,
          19,
          26,
          10,
          13,
          155,
          399,
          235,
          1383,
          9,
          1909,
          60,
          10,
          21,
          35,
          29,
          36,
          22,
          699,
          43,
          35,
          118,
          7,
          101,
          51,
          32,
          5,
          9,
          85,
          24,
          6120,
          406,
          80,
          5,
          46,
          16,
          3565,
          73,
          291,
          17,
          24900,
          27,
          105,
          24,
          6,
          2622,
          2042,
          10,
          25,
          6,
          8,
          69,
          13,
          58,
          17,
          14,
          7,
          384,
          12,
          14,
          18,
          22,
          299,
          47,
          41,
          442,
          17,
          11,
          8,
          36,
          7,
          16,
          14,
          7,
          12,
          11,
          536,
          30,
          45,
          191,
          31,
          6,
          7,
          283,
          10,
          3031,
          411,
          9,
          22,
          101,
          27,
          17,
          17,
          9,
          6,
          235,
          74,
          25,
          245,
          2334,
          13,
          13,
          153,
          32,
          119,
          45,
          28,
          37,
          61,
          1059,
          6,
          6,
          114,
          13,
          29,
          25,
          27,
          14156,
          25,
          43,
          27,
          110,
          6034,
          68,
          153,
          13,
          8,
          352,
          31,
          28,
          82,
          258,
          13,
          156,
          26,
          8,
          23,
          101014,
          13,
          9,
          20,
          14,
          17,
          5,
          27,
          13,
          8,
          3737,
          30,
          1564,
          94,
          344,
          16,
          27,
          21,
          11,
          9,
          25,
          346,
          13,
          25,
          30,
          38,
          12,
          13,
          374,
          20,
          182,
          12,
          15,
          12,
          42,
          35,
          6,
          7,
          14,
          200,
          99,
          1622,
          10,
          221,
          39,
          15,
          196,
          44,
          8,
          13,
          13,
          20,
          1582,
          438,
          193,
          39,
          15,
          176,
          23,
          16,
          25,
          40,
          29,
          67,
          27,
          450,
          138,
          230,
          346,
          185,
          12,
          10,
          7,
          11,
          26,
          8,
          17,
          43,
          9,
          125,
          206,
          67,
          13,
          52,
          4954,
          10,
          2921,
          53,
          160,
          494,
          342,
          15,
          8,
          7,
          151,
          29,
          49,
          9,
          18,
          7,
          783,
          17,
          24,
          44,
          1983,
          206,
          9,
          8,
          20,
          870,
          16,
          11,
          2633,
          232,
          33,
          6,
          16,
          1147,
          22,
          58,
          13,
          18,
          1446,
          8,
          9,
          21,
          47,
          37,
          18,
          11,
          67,
          6,
          27,
          63,
          27,
          69,
          77,
          27,
          10,
          250,
          15,
          11,
          5,
          59,
          30,
          64,
          51,
          29,
          8,
          54,
          18,
          5,
          7,
          27,
          7,
          1020,
          12,
          17,
          7,
          22,
          2740,
          12,
          12,
          28,
          20,
          249,
          14,
          22,
          7,
          37,
          6,
          10,
          15,
          20,
          162,
          5,
          12,
          18,
          92,
          61,
          1272,
          13,
          58,
          12,
          10,
          71,
          119,
          81,
          520,
          215,
          9,
          6,
          62,
          28,
          467,
          27,
          45,
          8,
          29,
          18,
          10,
          27,
          692,
          34,
          15,
          75,
          527,
          20,
          11,
          44,
          12,
          268,
          50,
          365,
          28,
          31,
          193,
          489,
          215,
          7,
          12,
          474,
          134,
          12,
          1781,
          23,
          760,
          264,
          75,
          9,
          215,
          8,
          42,
          7,
          25,
          66,
          10,
          27,
          15,
          9,
          9,
          39,
          26,
          6,
          14,
          31,
          219,
          7,
          594,
          67,
          229,
          62,
          80,
          60,
          65,
          9,
          189,
          33,
          20,
          39,
          12,
          68,
          4964,
          690,
          24,
          6,
          13,
          25,
          58,
          14,
          18,
          25,
          406,
          32,
          55,
          103,
          15,
          246,
          11,
          28,
          7,
          892,
          180,
          20,
          25,
          21,
          6,
          51,
          6,
          7099,
          26,
          24,
          27,
          251,
          446,
          15,
          53,
          34,
          13,
          5,
          20,
          56,
          41,
          1061,
          6922,
          1023,
          101,
          31,
          8,
          337,
          145,
          268,
          444,
          92,
          67,
          678,
          68,
          9,
          77,
          671,
          13,
          13,
          696,
          8,
          96,
          86,
          210,
          63,
          1589,
          22,
          28,
          83029,
          60,
          34,
          9,
          31,
          15,
          31,
          9,
          13,
          43,
          11,
          30,
          6,
          663,
          31,
          20,
          33,
          648,
          3011,
          26,
          85340,
          19,
          1255,
          103,
          93,
          21,
          24,
          8,
          50,
          19,
          302,
          37,
          20,
          20,
          31,
          43,
          47,
          73,
          31,
          6,
          9,
          238,
          53,
          10,
          27,
          525,
          27,
          43,
          311,
          9,
          13,
          8,
          7,
          22,
          10,
          48,
          11,
          9,
          5433,
          15063,
          10,
          425,
          81,
          126,
          540,
          19,
          478,
          18,
          12,
          14,
          265,
          41,
          13,
          97,
          532,
          179,
          41,
          16,
          2139,
          10,
          894,
          34,
          12,
          89,
          7,
          778,
          22,
          243,
          17,
          17337,
          123,
          640,
          14,
          16,
          15,
          793,
          2906,
          87,
          293,
          294,
          21,
          55,
          24,
          17,
          14,
          101,
          108,
          228,
          7,
          8,
          45,
          1553,
          1785,
          35,
          19,
          22,
          485,
          11,
          12,
          34,
          1361,
          1544,
          255,
          75,
          63,
          73,
          13,
          370,
          83,
          24,
          19,
          43,
          34,
          75,
          57,
          45,
          95,
          56,
          43,
          4944,
          86,
          128,
          20,
          17,
          694,
          9,
          78,
          736,
          420,
          13,
          101,
          395,
          18,
          706,
          32,
          7,
          9,
          257,
          12000,
          84,
          5,
          26,
          12,
          12,
          57,
          488,
          254,
          275,
          56,
          36,
          294,
          60,
          73,
          142,
          118,
          14,
          28,
          14461,
          13,
          82,
          9,
          1747,
          597,
          673,
          34,
          83,
          107,
          113,
          122,
          10,
          30,
          32,
          17,
          106,
          50,
          798,
          18,
          239,
          9,
          32,
          504,
          244,
          15,
          13,
          14,
          132,
          10,
          1126,
          9,
          11,
          76,
          15,
          10,
          17,
          500,
          14,
          102,
          15,
          3007,
          16,
          6,
          7,
          14,
          449,
          6,
          9,
          27,
          5,
          6,
          33,
          13,
          7,
          78,
          408
         ],
         "x0": " ",
         "xaxis": "x",
         "y0": " ",
         "yaxis": "y"
        }
       ],
       "layout": {
        "boxmode": "group",
        "legend": {
         "tracegroupgap": 0
        },
        "margin": {
         "t": 60
        },
        "template": {
         "data": {
          "bar": [
           {
            "error_x": {
             "color": "#2a3f5f"
            },
            "error_y": {
             "color": "#2a3f5f"
            },
            "marker": {
             "line": {
              "color": "#E5ECF6",
              "width": 0.5
             },
             "pattern": {
              "fillmode": "overlay",
              "size": 10,
              "solidity": 0.2
             }
            },
            "type": "bar"
           }
          ],
          "barpolar": [
           {
            "marker": {
             "line": {
              "color": "#E5ECF6",
              "width": 0.5
             },
             "pattern": {
              "fillmode": "overlay",
              "size": 10,
              "solidity": 0.2
             }
            },
            "type": "barpolar"
           }
          ],
          "carpet": [
           {
            "aaxis": {
             "endlinecolor": "#2a3f5f",
             "gridcolor": "white",
             "linecolor": "white",
             "minorgridcolor": "white",
             "startlinecolor": "#2a3f5f"
            },
            "baxis": {
             "endlinecolor": "#2a3f5f",
             "gridcolor": "white",
             "linecolor": "white",
             "minorgridcolor": "white",
             "startlinecolor": "#2a3f5f"
            },
            "type": "carpet"
           }
          ],
          "choropleth": [
           {
            "colorbar": {
             "outlinewidth": 0,
             "ticks": ""
            },
            "type": "choropleth"
           }
          ],
          "contour": [
           {
            "colorbar": {
             "outlinewidth": 0,
             "ticks": ""
            },
            "colorscale": [
             [
              0,
              "#0d0887"
             ],
             [
              0.1111111111111111,
              "#46039f"
             ],
             [
              0.2222222222222222,
              "#7201a8"
             ],
             [
              0.3333333333333333,
              "#9c179e"
             ],
             [
              0.4444444444444444,
              "#bd3786"
             ],
             [
              0.5555555555555556,
              "#d8576b"
             ],
             [
              0.6666666666666666,
              "#ed7953"
             ],
             [
              0.7777777777777778,
              "#fb9f3a"
             ],
             [
              0.8888888888888888,
              "#fdca26"
             ],
             [
              1,
              "#f0f921"
             ]
            ],
            "type": "contour"
           }
          ],
          "contourcarpet": [
           {
            "colorbar": {
             "outlinewidth": 0,
             "ticks": ""
            },
            "type": "contourcarpet"
           }
          ],
          "heatmap": [
           {
            "colorbar": {
             "outlinewidth": 0,
             "ticks": ""
            },
            "colorscale": [
             [
              0,
              "#0d0887"
             ],
             [
              0.1111111111111111,
              "#46039f"
             ],
             [
              0.2222222222222222,
              "#7201a8"
             ],
             [
              0.3333333333333333,
              "#9c179e"
             ],
             [
              0.4444444444444444,
              "#bd3786"
             ],
             [
              0.5555555555555556,
              "#d8576b"
             ],
             [
              0.6666666666666666,
              "#ed7953"
             ],
             [
              0.7777777777777778,
              "#fb9f3a"
             ],
             [
              0.8888888888888888,
              "#fdca26"
             ],
             [
              1,
              "#f0f921"
             ]
            ],
            "type": "heatmap"
           }
          ],
          "heatmapgl": [
           {
            "colorbar": {
             "outlinewidth": 0,
             "ticks": ""
            },
            "colorscale": [
             [
              0,
              "#0d0887"
             ],
             [
              0.1111111111111111,
              "#46039f"
             ],
             [
              0.2222222222222222,
              "#7201a8"
             ],
             [
              0.3333333333333333,
              "#9c179e"
             ],
             [
              0.4444444444444444,
              "#bd3786"
             ],
             [
              0.5555555555555556,
              "#d8576b"
             ],
             [
              0.6666666666666666,
              "#ed7953"
             ],
             [
              0.7777777777777778,
              "#fb9f3a"
             ],
             [
              0.8888888888888888,
              "#fdca26"
             ],
             [
              1,
              "#f0f921"
             ]
            ],
            "type": "heatmapgl"
           }
          ],
          "histogram": [
           {
            "marker": {
             "pattern": {
              "fillmode": "overlay",
              "size": 10,
              "solidity": 0.2
             }
            },
            "type": "histogram"
           }
          ],
          "histogram2d": [
           {
            "colorbar": {
             "outlinewidth": 0,
             "ticks": ""
            },
            "colorscale": [
             [
              0,
              "#0d0887"
             ],
             [
              0.1111111111111111,
              "#46039f"
             ],
             [
              0.2222222222222222,
              "#7201a8"
             ],
             [
              0.3333333333333333,
              "#9c179e"
             ],
             [
              0.4444444444444444,
              "#bd3786"
             ],
             [
              0.5555555555555556,
              "#d8576b"
             ],
             [
              0.6666666666666666,
              "#ed7953"
             ],
             [
              0.7777777777777778,
              "#fb9f3a"
             ],
             [
              0.8888888888888888,
              "#fdca26"
             ],
             [
              1,
              "#f0f921"
             ]
            ],
            "type": "histogram2d"
           }
          ],
          "histogram2dcontour": [
           {
            "colorbar": {
             "outlinewidth": 0,
             "ticks": ""
            },
            "colorscale": [
             [
              0,
              "#0d0887"
             ],
             [
              0.1111111111111111,
              "#46039f"
             ],
             [
              0.2222222222222222,
              "#7201a8"
             ],
             [
              0.3333333333333333,
              "#9c179e"
             ],
             [
              0.4444444444444444,
              "#bd3786"
             ],
             [
              0.5555555555555556,
              "#d8576b"
             ],
             [
              0.6666666666666666,
              "#ed7953"
             ],
             [
              0.7777777777777778,
              "#fb9f3a"
             ],
             [
              0.8888888888888888,
              "#fdca26"
             ],
             [
              1,
              "#f0f921"
             ]
            ],
            "type": "histogram2dcontour"
           }
          ],
          "mesh3d": [
           {
            "colorbar": {
             "outlinewidth": 0,
             "ticks": ""
            },
            "type": "mesh3d"
           }
          ],
          "parcoords": [
           {
            "line": {
             "colorbar": {
              "outlinewidth": 0,
              "ticks": ""
             }
            },
            "type": "parcoords"
           }
          ],
          "pie": [
           {
            "automargin": true,
            "type": "pie"
           }
          ],
          "scatter": [
           {
            "fillpattern": {
             "fillmode": "overlay",
             "size": 10,
             "solidity": 0.2
            },
            "type": "scatter"
           }
          ],
          "scatter3d": [
           {
            "line": {
             "colorbar": {
              "outlinewidth": 0,
              "ticks": ""
             }
            },
            "marker": {
             "colorbar": {
              "outlinewidth": 0,
              "ticks": ""
             }
            },
            "type": "scatter3d"
           }
          ],
          "scattercarpet": [
           {
            "marker": {
             "colorbar": {
              "outlinewidth": 0,
              "ticks": ""
             }
            },
            "type": "scattercarpet"
           }
          ],
          "scattergeo": [
           {
            "marker": {
             "colorbar": {
              "outlinewidth": 0,
              "ticks": ""
             }
            },
            "type": "scattergeo"
           }
          ],
          "scattergl": [
           {
            "marker": {
             "colorbar": {
              "outlinewidth": 0,
              "ticks": ""
             }
            },
            "type": "scattergl"
           }
          ],
          "scattermapbox": [
           {
            "marker": {
             "colorbar": {
              "outlinewidth": 0,
              "ticks": ""
             }
            },
            "type": "scattermapbox"
           }
          ],
          "scatterpolar": [
           {
            "marker": {
             "colorbar": {
              "outlinewidth": 0,
              "ticks": ""
             }
            },
            "type": "scatterpolar"
           }
          ],
          "scatterpolargl": [
           {
            "marker": {
             "colorbar": {
              "outlinewidth": 0,
              "ticks": ""
             }
            },
            "type": "scatterpolargl"
           }
          ],
          "scatterternary": [
           {
            "marker": {
             "colorbar": {
              "outlinewidth": 0,
              "ticks": ""
             }
            },
            "type": "scatterternary"
           }
          ],
          "surface": [
           {
            "colorbar": {
             "outlinewidth": 0,
             "ticks": ""
            },
            "colorscale": [
             [
              0,
              "#0d0887"
             ],
             [
              0.1111111111111111,
              "#46039f"
             ],
             [
              0.2222222222222222,
              "#7201a8"
             ],
             [
              0.3333333333333333,
              "#9c179e"
             ],
             [
              0.4444444444444444,
              "#bd3786"
             ],
             [
              0.5555555555555556,
              "#d8576b"
             ],
             [
              0.6666666666666666,
              "#ed7953"
             ],
             [
              0.7777777777777778,
              "#fb9f3a"
             ],
             [
              0.8888888888888888,
              "#fdca26"
             ],
             [
              1,
              "#f0f921"
             ]
            ],
            "type": "surface"
           }
          ],
          "table": [
           {
            "cells": {
             "fill": {
              "color": "#EBF0F8"
             },
             "line": {
              "color": "white"
             }
            },
            "header": {
             "fill": {
              "color": "#C8D4E3"
             },
             "line": {
              "color": "white"
             }
            },
            "type": "table"
           }
          ]
         },
         "layout": {
          "annotationdefaults": {
           "arrowcolor": "#2a3f5f",
           "arrowhead": 0,
           "arrowwidth": 1
          },
          "autotypenumbers": "strict",
          "coloraxis": {
           "colorbar": {
            "outlinewidth": 0,
            "ticks": ""
           }
          },
          "colorscale": {
           "diverging": [
            [
             0,
             "#8e0152"
            ],
            [
             0.1,
             "#c51b7d"
            ],
            [
             0.2,
             "#de77ae"
            ],
            [
             0.3,
             "#f1b6da"
            ],
            [
             0.4,
             "#fde0ef"
            ],
            [
             0.5,
             "#f7f7f7"
            ],
            [
             0.6,
             "#e6f5d0"
            ],
            [
             0.7,
             "#b8e186"
            ],
            [
             0.8,
             "#7fbc41"
            ],
            [
             0.9,
             "#4d9221"
            ],
            [
             1,
             "#276419"
            ]
           ],
           "sequential": [
            [
             0,
             "#0d0887"
            ],
            [
             0.1111111111111111,
             "#46039f"
            ],
            [
             0.2222222222222222,
             "#7201a8"
            ],
            [
             0.3333333333333333,
             "#9c179e"
            ],
            [
             0.4444444444444444,
             "#bd3786"
            ],
            [
             0.5555555555555556,
             "#d8576b"
            ],
            [
             0.6666666666666666,
             "#ed7953"
            ],
            [
             0.7777777777777778,
             "#fb9f3a"
            ],
            [
             0.8888888888888888,
             "#fdca26"
            ],
            [
             1,
             "#f0f921"
            ]
           ],
           "sequentialminus": [
            [
             0,
             "#0d0887"
            ],
            [
             0.1111111111111111,
             "#46039f"
            ],
            [
             0.2222222222222222,
             "#7201a8"
            ],
            [
             0.3333333333333333,
             "#9c179e"
            ],
            [
             0.4444444444444444,
             "#bd3786"
            ],
            [
             0.5555555555555556,
             "#d8576b"
            ],
            [
             0.6666666666666666,
             "#ed7953"
            ],
            [
             0.7777777777777778,
             "#fb9f3a"
            ],
            [
             0.8888888888888888,
             "#fdca26"
            ],
            [
             1,
             "#f0f921"
            ]
           ]
          },
          "colorway": [
           "#636efa",
           "#EF553B",
           "#00cc96",
           "#ab63fa",
           "#FFA15A",
           "#19d3f3",
           "#FF6692",
           "#B6E880",
           "#FF97FF",
           "#FECB52"
          ],
          "font": {
           "color": "#2a3f5f"
          },
          "geo": {
           "bgcolor": "white",
           "lakecolor": "white",
           "landcolor": "#E5ECF6",
           "showlakes": true,
           "showland": true,
           "subunitcolor": "white"
          },
          "hoverlabel": {
           "align": "left"
          },
          "hovermode": "closest",
          "mapbox": {
           "style": "light"
          },
          "paper_bgcolor": "white",
          "plot_bgcolor": "#E5ECF6",
          "polar": {
           "angularaxis": {
            "gridcolor": "white",
            "linecolor": "white",
            "ticks": ""
           },
           "bgcolor": "#E5ECF6",
           "radialaxis": {
            "gridcolor": "white",
            "linecolor": "white",
            "ticks": ""
           }
          },
          "scene": {
           "xaxis": {
            "backgroundcolor": "#E5ECF6",
            "gridcolor": "white",
            "gridwidth": 2,
            "linecolor": "white",
            "showbackground": true,
            "ticks": "",
            "zerolinecolor": "white"
           },
           "yaxis": {
            "backgroundcolor": "#E5ECF6",
            "gridcolor": "white",
            "gridwidth": 2,
            "linecolor": "white",
            "showbackground": true,
            "ticks": "",
            "zerolinecolor": "white"
           },
           "zaxis": {
            "backgroundcolor": "#E5ECF6",
            "gridcolor": "white",
            "gridwidth": 2,
            "linecolor": "white",
            "showbackground": true,
            "ticks": "",
            "zerolinecolor": "white"
           }
          },
          "shapedefaults": {
           "line": {
            "color": "#2a3f5f"
           }
          },
          "ternary": {
           "aaxis": {
            "gridcolor": "white",
            "linecolor": "white",
            "ticks": ""
           },
           "baxis": {
            "gridcolor": "white",
            "linecolor": "white",
            "ticks": ""
           },
           "bgcolor": "#E5ECF6",
           "caxis": {
            "gridcolor": "white",
            "linecolor": "white",
            "ticks": ""
           }
          },
          "title": {
           "x": 0.05
          },
          "xaxis": {
           "automargin": true,
           "gridcolor": "white",
           "linecolor": "white",
           "ticks": "",
           "title": {
            "standoff": 15
           },
           "zerolinecolor": "white",
           "zerolinewidth": 2
          },
          "yaxis": {
           "automargin": true,
           "gridcolor": "white",
           "linecolor": "white",
           "ticks": "",
           "title": {
            "standoff": 15
           },
           "zerolinecolor": "white",
           "zerolinewidth": 2
          }
         }
        },
        "title": {
         "text": "Distribution of Votes"
        },
        "xaxis": {
         "anchor": "y",
         "domain": [
          0,
          1
         ],
         "title": {
          "text": "Votes"
         }
        },
        "yaxis": {
         "anchor": "x",
         "domain": [
          0,
          1
         ],
         "title": {
          "text": "Probability Density"
         }
        }
       }
      },
      "text/html": [
       "<div>                            <div id=\"df14a9d1-2f68-470d-aa69-9d4158cd4d51\" class=\"plotly-graph-div\" style=\"height:525px; width:100%;\"></div>            <script type=\"text/javascript\">                require([\"plotly\"], function(Plotly) {                    window.PLOTLYENV=window.PLOTLYENV || {};                                    if (document.getElementById(\"df14a9d1-2f68-470d-aa69-9d4158cd4d51\")) {                    Plotly.newPlot(                        \"df14a9d1-2f68-470d-aa69-9d4158cd4d51\",                        [{\"alignmentgroup\":\"True\",\"hovertemplate\":\"Votes=%{x}<extra></extra>\",\"legendgroup\":\"\",\"marker\":{\"color\":\"#636efa\"},\"name\":\"\",\"notched\":false,\"offsetgroup\":\"\",\"orientation\":\"h\",\"showlegend\":false,\"x\":[8,17,59,1002,15,16,20,106,94,361,194,35,358,93,80,6,75,171,31,7,10,9,412,10,17,80,142,24,249,339,16,264,150,18,69,19,66,62,266,13,93,21,52,7,281,15,15,30,122,17,26,922,37,102,49,15,160,44,230,13,1259,85,203,10,6,88,172,7,85,80,6,64,109,11,8,76,12,7,14,33,53,24,53,52,52,973,32,10,4780,11,7,8,349,37,137,11,384,7,1622,23,17,14,41,16,47,11,856,1636,636,48,71,46,1185,5,43,29,13,94,19,9,109,7,124,115,6,25,6,68,50,137,12,8,7,38,645,33,5,204,1807,7,5383,36,36,16,44,223,64,571,150,21,5,34,40,432,11,5,10,16,20,356,271,165,9,6,66,7,7,123,25,805,10,14,72,6,63,18,54,23,10,16,42,29,85,13,9,7,12370,24,17,8,50,1533,21,7,7,6,9,101,4685,288,15,10,1873,14,10,75,30,35,18,26,18,10,68,24,15,29,11,15,34,58,132,6,8,24,18,9,74,1257,9,367,1968,147,403,585,23,22,34,26,17,22,8,882,33,51,27,365,45,33782,38,201,112,20,257,12,115,5124,7,10,13,19,17,456,356,323,25,982,41,6,862,36,13,31,162,122,26,8,656,24,141,28,101,45,336,676,185,2108,13,35,54,16,9,43,10,5,39,11,39,70,60,44,159,7,15,299,82,22,140,86,954,142,117,11,35,30,15,62,189,5,941,4826,7,22,16,102,7,22,10,9,433,101,58,15,191,1957,4338,179,105,54,32,75,22,40,285,15,5,52,127,24,727,64,8,191,8,329,62,3207,1962,57,19,6,15,252,10,22,66,284,24,7256,48,50,11,126,15,31,15,16,13,57,16,2118,87,388,12695,158,242,7,19,78,88,170,20,103,213,21,22,10,58,575,421,1857,20,88,5,24,9,6,24,29,6,7,47,33,5785,46,44,37,62,18,128,6,15,84,850,7,13,2610,31,50,17,1556,652,200,27,10,10,16,46,13,30,6,124,554,14,5,78,257,14,78,104,186,17,10,43,30,15,8,18,15,52,394,502,21,12,472,8,37,77,62,3371,9,26,261,47,11,13,365,23,57,52,48,191,4890,72,97,47,9,454,77,106,181,89,8,56,6,17,7,11,106,30,15,689,398,64,85,36,56,45,113,42,75,360,65,13,640,2708,51,64,344,23,184,46,58,37,15644,38,27,47,672,49,1770,209,7,14,345,40,41,9,5,14,11,1208,25,52,18,8,28,10,43,1055,23,796,11,1251,25,8,3781,45,92,35,50,31,17,31,101,11,274,4744,9,1042,3167,33,4132,166,303,7,14,18,11,1747,15,10,1486,36,37,442,286,28,10,15,47,19,42,10,27,51,9,118,27,948,897,17,700,25,20,117,36,27,7,218,57,38,52,131,32,5,38,143,96,151,10,151,315,503,9,18,8,48,7,43,5,68,38,40,14,17,31,23,8,5,19,87,1242,454,15,33,11,9,8,3336,5,37,8,7,26,99,17,18,22,55,22,9,12,6,672,15,330,129,167,301,32,263,47,188,49,12,21,137,22,18,8,6,8,30,24,31,29,136,2136,203,7,9,13,85,17,259,76,317,76,5,985,48,7,24,104,131,18,65,95,6,39,13,17,55,212,12,8,39,1098,23,64,30,16,29,49,10,24,46,216,23,221,12,52,242,16,49,27,7,21,21,39,41,8,7,77,27,293,17,320,7,8,12,12,93,20,128,197,102,26,514,51,15,1523,20,6,28,31,23,302,126,41,15,18,820,70,46,6,7,171,10,4165,3748,56,7,20,16,55,129,37,14,16,117,9,8,278,77,7,32,9,18,116,37,47,16,36,29,588,1417,102,8,3677,26,126,47,10,40,13,60,1570,12,42,9678,23,75,31,3690,8,22,19,26,10,13,155,399,235,1383,9,1909,60,10,21,35,29,36,22,699,43,35,118,7,101,51,32,5,9,85,24,6120,406,80,5,46,16,3565,73,291,17,24900,27,105,24,6,2622,2042,10,25,6,8,69,13,58,17,14,7,384,12,14,18,22,299,47,41,442,17,11,8,36,7,16,14,7,12,11,536,30,45,191,31,6,7,283,10,3031,411,9,22,101,27,17,17,9,6,235,74,25,245,2334,13,13,153,32,119,45,28,37,61,1059,6,6,114,13,29,25,27,14156,25,43,27,110,6034,68,153,13,8,352,31,28,82,258,13,156,26,8,23,101014,13,9,20,14,17,5,27,13,8,3737,30,1564,94,344,16,27,21,11,9,25,346,13,25,30,38,12,13,374,20,182,12,15,12,42,35,6,7,14,200,99,1622,10,221,39,15,196,44,8,13,13,20,1582,438,193,39,15,176,23,16,25,40,29,67,27,450,138,230,346,185,12,10,7,11,26,8,17,43,9,125,206,67,13,52,4954,10,2921,53,160,494,342,15,8,7,151,29,49,9,18,7,783,17,24,44,1983,206,9,8,20,870,16,11,2633,232,33,6,16,1147,22,58,13,18,1446,8,9,21,47,37,18,11,67,6,27,63,27,69,77,27,10,250,15,11,5,59,30,64,51,29,8,54,18,5,7,27,7,1020,12,17,7,22,2740,12,12,28,20,249,14,22,7,37,6,10,15,20,162,5,12,18,92,61,1272,13,58,12,10,71,119,81,520,215,9,6,62,28,467,27,45,8,29,18,10,27,692,34,15,75,527,20,11,44,12,268,50,365,28,31,193,489,215,7,12,474,134,12,1781,23,760,264,75,9,215,8,42,7,25,66,10,27,15,9,9,39,26,6,14,31,219,7,594,67,229,62,80,60,65,9,189,33,20,39,12,68,4964,690,24,6,13,25,58,14,18,25,406,32,55,103,15,246,11,28,7,892,180,20,25,21,6,51,6,7099,26,24,27,251,446,15,53,34,13,5,20,56,41,1061,6922,1023,101,31,8,337,145,268,444,92,67,678,68,9,77,671,13,13,696,8,96,86,210,63,1589,22,28,83029,60,34,9,31,15,31,9,13,43,11,30,6,663,31,20,33,648,3011,26,85340,19,1255,103,93,21,24,8,50,19,302,37,20,20,31,43,47,73,31,6,9,238,53,10,27,525,27,43,311,9,13,8,7,22,10,48,11,9,5433,15063,10,425,81,126,540,19,478,18,12,14,265,41,13,97,532,179,41,16,2139,10,894,34,12,89,7,778,22,243,17,17337,123,640,14,16,15,793,2906,87,293,294,21,55,24,17,14,101,108,228,7,8,45,1553,1785,35,19,22,485,11,12,34,1361,1544,255,75,63,73,13,370,83,24,19,43,34,75,57,45,95,56,43,4944,86,128,20,17,694,9,78,736,420,13,101,395,18,706,32,7,9,257,12000,84,5,26,12,12,57,488,254,275,56,36,294,60,73,142,118,14,28,14461,13,82,9,1747,597,673,34,83,107,113,122,10,30,32,17,106,50,798,18,239,9,32,504,244,15,13,14,132,10,1126,9,11,76,15,10,17,500,14,102,15,3007,16,6,7,14,449,6,9,27,5,6,33,13,7,78,408],\"x0\":\" \",\"xaxis\":\"x\",\"y0\":\" \",\"yaxis\":\"y\",\"type\":\"box\"}],                        {\"template\":{\"data\":{\"histogram2dcontour\":[{\"type\":\"histogram2dcontour\",\"colorbar\":{\"outlinewidth\":0,\"ticks\":\"\"},\"colorscale\":[[0.0,\"#0d0887\"],[0.1111111111111111,\"#46039f\"],[0.2222222222222222,\"#7201a8\"],[0.3333333333333333,\"#9c179e\"],[0.4444444444444444,\"#bd3786\"],[0.5555555555555556,\"#d8576b\"],[0.6666666666666666,\"#ed7953\"],[0.7777777777777778,\"#fb9f3a\"],[0.8888888888888888,\"#fdca26\"],[1.0,\"#f0f921\"]]}],\"choropleth\":[{\"type\":\"choropleth\",\"colorbar\":{\"outlinewidth\":0,\"ticks\":\"\"}}],\"histogram2d\":[{\"type\":\"histogram2d\",\"colorbar\":{\"outlinewidth\":0,\"ticks\":\"\"},\"colorscale\":[[0.0,\"#0d0887\"],[0.1111111111111111,\"#46039f\"],[0.2222222222222222,\"#7201a8\"],[0.3333333333333333,\"#9c179e\"],[0.4444444444444444,\"#bd3786\"],[0.5555555555555556,\"#d8576b\"],[0.6666666666666666,\"#ed7953\"],[0.7777777777777778,\"#fb9f3a\"],[0.8888888888888888,\"#fdca26\"],[1.0,\"#f0f921\"]]}],\"heatmap\":[{\"type\":\"heatmap\",\"colorbar\":{\"outlinewidth\":0,\"ticks\":\"\"},\"colorscale\":[[0.0,\"#0d0887\"],[0.1111111111111111,\"#46039f\"],[0.2222222222222222,\"#7201a8\"],[0.3333333333333333,\"#9c179e\"],[0.4444444444444444,\"#bd3786\"],[0.5555555555555556,\"#d8576b\"],[0.6666666666666666,\"#ed7953\"],[0.7777777777777778,\"#fb9f3a\"],[0.8888888888888888,\"#fdca26\"],[1.0,\"#f0f921\"]]}],\"heatmapgl\":[{\"type\":\"heatmapgl\",\"colorbar\":{\"outlinewidth\":0,\"ticks\":\"\"},\"colorscale\":[[0.0,\"#0d0887\"],[0.1111111111111111,\"#46039f\"],[0.2222222222222222,\"#7201a8\"],[0.3333333333333333,\"#9c179e\"],[0.4444444444444444,\"#bd3786\"],[0.5555555555555556,\"#d8576b\"],[0.6666666666666666,\"#ed7953\"],[0.7777777777777778,\"#fb9f3a\"],[0.8888888888888888,\"#fdca26\"],[1.0,\"#f0f921\"]]}],\"contourcarpet\":[{\"type\":\"contourcarpet\",\"colorbar\":{\"outlinewidth\":0,\"ticks\":\"\"}}],\"contour\":[{\"type\":\"contour\",\"colorbar\":{\"outlinewidth\":0,\"ticks\":\"\"},\"colorscale\":[[0.0,\"#0d0887\"],[0.1111111111111111,\"#46039f\"],[0.2222222222222222,\"#7201a8\"],[0.3333333333333333,\"#9c179e\"],[0.4444444444444444,\"#bd3786\"],[0.5555555555555556,\"#d8576b\"],[0.6666666666666666,\"#ed7953\"],[0.7777777777777778,\"#fb9f3a\"],[0.8888888888888888,\"#fdca26\"],[1.0,\"#f0f921\"]]}],\"surface\":[{\"type\":\"surface\",\"colorbar\":{\"outlinewidth\":0,\"ticks\":\"\"},\"colorscale\":[[0.0,\"#0d0887\"],[0.1111111111111111,\"#46039f\"],[0.2222222222222222,\"#7201a8\"],[0.3333333333333333,\"#9c179e\"],[0.4444444444444444,\"#bd3786\"],[0.5555555555555556,\"#d8576b\"],[0.6666666666666666,\"#ed7953\"],[0.7777777777777778,\"#fb9f3a\"],[0.8888888888888888,\"#fdca26\"],[1.0,\"#f0f921\"]]}],\"mesh3d\":[{\"type\":\"mesh3d\",\"colorbar\":{\"outlinewidth\":0,\"ticks\":\"\"}}],\"scatter\":[{\"fillpattern\":{\"fillmode\":\"overlay\",\"size\":10,\"solidity\":0.2},\"type\":\"scatter\"}],\"parcoords\":[{\"type\":\"parcoords\",\"line\":{\"colorbar\":{\"outlinewidth\":0,\"ticks\":\"\"}}}],\"scatterpolargl\":[{\"type\":\"scatterpolargl\",\"marker\":{\"colorbar\":{\"outlinewidth\":0,\"ticks\":\"\"}}}],\"bar\":[{\"error_x\":{\"color\":\"#2a3f5f\"},\"error_y\":{\"color\":\"#2a3f5f\"},\"marker\":{\"line\":{\"color\":\"#E5ECF6\",\"width\":0.5},\"pattern\":{\"fillmode\":\"overlay\",\"size\":10,\"solidity\":0.2}},\"type\":\"bar\"}],\"scattergeo\":[{\"type\":\"scattergeo\",\"marker\":{\"colorbar\":{\"outlinewidth\":0,\"ticks\":\"\"}}}],\"scatterpolar\":[{\"type\":\"scatterpolar\",\"marker\":{\"colorbar\":{\"outlinewidth\":0,\"ticks\":\"\"}}}],\"histogram\":[{\"marker\":{\"pattern\":{\"fillmode\":\"overlay\",\"size\":10,\"solidity\":0.2}},\"type\":\"histogram\"}],\"scattergl\":[{\"type\":\"scattergl\",\"marker\":{\"colorbar\":{\"outlinewidth\":0,\"ticks\":\"\"}}}],\"scatter3d\":[{\"type\":\"scatter3d\",\"line\":{\"colorbar\":{\"outlinewidth\":0,\"ticks\":\"\"}},\"marker\":{\"colorbar\":{\"outlinewidth\":0,\"ticks\":\"\"}}}],\"scattermapbox\":[{\"type\":\"scattermapbox\",\"marker\":{\"colorbar\":{\"outlinewidth\":0,\"ticks\":\"\"}}}],\"scatterternary\":[{\"type\":\"scatterternary\",\"marker\":{\"colorbar\":{\"outlinewidth\":0,\"ticks\":\"\"}}}],\"scattercarpet\":[{\"type\":\"scattercarpet\",\"marker\":{\"colorbar\":{\"outlinewidth\":0,\"ticks\":\"\"}}}],\"carpet\":[{\"aaxis\":{\"endlinecolor\":\"#2a3f5f\",\"gridcolor\":\"white\",\"linecolor\":\"white\",\"minorgridcolor\":\"white\",\"startlinecolor\":\"#2a3f5f\"},\"baxis\":{\"endlinecolor\":\"#2a3f5f\",\"gridcolor\":\"white\",\"linecolor\":\"white\",\"minorgridcolor\":\"white\",\"startlinecolor\":\"#2a3f5f\"},\"type\":\"carpet\"}],\"table\":[{\"cells\":{\"fill\":{\"color\":\"#EBF0F8\"},\"line\":{\"color\":\"white\"}},\"header\":{\"fill\":{\"color\":\"#C8D4E3\"},\"line\":{\"color\":\"white\"}},\"type\":\"table\"}],\"barpolar\":[{\"marker\":{\"line\":{\"color\":\"#E5ECF6\",\"width\":0.5},\"pattern\":{\"fillmode\":\"overlay\",\"size\":10,\"solidity\":0.2}},\"type\":\"barpolar\"}],\"pie\":[{\"automargin\":true,\"type\":\"pie\"}]},\"layout\":{\"autotypenumbers\":\"strict\",\"colorway\":[\"#636efa\",\"#EF553B\",\"#00cc96\",\"#ab63fa\",\"#FFA15A\",\"#19d3f3\",\"#FF6692\",\"#B6E880\",\"#FF97FF\",\"#FECB52\"],\"font\":{\"color\":\"#2a3f5f\"},\"hovermode\":\"closest\",\"hoverlabel\":{\"align\":\"left\"},\"paper_bgcolor\":\"white\",\"plot_bgcolor\":\"#E5ECF6\",\"polar\":{\"bgcolor\":\"#E5ECF6\",\"angularaxis\":{\"gridcolor\":\"white\",\"linecolor\":\"white\",\"ticks\":\"\"},\"radialaxis\":{\"gridcolor\":\"white\",\"linecolor\":\"white\",\"ticks\":\"\"}},\"ternary\":{\"bgcolor\":\"#E5ECF6\",\"aaxis\":{\"gridcolor\":\"white\",\"linecolor\":\"white\",\"ticks\":\"\"},\"baxis\":{\"gridcolor\":\"white\",\"linecolor\":\"white\",\"ticks\":\"\"},\"caxis\":{\"gridcolor\":\"white\",\"linecolor\":\"white\",\"ticks\":\"\"}},\"coloraxis\":{\"colorbar\":{\"outlinewidth\":0,\"ticks\":\"\"}},\"colorscale\":{\"sequential\":[[0.0,\"#0d0887\"],[0.1111111111111111,\"#46039f\"],[0.2222222222222222,\"#7201a8\"],[0.3333333333333333,\"#9c179e\"],[0.4444444444444444,\"#bd3786\"],[0.5555555555555556,\"#d8576b\"],[0.6666666666666666,\"#ed7953\"],[0.7777777777777778,\"#fb9f3a\"],[0.8888888888888888,\"#fdca26\"],[1.0,\"#f0f921\"]],\"sequentialminus\":[[0.0,\"#0d0887\"],[0.1111111111111111,\"#46039f\"],[0.2222222222222222,\"#7201a8\"],[0.3333333333333333,\"#9c179e\"],[0.4444444444444444,\"#bd3786\"],[0.5555555555555556,\"#d8576b\"],[0.6666666666666666,\"#ed7953\"],[0.7777777777777778,\"#fb9f3a\"],[0.8888888888888888,\"#fdca26\"],[1.0,\"#f0f921\"]],\"diverging\":[[0,\"#8e0152\"],[0.1,\"#c51b7d\"],[0.2,\"#de77ae\"],[0.3,\"#f1b6da\"],[0.4,\"#fde0ef\"],[0.5,\"#f7f7f7\"],[0.6,\"#e6f5d0\"],[0.7,\"#b8e186\"],[0.8,\"#7fbc41\"],[0.9,\"#4d9221\"],[1,\"#276419\"]]},\"xaxis\":{\"gridcolor\":\"white\",\"linecolor\":\"white\",\"ticks\":\"\",\"title\":{\"standoff\":15},\"zerolinecolor\":\"white\",\"automargin\":true,\"zerolinewidth\":2},\"yaxis\":{\"gridcolor\":\"white\",\"linecolor\":\"white\",\"ticks\":\"\",\"title\":{\"standoff\":15},\"zerolinecolor\":\"white\",\"automargin\":true,\"zerolinewidth\":2},\"scene\":{\"xaxis\":{\"backgroundcolor\":\"#E5ECF6\",\"gridcolor\":\"white\",\"linecolor\":\"white\",\"showbackground\":true,\"ticks\":\"\",\"zerolinecolor\":\"white\",\"gridwidth\":2},\"yaxis\":{\"backgroundcolor\":\"#E5ECF6\",\"gridcolor\":\"white\",\"linecolor\":\"white\",\"showbackground\":true,\"ticks\":\"\",\"zerolinecolor\":\"white\",\"gridwidth\":2},\"zaxis\":{\"backgroundcolor\":\"#E5ECF6\",\"gridcolor\":\"white\",\"linecolor\":\"white\",\"showbackground\":true,\"ticks\":\"\",\"zerolinecolor\":\"white\",\"gridwidth\":2}},\"shapedefaults\":{\"line\":{\"color\":\"#2a3f5f\"}},\"annotationdefaults\":{\"arrowcolor\":\"#2a3f5f\",\"arrowhead\":0,\"arrowwidth\":1},\"geo\":{\"bgcolor\":\"white\",\"landcolor\":\"#E5ECF6\",\"subunitcolor\":\"white\",\"showland\":true,\"showlakes\":true,\"lakecolor\":\"white\"},\"title\":{\"x\":0.05},\"mapbox\":{\"style\":\"light\"}}},\"xaxis\":{\"anchor\":\"y\",\"domain\":[0.0,1.0],\"title\":{\"text\":\"Votes\"}},\"yaxis\":{\"anchor\":\"x\",\"domain\":[0.0,1.0],\"title\":{\"text\":\"Probability Density\"}},\"legend\":{\"tracegroupgap\":0},\"margin\":{\"t\":60},\"boxmode\":\"group\",\"title\":{\"text\":\"Distribution of Votes\"}},                        {\"responsive\": true}                    ).then(function(){\n",
       "                            \n",
       "var gd = document.getElementById('df14a9d1-2f68-470d-aa69-9d4158cd4d51');\n",
       "var x = new MutationObserver(function (mutations, observer) {{\n",
       "        var display = window.getComputedStyle(gd).display;\n",
       "        if (!display || display === 'none') {{\n",
       "            console.log([gd, 'removed!']);\n",
       "            Plotly.purge(gd);\n",
       "            observer.disconnect();\n",
       "        }}\n",
       "}});\n",
       "\n",
       "// Listen for the removal of the full notebook cells\n",
       "var notebookContainer = gd.closest('#notebook-container');\n",
       "if (notebookContainer) {{\n",
       "    x.observe(notebookContainer, {childList: true});\n",
       "}}\n",
       "\n",
       "// Listen for the clearing of the current output cell\n",
       "var outputEl = gd.closest('.output');\n",
       "if (outputEl) {{\n",
       "    x.observe(outputEl, {childList: true});\n",
       "}}\n",
       "\n",
       "                        })                };                });            </script>        </div>"
      ]
     },
     "metadata": {},
     "output_type": "display_data"
    }
   ],
   "source": [
    "fig_votes = px.box(df, x = 'Votes')\n",
    "fig_votes.update_layout(title='Distribution of Votes',xaxis_title='Votes', yaxis_title='Probability Density')\n",
    "fig_votes.show()"
   ]
  },
  {
   "cell_type": "markdown",
   "id": "f0ad5810",
   "metadata": {},
   "source": [
    "### Bivariate Analysis"
   ]
  }
 ],
 "metadata": {
  "kernelspec": {
   "display_name": "Python 3 (ipykernel)",
   "language": "python",
   "name": "python3"
  },
  "language_info": {
   "codemirror_mode": {
    "name": "ipython",
    "version": 3
   },
   "file_extension": ".py",
   "mimetype": "text/x-python",
   "name": "python",
   "nbconvert_exporter": "python",
   "pygments_lexer": "ipython3",
   "version": "3.9.2"
  }
 },
 "nbformat": 4,
 "nbformat_minor": 5
}
